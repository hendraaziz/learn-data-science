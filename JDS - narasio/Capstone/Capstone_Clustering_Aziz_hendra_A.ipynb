{
  "nbformat": 4,
  "nbformat_minor": 0,
  "metadata": {
    "kernelspec": {
      "display_name": "Python 3",
      "language": "python",
      "name": "python3"
    },
    "language_info": {
      "codemirror_mode": {
        "name": "ipython",
        "version": 3
      },
      "file_extension": ".py",
      "mimetype": "text/x-python",
      "name": "python",
      "nbconvert_exporter": "python",
      "pygments_lexer": "ipython3",
      "version": "3.7.7"
    },
    "colab": {
      "provenance": [],
      "collapsed_sections": []
    }
  },
  "cells": [
    {
      "cell_type": "markdown",
      "metadata": {
        "id": "zc29lH9pKh0F"
      },
      "source": [
        "## CAPSTONE PROJECT - CLUSTERING \n",
        "## AZIZ HENDRA ATMAJA - CUSTOMER SEGMENTATION 1"
      ]
    },
    {
      "cell_type": "markdown",
      "metadata": {
        "id": "rjW1H_nSKh0H"
      },
      "source": [
        "#### IMPORT PACKAGES"
      ]
    },
    {
      "cell_type": "code",
      "metadata": {
        "id": "ETy00HkCKh0J"
      },
      "source": [
        "# import package\n",
        "import os\n",
        "import pandas as pd\n",
        "import numpy as np\n",
        "import statistics\n",
        "from sklearn.preprocessing import LabelEncoder, StandardScaler, MinMaxScaler\n",
        "from sklearn.cluster import KMeans\n",
        "from sklearn.metrics import silhouette_score\n",
        "\n",
        "\n",
        "# Package untuk visualisasi\n",
        "import seaborn as sns\n",
        "import matplotlib.pyplot as plt"
      ],
      "execution_count": 1,
      "outputs": []
    },
    {
      "cell_type": "markdown",
      "metadata": {
        "id": "m0HzYap9Kh0J"
      },
      "source": [
        "#### READ DATASET"
      ]
    },
    {
      "cell_type": "code",
      "metadata": {
        "id": "xCnHZjbfKh0K"
      },
      "source": [
        "url_data = ('https://raw.githubusercontent.com/hendraaziz/dataset/main/JDS-Narasio/capstone/marketing.csv')\n",
        "df = pd.read_csv(url_data,sep=\";\")"
      ],
      "execution_count": 2,
      "outputs": []
    },
    {
      "cell_type": "code",
      "source": [
        "df.head()"
      ],
      "metadata": {
        "colab": {
          "base_uri": "https://localhost:8080/",
          "height": 270
        },
        "id": "quJNHPt7LdSa",
        "outputId": "3dce0c03-8b42-44a7-f333-c71cc841f6d5"
      },
      "execution_count": 3,
      "outputs": [
        {
          "output_type": "execute_result",
          "data": {
            "text/plain": [
              "     ID  tahun_lahir  Pendidikan Status_pernikahan  Pendapatan  jumlah_anak  \\\n",
              "0  5524         1957  Graduation            Single     58138.0            0   \n",
              "1  2174         1954  Graduation            Single     46344.0            1   \n",
              "2  4141         1965  Graduation          Together     71613.0            0   \n",
              "3  6182         1984  Graduation          Together     26646.0            1   \n",
              "4  5324         1981         PhD           Married     58293.0            1   \n",
              "\n",
              "   jumlah_remaja tanggal_pendaftaran  recency  Spent_wine  Spent_buah  \\\n",
              "0              0          04/09/2012       58         635          88   \n",
              "1              1          08/03/2014       38          11           1   \n",
              "2              0          21/08/2013       26         426          49   \n",
              "3              0          10/02/2014       26          11           4   \n",
              "4              0          19/01/2014       94         173          43   \n",
              "\n",
              "   Spent_daging  Spent_ikan  Spent_emas  \n",
              "0           546         172          88  \n",
              "1             6           2           6  \n",
              "2           127         111          42  \n",
              "3            20          10           5  \n",
              "4           118          46          15  "
            ],
            "text/html": [
              "\n",
              "  <div id=\"df-8e8d2bb0-5d7b-444e-a0bd-3b417bc84ccd\">\n",
              "    <div class=\"colab-df-container\">\n",
              "      <div>\n",
              "<style scoped>\n",
              "    .dataframe tbody tr th:only-of-type {\n",
              "        vertical-align: middle;\n",
              "    }\n",
              "\n",
              "    .dataframe tbody tr th {\n",
              "        vertical-align: top;\n",
              "    }\n",
              "\n",
              "    .dataframe thead th {\n",
              "        text-align: right;\n",
              "    }\n",
              "</style>\n",
              "<table border=\"1\" class=\"dataframe\">\n",
              "  <thead>\n",
              "    <tr style=\"text-align: right;\">\n",
              "      <th></th>\n",
              "      <th>ID</th>\n",
              "      <th>tahun_lahir</th>\n",
              "      <th>Pendidikan</th>\n",
              "      <th>Status_pernikahan</th>\n",
              "      <th>Pendapatan</th>\n",
              "      <th>jumlah_anak</th>\n",
              "      <th>jumlah_remaja</th>\n",
              "      <th>tanggal_pendaftaran</th>\n",
              "      <th>recency</th>\n",
              "      <th>Spent_wine</th>\n",
              "      <th>Spent_buah</th>\n",
              "      <th>Spent_daging</th>\n",
              "      <th>Spent_ikan</th>\n",
              "      <th>Spent_emas</th>\n",
              "    </tr>\n",
              "  </thead>\n",
              "  <tbody>\n",
              "    <tr>\n",
              "      <th>0</th>\n",
              "      <td>5524</td>\n",
              "      <td>1957</td>\n",
              "      <td>Graduation</td>\n",
              "      <td>Single</td>\n",
              "      <td>58138.0</td>\n",
              "      <td>0</td>\n",
              "      <td>0</td>\n",
              "      <td>04/09/2012</td>\n",
              "      <td>58</td>\n",
              "      <td>635</td>\n",
              "      <td>88</td>\n",
              "      <td>546</td>\n",
              "      <td>172</td>\n",
              "      <td>88</td>\n",
              "    </tr>\n",
              "    <tr>\n",
              "      <th>1</th>\n",
              "      <td>2174</td>\n",
              "      <td>1954</td>\n",
              "      <td>Graduation</td>\n",
              "      <td>Single</td>\n",
              "      <td>46344.0</td>\n",
              "      <td>1</td>\n",
              "      <td>1</td>\n",
              "      <td>08/03/2014</td>\n",
              "      <td>38</td>\n",
              "      <td>11</td>\n",
              "      <td>1</td>\n",
              "      <td>6</td>\n",
              "      <td>2</td>\n",
              "      <td>6</td>\n",
              "    </tr>\n",
              "    <tr>\n",
              "      <th>2</th>\n",
              "      <td>4141</td>\n",
              "      <td>1965</td>\n",
              "      <td>Graduation</td>\n",
              "      <td>Together</td>\n",
              "      <td>71613.0</td>\n",
              "      <td>0</td>\n",
              "      <td>0</td>\n",
              "      <td>21/08/2013</td>\n",
              "      <td>26</td>\n",
              "      <td>426</td>\n",
              "      <td>49</td>\n",
              "      <td>127</td>\n",
              "      <td>111</td>\n",
              "      <td>42</td>\n",
              "    </tr>\n",
              "    <tr>\n",
              "      <th>3</th>\n",
              "      <td>6182</td>\n",
              "      <td>1984</td>\n",
              "      <td>Graduation</td>\n",
              "      <td>Together</td>\n",
              "      <td>26646.0</td>\n",
              "      <td>1</td>\n",
              "      <td>0</td>\n",
              "      <td>10/02/2014</td>\n",
              "      <td>26</td>\n",
              "      <td>11</td>\n",
              "      <td>4</td>\n",
              "      <td>20</td>\n",
              "      <td>10</td>\n",
              "      <td>5</td>\n",
              "    </tr>\n",
              "    <tr>\n",
              "      <th>4</th>\n",
              "      <td>5324</td>\n",
              "      <td>1981</td>\n",
              "      <td>PhD</td>\n",
              "      <td>Married</td>\n",
              "      <td>58293.0</td>\n",
              "      <td>1</td>\n",
              "      <td>0</td>\n",
              "      <td>19/01/2014</td>\n",
              "      <td>94</td>\n",
              "      <td>173</td>\n",
              "      <td>43</td>\n",
              "      <td>118</td>\n",
              "      <td>46</td>\n",
              "      <td>15</td>\n",
              "    </tr>\n",
              "  </tbody>\n",
              "</table>\n",
              "</div>\n",
              "      <button class=\"colab-df-convert\" onclick=\"convertToInteractive('df-8e8d2bb0-5d7b-444e-a0bd-3b417bc84ccd')\"\n",
              "              title=\"Convert this dataframe to an interactive table.\"\n",
              "              style=\"display:none;\">\n",
              "        \n",
              "  <svg xmlns=\"http://www.w3.org/2000/svg\" height=\"24px\"viewBox=\"0 0 24 24\"\n",
              "       width=\"24px\">\n",
              "    <path d=\"M0 0h24v24H0V0z\" fill=\"none\"/>\n",
              "    <path d=\"M18.56 5.44l.94 2.06.94-2.06 2.06-.94-2.06-.94-.94-2.06-.94 2.06-2.06.94zm-11 1L8.5 8.5l.94-2.06 2.06-.94-2.06-.94L8.5 2.5l-.94 2.06-2.06.94zm10 10l.94 2.06.94-2.06 2.06-.94-2.06-.94-.94-2.06-.94 2.06-2.06.94z\"/><path d=\"M17.41 7.96l-1.37-1.37c-.4-.4-.92-.59-1.43-.59-.52 0-1.04.2-1.43.59L10.3 9.45l-7.72 7.72c-.78.78-.78 2.05 0 2.83L4 21.41c.39.39.9.59 1.41.59.51 0 1.02-.2 1.41-.59l7.78-7.78 2.81-2.81c.8-.78.8-2.07 0-2.86zM5.41 20L4 18.59l7.72-7.72 1.47 1.35L5.41 20z\"/>\n",
              "  </svg>\n",
              "      </button>\n",
              "      \n",
              "  <style>\n",
              "    .colab-df-container {\n",
              "      display:flex;\n",
              "      flex-wrap:wrap;\n",
              "      gap: 12px;\n",
              "    }\n",
              "\n",
              "    .colab-df-convert {\n",
              "      background-color: #E8F0FE;\n",
              "      border: none;\n",
              "      border-radius: 50%;\n",
              "      cursor: pointer;\n",
              "      display: none;\n",
              "      fill: #1967D2;\n",
              "      height: 32px;\n",
              "      padding: 0 0 0 0;\n",
              "      width: 32px;\n",
              "    }\n",
              "\n",
              "    .colab-df-convert:hover {\n",
              "      background-color: #E2EBFA;\n",
              "      box-shadow: 0px 1px 2px rgba(60, 64, 67, 0.3), 0px 1px 3px 1px rgba(60, 64, 67, 0.15);\n",
              "      fill: #174EA6;\n",
              "    }\n",
              "\n",
              "    [theme=dark] .colab-df-convert {\n",
              "      background-color: #3B4455;\n",
              "      fill: #D2E3FC;\n",
              "    }\n",
              "\n",
              "    [theme=dark] .colab-df-convert:hover {\n",
              "      background-color: #434B5C;\n",
              "      box-shadow: 0px 1px 3px 1px rgba(0, 0, 0, 0.15);\n",
              "      filter: drop-shadow(0px 1px 2px rgba(0, 0, 0, 0.3));\n",
              "      fill: #FFFFFF;\n",
              "    }\n",
              "  </style>\n",
              "\n",
              "      <script>\n",
              "        const buttonEl =\n",
              "          document.querySelector('#df-8e8d2bb0-5d7b-444e-a0bd-3b417bc84ccd button.colab-df-convert');\n",
              "        buttonEl.style.display =\n",
              "          google.colab.kernel.accessAllowed ? 'block' : 'none';\n",
              "\n",
              "        async function convertToInteractive(key) {\n",
              "          const element = document.querySelector('#df-8e8d2bb0-5d7b-444e-a0bd-3b417bc84ccd');\n",
              "          const dataTable =\n",
              "            await google.colab.kernel.invokeFunction('convertToInteractive',\n",
              "                                                     [key], {});\n",
              "          if (!dataTable) return;\n",
              "\n",
              "          const docLinkHtml = 'Like what you see? Visit the ' +\n",
              "            '<a target=\"_blank\" href=https://colab.research.google.com/notebooks/data_table.ipynb>data table notebook</a>'\n",
              "            + ' to learn more about interactive tables.';\n",
              "          element.innerHTML = '';\n",
              "          dataTable['output_type'] = 'display_data';\n",
              "          await google.colab.output.renderOutput(dataTable, element);\n",
              "          const docLink = document.createElement('div');\n",
              "          docLink.innerHTML = docLinkHtml;\n",
              "          element.appendChild(docLink);\n",
              "        }\n",
              "      </script>\n",
              "    </div>\n",
              "  </div>\n",
              "  "
            ]
          },
          "metadata": {},
          "execution_count": 3
        }
      ]
    },
    {
      "cell_type": "markdown",
      "metadata": {
        "id": "ryEHKWitKh0K"
      },
      "source": [
        "#### PROBLEM STATEMENT"
      ]
    },
    {
      "cell_type": "markdown",
      "source": [
        "Bergerak di bidang retail, Perusahaan ABC selalu mencatat data tentang\n",
        "pelanggan mereka. Data yang dimiliki dapat digunakan dalam mengelompokan\n",
        "pelanggan untuk mengetahui karakteristik pelanggan. Perusahaan ABC akan\n",
        "melakukan campaign terhadap produk yang mereka sediakan, sehingga\n",
        "perusahaan ingin menganalisis segmen pelanggan mana yang paling mungkin\n",
        "membeli produk dan kemudian memasarkan produk hanya pada segmen\n",
        "tertentu. Produk yang disediakan oleh perusahaan ABC adalah wine, buah, daging, ikan, dan emas. Hal yang ingin diketahui perusahaan ABC yaitu:\n",
        "\n",
        "*   Customer yang dikelompokkan berdasar produk yang disediakan.\n",
        "*   Customer profiling.\n",
        "\n"
      ],
      "metadata": {
        "id": "RCQvvdmbuF-W"
      }
    },
    {
      "cell_type": "markdown",
      "source": [
        "1. **CUSTOMER GROUPING**\n",
        "- Menentukan nilai optimum K.\n",
        "- Mengelompokan customer menggunakan K-Means sejumlah nilai K.\n",
        "\n",
        "2. **CUSTOMER PROFILE**\n",
        "- a Bagaimana persebaran usia customer pada masing2 kelompok?\n",
        "- b Bagaimana persebaran Customer berdasarkan pendidikan pada masing2 kelompok?\n",
        "- c Bagaimana persebaran penghasilan customer pada masing2 kelompok?\n",
        "- d Bagaimana persebaran Customer berdasarkan Status Pernikahan pada masing2 kelompok?\n",
        "- e Bagaimana persebaran penjualan produk berdasarkan masing2 kelompok?\n",
        "- f Apakah ada hubungan antara penjualan produk terhadap customer dengan pendapatan customer? "
      ],
      "metadata": {
        "id": "5745HpnEuCzv"
      }
    },
    {
      "cell_type": "markdown",
      "metadata": {
        "id": "XNIqvRlAKh0O"
      },
      "source": [
        "####Exploratory Data Analis (EDA)"
      ]
    },
    {
      "cell_type": "code",
      "source": [
        "df.info()"
      ],
      "metadata": {
        "colab": {
          "base_uri": "https://localhost:8080/"
        },
        "id": "Xev5BEe0IeJC",
        "outputId": "706e9e54-6bee-4c2c-f6f5-e63c4ec637c7"
      },
      "execution_count": 4,
      "outputs": [
        {
          "output_type": "stream",
          "name": "stdout",
          "text": [
            "<class 'pandas.core.frame.DataFrame'>\n",
            "RangeIndex: 2240 entries, 0 to 2239\n",
            "Data columns (total 14 columns):\n",
            " #   Column               Non-Null Count  Dtype  \n",
            "---  ------               --------------  -----  \n",
            " 0   ID                   2240 non-null   int64  \n",
            " 1   tahun_lahir          2240 non-null   int64  \n",
            " 2   Pendidikan           2240 non-null   object \n",
            " 3   Status_pernikahan    2240 non-null   object \n",
            " 4   Pendapatan           2216 non-null   float64\n",
            " 5   jumlah_anak          2240 non-null   int64  \n",
            " 6   jumlah_remaja        2240 non-null   int64  \n",
            " 7   tanggal_pendaftaran  2240 non-null   object \n",
            " 8   recency              2240 non-null   int64  \n",
            " 9   Spent_wine           2240 non-null   int64  \n",
            " 10  Spent_buah           2240 non-null   int64  \n",
            " 11  Spent_daging         2240 non-null   int64  \n",
            " 12  Spent_ikan           2240 non-null   int64  \n",
            " 13  Spent_emas           2240 non-null   int64  \n",
            "dtypes: float64(1), int64(10), object(3)\n",
            "memory usage: 245.1+ KB\n"
          ]
        }
      ]
    },
    {
      "cell_type": "code",
      "source": [
        "# Data kategori\n",
        "categorical = [\"Pendidikan\", \"Status_pernikahan\"]\n",
        "df_categorical = df[categorical]\n",
        "df_categorical.head()"
      ],
      "metadata": {
        "colab": {
          "base_uri": "https://localhost:8080/",
          "height": 206
        },
        "id": "iNwo04IYFiOU",
        "outputId": "2f288b30-ba69-4f15-fb1e-46b010939e65"
      },
      "execution_count": 5,
      "outputs": [
        {
          "output_type": "execute_result",
          "data": {
            "text/plain": [
              "   Pendidikan Status_pernikahan\n",
              "0  Graduation            Single\n",
              "1  Graduation            Single\n",
              "2  Graduation          Together\n",
              "3  Graduation          Together\n",
              "4         PhD           Married"
            ],
            "text/html": [
              "\n",
              "  <div id=\"df-825b8506-6117-4039-906a-9f151ad8e647\">\n",
              "    <div class=\"colab-df-container\">\n",
              "      <div>\n",
              "<style scoped>\n",
              "    .dataframe tbody tr th:only-of-type {\n",
              "        vertical-align: middle;\n",
              "    }\n",
              "\n",
              "    .dataframe tbody tr th {\n",
              "        vertical-align: top;\n",
              "    }\n",
              "\n",
              "    .dataframe thead th {\n",
              "        text-align: right;\n",
              "    }\n",
              "</style>\n",
              "<table border=\"1\" class=\"dataframe\">\n",
              "  <thead>\n",
              "    <tr style=\"text-align: right;\">\n",
              "      <th></th>\n",
              "      <th>Pendidikan</th>\n",
              "      <th>Status_pernikahan</th>\n",
              "    </tr>\n",
              "  </thead>\n",
              "  <tbody>\n",
              "    <tr>\n",
              "      <th>0</th>\n",
              "      <td>Graduation</td>\n",
              "      <td>Single</td>\n",
              "    </tr>\n",
              "    <tr>\n",
              "      <th>1</th>\n",
              "      <td>Graduation</td>\n",
              "      <td>Single</td>\n",
              "    </tr>\n",
              "    <tr>\n",
              "      <th>2</th>\n",
              "      <td>Graduation</td>\n",
              "      <td>Together</td>\n",
              "    </tr>\n",
              "    <tr>\n",
              "      <th>3</th>\n",
              "      <td>Graduation</td>\n",
              "      <td>Together</td>\n",
              "    </tr>\n",
              "    <tr>\n",
              "      <th>4</th>\n",
              "      <td>PhD</td>\n",
              "      <td>Married</td>\n",
              "    </tr>\n",
              "  </tbody>\n",
              "</table>\n",
              "</div>\n",
              "      <button class=\"colab-df-convert\" onclick=\"convertToInteractive('df-825b8506-6117-4039-906a-9f151ad8e647')\"\n",
              "              title=\"Convert this dataframe to an interactive table.\"\n",
              "              style=\"display:none;\">\n",
              "        \n",
              "  <svg xmlns=\"http://www.w3.org/2000/svg\" height=\"24px\"viewBox=\"0 0 24 24\"\n",
              "       width=\"24px\">\n",
              "    <path d=\"M0 0h24v24H0V0z\" fill=\"none\"/>\n",
              "    <path d=\"M18.56 5.44l.94 2.06.94-2.06 2.06-.94-2.06-.94-.94-2.06-.94 2.06-2.06.94zm-11 1L8.5 8.5l.94-2.06 2.06-.94-2.06-.94L8.5 2.5l-.94 2.06-2.06.94zm10 10l.94 2.06.94-2.06 2.06-.94-2.06-.94-.94-2.06-.94 2.06-2.06.94z\"/><path d=\"M17.41 7.96l-1.37-1.37c-.4-.4-.92-.59-1.43-.59-.52 0-1.04.2-1.43.59L10.3 9.45l-7.72 7.72c-.78.78-.78 2.05 0 2.83L4 21.41c.39.39.9.59 1.41.59.51 0 1.02-.2 1.41-.59l7.78-7.78 2.81-2.81c.8-.78.8-2.07 0-2.86zM5.41 20L4 18.59l7.72-7.72 1.47 1.35L5.41 20z\"/>\n",
              "  </svg>\n",
              "      </button>\n",
              "      \n",
              "  <style>\n",
              "    .colab-df-container {\n",
              "      display:flex;\n",
              "      flex-wrap:wrap;\n",
              "      gap: 12px;\n",
              "    }\n",
              "\n",
              "    .colab-df-convert {\n",
              "      background-color: #E8F0FE;\n",
              "      border: none;\n",
              "      border-radius: 50%;\n",
              "      cursor: pointer;\n",
              "      display: none;\n",
              "      fill: #1967D2;\n",
              "      height: 32px;\n",
              "      padding: 0 0 0 0;\n",
              "      width: 32px;\n",
              "    }\n",
              "\n",
              "    .colab-df-convert:hover {\n",
              "      background-color: #E2EBFA;\n",
              "      box-shadow: 0px 1px 2px rgba(60, 64, 67, 0.3), 0px 1px 3px 1px rgba(60, 64, 67, 0.15);\n",
              "      fill: #174EA6;\n",
              "    }\n",
              "\n",
              "    [theme=dark] .colab-df-convert {\n",
              "      background-color: #3B4455;\n",
              "      fill: #D2E3FC;\n",
              "    }\n",
              "\n",
              "    [theme=dark] .colab-df-convert:hover {\n",
              "      background-color: #434B5C;\n",
              "      box-shadow: 0px 1px 3px 1px rgba(0, 0, 0, 0.15);\n",
              "      filter: drop-shadow(0px 1px 2px rgba(0, 0, 0, 0.3));\n",
              "      fill: #FFFFFF;\n",
              "    }\n",
              "  </style>\n",
              "\n",
              "      <script>\n",
              "        const buttonEl =\n",
              "          document.querySelector('#df-825b8506-6117-4039-906a-9f151ad8e647 button.colab-df-convert');\n",
              "        buttonEl.style.display =\n",
              "          google.colab.kernel.accessAllowed ? 'block' : 'none';\n",
              "\n",
              "        async function convertToInteractive(key) {\n",
              "          const element = document.querySelector('#df-825b8506-6117-4039-906a-9f151ad8e647');\n",
              "          const dataTable =\n",
              "            await google.colab.kernel.invokeFunction('convertToInteractive',\n",
              "                                                     [key], {});\n",
              "          if (!dataTable) return;\n",
              "\n",
              "          const docLinkHtml = 'Like what you see? Visit the ' +\n",
              "            '<a target=\"_blank\" href=https://colab.research.google.com/notebooks/data_table.ipynb>data table notebook</a>'\n",
              "            + ' to learn more about interactive tables.';\n",
              "          element.innerHTML = '';\n",
              "          dataTable['output_type'] = 'display_data';\n",
              "          await google.colab.output.renderOutput(dataTable, element);\n",
              "          const docLink = document.createElement('div');\n",
              "          docLink.innerHTML = docLinkHtml;\n",
              "          element.appendChild(docLink);\n",
              "        }\n",
              "      </script>\n",
              "    </div>\n",
              "  </div>\n",
              "  "
            ]
          },
          "metadata": {},
          "execution_count": 5
        }
      ]
    },
    {
      "cell_type": "code",
      "source": [
        "# Melihat perbandingan data kategori disetiap kolom\n",
        "for col in categorical:\n",
        "    plt.figure(figsize=(8,6))\n",
        "    sns.countplot(x=col, data=df)\n",
        "    plt.tight_layout()"
      ],
      "metadata": {
        "colab": {
          "base_uri": "https://localhost:8080/",
          "height": 865
        },
        "id": "6bt9RD6eHniO",
        "outputId": "c267bb46-ec7e-46c5-dbcb-7531016eb9a7"
      },
      "execution_count": 6,
      "outputs": [
        {
          "output_type": "display_data",
          "data": {
            "text/plain": [
              "<Figure size 576x432 with 1 Axes>"
            ],
            "image/png": "[encoded data removed]"
          },
          "metadata": {
            "needs_background": "light"
          }
        },
        {
          "output_type": "display_data",
          "data": {
            "text/plain": [
              "<Figure size 576x432 with 1 Axes>"
            ],
            "image/png": "[encoded data removed]"
          },
          "metadata": {
            "needs_background": "light"
          }
        }
      ]
    },
    {
      "cell_type": "markdown",
      "source": [],
      "metadata": {
        "id": "Fhr4D6PiHwuV"
      }
    },
    {
      "cell_type": "code",
      "source": [
        "#visualisasi sebaran data\n",
        "plt.figure(1, figsize=(20,6))\n",
        "n = 0\n",
        "for x in ['Pendapatan','recency','Spent_wine','Spent_buah','Spent_daging', 'Spent_ikan', 'Spent_emas']:\n",
        "  n+=1\n",
        "  plt.subplot(1,7,n)\n",
        "  plt.subplots_adjust(hspace=0.2,wspace=0.2)\n",
        "  sns.distplot(df[x], bins=20)\n",
        "  plt.title('Distribusi Plot')\n",
        "plt.show()"
      ],
      "metadata": {
        "colab": {
          "base_uri": "https://localhost:8080/",
          "height": 675
        },
        "id": "8BCPCV1vIEV7",
        "outputId": "34fff57a-510f-4ffe-8626-33f7b85a1d43"
      },
      "execution_count": 7,
      "outputs": [
        {
          "output_type": "stream",
          "name": "stderr",
          "text": [
            "/usr/local/lib/python3.7/dist-packages/seaborn/distributions.py:2619: FutureWarning: `distplot` is a deprecated function and will be removed in a future version. Please adapt your code to use either `displot` (a figure-level function with similar flexibility) or `histplot` (an axes-level function for histograms).\n",
            "  warnings.warn(msg, FutureWarning)\n",
            "/usr/local/lib/python3.7/dist-packages/seaborn/distributions.py:2619: FutureWarning: `distplot` is a deprecated function and will be removed in a future version. Please adapt your code to use either `displot` (a figure-level function with similar flexibility) or `histplot` (an axes-level function for histograms).\n",
            "  warnings.warn(msg, FutureWarning)\n",
            "/usr/local/lib/python3.7/dist-packages/seaborn/distributions.py:2619: FutureWarning: `distplot` is a deprecated function and will be removed in a future version. Please adapt your code to use either `displot` (a figure-level function with similar flexibility) or `histplot` (an axes-level function for histograms).\n",
            "  warnings.warn(msg, FutureWarning)\n",
            "/usr/local/lib/python3.7/dist-packages/seaborn/distributions.py:2619: FutureWarning: `distplot` is a deprecated function and will be removed in a future version. Please adapt your code to use either `displot` (a figure-level function with similar flexibility) or `histplot` (an axes-level function for histograms).\n",
            "  warnings.warn(msg, FutureWarning)\n",
            "/usr/local/lib/python3.7/dist-packages/seaborn/distributions.py:2619: FutureWarning: `distplot` is a deprecated function and will be removed in a future version. Please adapt your code to use either `displot` (a figure-level function with similar flexibility) or `histplot` (an axes-level function for histograms).\n",
            "  warnings.warn(msg, FutureWarning)\n",
            "/usr/local/lib/python3.7/dist-packages/seaborn/distributions.py:2619: FutureWarning: `distplot` is a deprecated function and will be removed in a future version. Please adapt your code to use either `displot` (a figure-level function with similar flexibility) or `histplot` (an axes-level function for histograms).\n",
            "  warnings.warn(msg, FutureWarning)\n",
            "/usr/local/lib/python3.7/dist-packages/seaborn/distributions.py:2619: FutureWarning: `distplot` is a deprecated function and will be removed in a future version. Please adapt your code to use either `displot` (a figure-level function with similar flexibility) or `histplot` (an axes-level function for histograms).\n",
            "  warnings.warn(msg, FutureWarning)\n"
          ]
        },
        {
          "output_type": "display_data",
          "data": {
            "text/plain": [
              "<Figure size 1440x432 with 7 Axes>"
            ],
            "image/png": "[encoded data removed]"
          },
          "metadata": {
            "needs_background": "light"
          }
        }
      ]
    },
    {
      "cell_type": "markdown",
      "metadata": {
        "id": "Y260vqDfKh0M"
      },
      "source": [
        "#### DATA PRE-PROCESSING (Missing Value, Cek Tipe Data,Handling Outlier dll)"
      ]
    },
    {
      "cell_type": "code",
      "metadata": {
        "id": "PlqwY3pvKh0L",
        "colab": {
          "base_uri": "https://localhost:8080/"
        },
        "outputId": "94e62e78-bbea-496c-84fd-345af6d19c25"
      },
      "source": [
        "#cek tipe data\n",
        "df.info()"
      ],
      "execution_count": 8,
      "outputs": [
        {
          "output_type": "stream",
          "name": "stdout",
          "text": [
            "<class 'pandas.core.frame.DataFrame'>\n",
            "RangeIndex: 2240 entries, 0 to 2239\n",
            "Data columns (total 14 columns):\n",
            " #   Column               Non-Null Count  Dtype  \n",
            "---  ------               --------------  -----  \n",
            " 0   ID                   2240 non-null   int64  \n",
            " 1   tahun_lahir          2240 non-null   int64  \n",
            " 2   Pendidikan           2240 non-null   object \n",
            " 3   Status_pernikahan    2240 non-null   object \n",
            " 4   Pendapatan           2216 non-null   float64\n",
            " 5   jumlah_anak          2240 non-null   int64  \n",
            " 6   jumlah_remaja        2240 non-null   int64  \n",
            " 7   tanggal_pendaftaran  2240 non-null   object \n",
            " 8   recency              2240 non-null   int64  \n",
            " 9   Spent_wine           2240 non-null   int64  \n",
            " 10  Spent_buah           2240 non-null   int64  \n",
            " 11  Spent_daging         2240 non-null   int64  \n",
            " 12  Spent_ikan           2240 non-null   int64  \n",
            " 13  Spent_emas           2240 non-null   int64  \n",
            "dtypes: float64(1), int64(10), object(3)\n",
            "memory usage: 245.1+ KB\n"
          ]
        }
      ]
    },
    {
      "cell_type": "markdown",
      "source": [
        "#####mengubah tipe data"
      ],
      "metadata": {
        "id": "TN3jFGubNMCa"
      }
    },
    {
      "cell_type": "code",
      "source": [
        "#mengubah ID menjadi string\n",
        "df['ID'] = df.ID.astype(str)"
      ],
      "metadata": {
        "id": "qbSPTtGnbt4W"
      },
      "execution_count": 9,
      "outputs": []
    },
    {
      "cell_type": "code",
      "source": [
        "#mengubah tanggal_pendaftaran menjadi datetime\n",
        "df['tanggal_pendaftaran'] = pd.to_datetime(df['tanggal_pendaftaran'],format='%d/%m/%Y')"
      ],
      "metadata": {
        "id": "DpXP0dnZb4iW"
      },
      "execution_count": 10,
      "outputs": []
    },
    {
      "cell_type": "code",
      "source": [
        "df.info()"
      ],
      "metadata": {
        "colab": {
          "base_uri": "https://localhost:8080/"
        },
        "id": "P5yX3dope_Ck",
        "outputId": "38fdf056-13b2-4f08-863f-cf4b03bec4ca"
      },
      "execution_count": 11,
      "outputs": [
        {
          "output_type": "stream",
          "name": "stdout",
          "text": [
            "<class 'pandas.core.frame.DataFrame'>\n",
            "RangeIndex: 2240 entries, 0 to 2239\n",
            "Data columns (total 14 columns):\n",
            " #   Column               Non-Null Count  Dtype         \n",
            "---  ------               --------------  -----         \n",
            " 0   ID                   2240 non-null   object        \n",
            " 1   tahun_lahir          2240 non-null   int64         \n",
            " 2   Pendidikan           2240 non-null   object        \n",
            " 3   Status_pernikahan    2240 non-null   object        \n",
            " 4   Pendapatan           2216 non-null   float64       \n",
            " 5   jumlah_anak          2240 non-null   int64         \n",
            " 6   jumlah_remaja        2240 non-null   int64         \n",
            " 7   tanggal_pendaftaran  2240 non-null   datetime64[ns]\n",
            " 8   recency              2240 non-null   int64         \n",
            " 9   Spent_wine           2240 non-null   int64         \n",
            " 10  Spent_buah           2240 non-null   int64         \n",
            " 11  Spent_daging         2240 non-null   int64         \n",
            " 12  Spent_ikan           2240 non-null   int64         \n",
            " 13  Spent_emas           2240 non-null   int64         \n",
            "dtypes: datetime64[ns](1), float64(1), int64(9), object(3)\n",
            "memory usage: 245.1+ KB\n"
          ]
        }
      ]
    },
    {
      "cell_type": "markdown",
      "source": [
        "#####cek missing value"
      ],
      "metadata": {
        "id": "DeR1LPuGNZCo"
      }
    },
    {
      "cell_type": "code",
      "source": [
        "df.isnull().sum()"
      ],
      "metadata": {
        "colab": {
          "base_uri": "https://localhost:8080/"
        },
        "id": "XeQK-rM9YXz_",
        "outputId": "e452798d-e74b-440c-d316-d0b38c3b3364"
      },
      "execution_count": 12,
      "outputs": [
        {
          "output_type": "execute_result",
          "data": {
            "text/plain": [
              "ID                      0\n",
              "tahun_lahir             0\n",
              "Pendidikan              0\n",
              "Status_pernikahan       0\n",
              "Pendapatan             24\n",
              "jumlah_anak             0\n",
              "jumlah_remaja           0\n",
              "tanggal_pendaftaran     0\n",
              "recency                 0\n",
              "Spent_wine              0\n",
              "Spent_buah              0\n",
              "Spent_daging            0\n",
              "Spent_ikan              0\n",
              "Spent_emas              0\n",
              "dtype: int64"
            ]
          },
          "metadata": {},
          "execution_count": 12
        }
      ]
    },
    {
      "cell_type": "code",
      "source": [
        "#cek prosentase data kosong\n",
        "df_null = round(100*(df.isnull().sum())/len(df), 2)\n",
        "df_null"
      ],
      "metadata": {
        "colab": {
          "base_uri": "https://localhost:8080/"
        },
        "id": "NHEAWwbiYzRt",
        "outputId": "8a08e44d-1127-4197-81f9-8945b6a0b70e"
      },
      "execution_count": 13,
      "outputs": [
        {
          "output_type": "execute_result",
          "data": {
            "text/plain": [
              "ID                     0.00\n",
              "tahun_lahir            0.00\n",
              "Pendidikan             0.00\n",
              "Status_pernikahan      0.00\n",
              "Pendapatan             1.07\n",
              "jumlah_anak            0.00\n",
              "jumlah_remaja          0.00\n",
              "tanggal_pendaftaran    0.00\n",
              "recency                0.00\n",
              "Spent_wine             0.00\n",
              "Spent_buah             0.00\n",
              "Spent_daging           0.00\n",
              "Spent_ikan             0.00\n",
              "Spent_emas             0.00\n",
              "dtype: float64"
            ]
          },
          "metadata": {},
          "execution_count": 13
        }
      ]
    },
    {
      "cell_type": "code",
      "source": [
        "#cek jumlah data\n",
        "df.shape"
      ],
      "metadata": {
        "colab": {
          "base_uri": "https://localhost:8080/"
        },
        "id": "d8T4MSUlYgxR",
        "outputId": "1a45b7d4-df85-41e8-f448-88f2b85baf30"
      },
      "execution_count": 14,
      "outputs": [
        {
          "output_type": "execute_result",
          "data": {
            "text/plain": [
              "(2240, 14)"
            ]
          },
          "metadata": {},
          "execution_count": 14
        }
      ]
    },
    {
      "cell_type": "code",
      "source": [
        "#karena jumlah data yang kosong hanya 1%, diambil keputusan untuk menghapus data dengan nilai \"pendapatan\" kosong\n",
        "df = df.dropna()\n",
        "df.shape"
      ],
      "metadata": {
        "colab": {
          "base_uri": "https://localhost:8080/"
        },
        "id": "MjPWP8vCYky3",
        "outputId": "4078458b-741e-4c8e-a65b-024bc8f2a68f"
      },
      "execution_count": 15,
      "outputs": [
        {
          "output_type": "execute_result",
          "data": {
            "text/plain": [
              "(2216, 14)"
            ]
          },
          "metadata": {},
          "execution_count": 15
        }
      ]
    },
    {
      "cell_type": "code",
      "source": [
        "#pengecekan kembali apakah ada data bernilai kosong.\n",
        "df.isnull().sum()"
      ],
      "metadata": {
        "colab": {
          "base_uri": "https://localhost:8080/"
        },
        "id": "5i1YX-E5YquA",
        "outputId": "60aaa8b2-3da8-46a7-a4f4-a2dbc830d16b"
      },
      "execution_count": 16,
      "outputs": [
        {
          "output_type": "execute_result",
          "data": {
            "text/plain": [
              "ID                     0\n",
              "tahun_lahir            0\n",
              "Pendidikan             0\n",
              "Status_pernikahan      0\n",
              "Pendapatan             0\n",
              "jumlah_anak            0\n",
              "jumlah_remaja          0\n",
              "tanggal_pendaftaran    0\n",
              "recency                0\n",
              "Spent_wine             0\n",
              "Spent_buah             0\n",
              "Spent_daging           0\n",
              "Spent_ikan             0\n",
              "Spent_emas             0\n",
              "dtype: int64"
            ]
          },
          "metadata": {},
          "execution_count": 16
        }
      ]
    },
    {
      "cell_type": "markdown",
      "source": [
        "#####cek duplikasi data"
      ],
      "metadata": {
        "id": "amKX6CIKN4zD"
      }
    },
    {
      "cell_type": "code",
      "source": [
        "#cek duplicate data\n",
        "df[df.duplicated(keep='first')]"
      ],
      "metadata": {
        "id": "3MNeCyV44weZ",
        "colab": {
          "base_uri": "https://localhost:8080/",
          "height": 113
        },
        "outputId": "d722ac68-fb18-469a-e08c-2721b8e0e603"
      },
      "execution_count": 17,
      "outputs": [
        {
          "output_type": "execute_result",
          "data": {
            "text/plain": [
              "Empty DataFrame\n",
              "Columns: [ID, tahun_lahir, Pendidikan, Status_pernikahan, Pendapatan, jumlah_anak, jumlah_remaja, tanggal_pendaftaran, recency, Spent_wine, Spent_buah, Spent_daging, Spent_ikan, Spent_emas]\n",
              "Index: []"
            ],
            "text/html": [
              "\n",
              "  <div id=\"df-aa776c8c-1545-4074-85cc-8fae6036051d\">\n",
              "    <div class=\"colab-df-container\">\n",
              "      <div>\n",
              "<style scoped>\n",
              "    .dataframe tbody tr th:only-of-type {\n",
              "        vertical-align: middle;\n",
              "    }\n",
              "\n",
              "    .dataframe tbody tr th {\n",
              "        vertical-align: top;\n",
              "    }\n",
              "\n",
              "    .dataframe thead th {\n",
              "        text-align: right;\n",
              "    }\n",
              "</style>\n",
              "<table border=\"1\" class=\"dataframe\">\n",
              "  <thead>\n",
              "    <tr style=\"text-align: right;\">\n",
              "      <th></th>\n",
              "      <th>ID</th>\n",
              "      <th>tahun_lahir</th>\n",
              "      <th>Pendidikan</th>\n",
              "      <th>Status_pernikahan</th>\n",
              "      <th>Pendapatan</th>\n",
              "      <th>jumlah_anak</th>\n",
              "      <th>jumlah_remaja</th>\n",
              "      <th>tanggal_pendaftaran</th>\n",
              "      <th>recency</th>\n",
              "      <th>Spent_wine</th>\n",
              "      <th>Spent_buah</th>\n",
              "      <th>Spent_daging</th>\n",
              "      <th>Spent_ikan</th>\n",
              "      <th>Spent_emas</th>\n",
              "    </tr>\n",
              "  </thead>\n",
              "  <tbody>\n",
              "  </tbody>\n",
              "</table>\n",
              "</div>\n",
              "      <button class=\"colab-df-convert\" onclick=\"convertToInteractive('df-aa776c8c-1545-4074-85cc-8fae6036051d')\"\n",
              "              title=\"Convert this dataframe to an interactive table.\"\n",
              "              style=\"display:none;\">\n",
              "        \n",
              "  <svg xmlns=\"http://www.w3.org/2000/svg\" height=\"24px\"viewBox=\"0 0 24 24\"\n",
              "       width=\"24px\">\n",
              "    <path d=\"M0 0h24v24H0V0z\" fill=\"none\"/>\n",
              "    <path d=\"M18.56 5.44l.94 2.06.94-2.06 2.06-.94-2.06-.94-.94-2.06-.94 2.06-2.06.94zm-11 1L8.5 8.5l.94-2.06 2.06-.94-2.06-.94L8.5 2.5l-.94 2.06-2.06.94zm10 10l.94 2.06.94-2.06 2.06-.94-2.06-.94-.94-2.06-.94 2.06-2.06.94z\"/><path d=\"M17.41 7.96l-1.37-1.37c-.4-.4-.92-.59-1.43-.59-.52 0-1.04.2-1.43.59L10.3 9.45l-7.72 7.72c-.78.78-.78 2.05 0 2.83L4 21.41c.39.39.9.59 1.41.59.51 0 1.02-.2 1.41-.59l7.78-7.78 2.81-2.81c.8-.78.8-2.07 0-2.86zM5.41 20L4 18.59l7.72-7.72 1.47 1.35L5.41 20z\"/>\n",
              "  </svg>\n",
              "      </button>\n",
              "      \n",
              "  <style>\n",
              "    .colab-df-container {\n",
              "      display:flex;\n",
              "      flex-wrap:wrap;\n",
              "      gap: 12px;\n",
              "    }\n",
              "\n",
              "    .colab-df-convert {\n",
              "      background-color: #E8F0FE;\n",
              "      border: none;\n",
              "      border-radius: 50%;\n",
              "      cursor: pointer;\n",
              "      display: none;\n",
              "      fill: #1967D2;\n",
              "      height: 32px;\n",
              "      padding: 0 0 0 0;\n",
              "      width: 32px;\n",
              "    }\n",
              "\n",
              "    .colab-df-convert:hover {\n",
              "      background-color: #E2EBFA;\n",
              "      box-shadow: 0px 1px 2px rgba(60, 64, 67, 0.3), 0px 1px 3px 1px rgba(60, 64, 67, 0.15);\n",
              "      fill: #174EA6;\n",
              "    }\n",
              "\n",
              "    [theme=dark] .colab-df-convert {\n",
              "      background-color: #3B4455;\n",
              "      fill: #D2E3FC;\n",
              "    }\n",
              "\n",
              "    [theme=dark] .colab-df-convert:hover {\n",
              "      background-color: #434B5C;\n",
              "      box-shadow: 0px 1px 3px 1px rgba(0, 0, 0, 0.15);\n",
              "      filter: drop-shadow(0px 1px 2px rgba(0, 0, 0, 0.3));\n",
              "      fill: #FFFFFF;\n",
              "    }\n",
              "  </style>\n",
              "\n",
              "      <script>\n",
              "        const buttonEl =\n",
              "          document.querySelector('#df-aa776c8c-1545-4074-85cc-8fae6036051d button.colab-df-convert');\n",
              "        buttonEl.style.display =\n",
              "          google.colab.kernel.accessAllowed ? 'block' : 'none';\n",
              "\n",
              "        async function convertToInteractive(key) {\n",
              "          const element = document.querySelector('#df-aa776c8c-1545-4074-85cc-8fae6036051d');\n",
              "          const dataTable =\n",
              "            await google.colab.kernel.invokeFunction('convertToInteractive',\n",
              "                                                     [key], {});\n",
              "          if (!dataTable) return;\n",
              "\n",
              "          const docLinkHtml = 'Like what you see? Visit the ' +\n",
              "            '<a target=\"_blank\" href=https://colab.research.google.com/notebooks/data_table.ipynb>data table notebook</a>'\n",
              "            + ' to learn more about interactive tables.';\n",
              "          element.innerHTML = '';\n",
              "          dataTable['output_type'] = 'display_data';\n",
              "          await google.colab.output.renderOutput(dataTable, element);\n",
              "          const docLink = document.createElement('div');\n",
              "          docLink.innerHTML = docLinkHtml;\n",
              "          element.appendChild(docLink);\n",
              "        }\n",
              "      </script>\n",
              "    </div>\n",
              "  </div>\n",
              "  "
            ]
          },
          "metadata": {},
          "execution_count": 17
        }
      ]
    },
    {
      "cell_type": "markdown",
      "source": [
        "#####Data Encoding"
      ],
      "metadata": {
        "id": "5GSQl-Nf20Yr"
      }
    },
    {
      "cell_type": "code",
      "source": [
        "# Merubah data kategori menjadi numerik\n",
        "label_encoder = LabelEncoder()\n",
        "encoded_data = df[categorical].apply(label_encoder.fit_transform)\n"
      ],
      "metadata": {
        "id": "Q2hS9A-VI_bq"
      },
      "execution_count": 18,
      "outputs": []
    },
    {
      "cell_type": "markdown",
      "source": [
        "#####Fiture Enginering"
      ],
      "metadata": {
        "id": "k2KVOB-GNuKy"
      }
    },
    {
      "cell_type": "code",
      "source": [
        "#cek tahun terakhir data pendaftaran yg ada\n",
        "df.tanggal_pendaftaran.max()"
      ],
      "metadata": {
        "id": "IW7InoV1LQ0w",
        "colab": {
          "base_uri": "https://localhost:8080/"
        },
        "outputId": "488fdcc4-a5a3-4ce7-92b7-a5f2f6f63b09"
      },
      "execution_count": 19,
      "outputs": [
        {
          "output_type": "execute_result",
          "data": {
            "text/plain": [
              "Timestamp('2014-06-29 00:00:00')"
            ]
          },
          "metadata": {},
          "execution_count": 19
        }
      ]
    },
    {
      "cell_type": "code",
      "source": [
        "#menambahkan kolom Umur dari kolom tahun_lahir di kurangi dengan tahun terakhir pendaftaran yang ada\n",
        "df['Umur'] = 2014 - df['tahun_lahir'] #2014 adalah data tahun terkahir tanggal pendaftaran"
      ],
      "metadata": {
        "id": "Q3fjzeybbHN1",
        "colab": {
          "base_uri": "https://localhost:8080/"
        },
        "outputId": "8825f388-f92d-4020-e42b-0db8c45452bb"
      },
      "execution_count": 20,
      "outputs": [
        {
          "output_type": "stream",
          "name": "stderr",
          "text": [
            "/usr/local/lib/python3.7/dist-packages/ipykernel_launcher.py:2: SettingWithCopyWarning: \n",
            "A value is trying to be set on a copy of a slice from a DataFrame.\n",
            "Try using .loc[row_indexer,col_indexer] = value instead\n",
            "\n",
            "See the caveats in the documentation: https://pandas.pydata.org/pandas-docs/stable/user_guide/indexing.html#returning-a-view-versus-a-copy\n",
            "  \n"
          ]
        }
      ]
    },
    {
      "cell_type": "code",
      "source": [
        "#menambahkan kolom total_anak dari penjumlahan kolom jumlah_anak dan jumlah_remaja\n",
        "df['total_anak'] = df['jumlah_anak']+df['jumlah_remaja']"
      ],
      "metadata": {
        "id": "lEB3rIzNbJIL",
        "colab": {
          "base_uri": "https://localhost:8080/"
        },
        "outputId": "70354732-65c9-493b-f859-804c028834f0"
      },
      "execution_count": 21,
      "outputs": [
        {
          "output_type": "stream",
          "name": "stderr",
          "text": [
            "/usr/local/lib/python3.7/dist-packages/ipykernel_launcher.py:2: SettingWithCopyWarning: \n",
            "A value is trying to be set on a copy of a slice from a DataFrame.\n",
            "Try using .loc[row_indexer,col_indexer] = value instead\n",
            "\n",
            "See the caveats in the documentation: https://pandas.pydata.org/pandas-docs/stable/user_guide/indexing.html#returning-a-view-versus-a-copy\n",
            "  \n"
          ]
        }
      ]
    },
    {
      "cell_type": "code",
      "source": [
        "#menambahkan kolom total_spent dari penjumlahan kolom 'Spent_wine','Spent_buah','Spent_daging', 'Spent_ikan', 'Spent_emas'\n",
        "df['total_spent'] = df['Spent_wine']+ df['Spent_buah']+df['Spent_daging']+df['Spent_ikan']+df['Spent_emas']"
      ],
      "metadata": {
        "colab": {
          "base_uri": "https://localhost:8080/"
        },
        "id": "yPH-ncUV4Cjm",
        "outputId": "59ef93d4-d0f2-45b8-d690-e9e3e286ea3a"
      },
      "execution_count": 22,
      "outputs": [
        {
          "output_type": "stream",
          "name": "stderr",
          "text": [
            "/usr/local/lib/python3.7/dist-packages/ipykernel_launcher.py:2: SettingWithCopyWarning: \n",
            "A value is trying to be set on a copy of a slice from a DataFrame.\n",
            "Try using .loc[row_indexer,col_indexer] = value instead\n",
            "\n",
            "See the caveats in the documentation: https://pandas.pydata.org/pandas-docs/stable/user_guide/indexing.html#returning-a-view-versus-a-copy\n",
            "  \n"
          ]
        }
      ]
    },
    {
      "cell_type": "markdown",
      "source": [
        "#####Merge Data"
      ],
      "metadata": {
        "id": "uM85TCe5ObD0"
      }
    },
    {
      "cell_type": "code",
      "source": [
        "# Menggabungkan data kategorikal yang sudah di encode, data hasil feature enginering dengan data lainnya. \n",
        "\n",
        "merge_data = pd.concat([encoded_data ,df[[\"Pendapatan\",\"Umur\",\"recency\",\"total_anak\",\"Spent_wine\",\"Spent_buah\",\"Spent_daging\",\"Spent_ikan\",\"Spent_emas\",\"total_spent\"]]], axis=1)\n",
        "\n",
        "merge_data.head()"
      ],
      "metadata": {
        "colab": {
          "base_uri": "https://localhost:8080/",
          "height": 206
        },
        "id": "rgmCIb9GOaT2",
        "outputId": "920fba52-b9ba-45a6-dbb1-a56df86c789c"
      },
      "execution_count": 23,
      "outputs": [
        {
          "output_type": "execute_result",
          "data": {
            "text/plain": [
              "   Pendidikan  Status_pernikahan  Pendapatan  Umur  recency  total_anak  \\\n",
              "0           2                  4     58138.0    57       58           0   \n",
              "1           2                  4     46344.0    60       38           2   \n",
              "2           2                  5     71613.0    49       26           0   \n",
              "3           2                  5     26646.0    30       26           1   \n",
              "4           4                  3     58293.0    33       94           1   \n",
              "\n",
              "   Spent_wine  Spent_buah  Spent_daging  Spent_ikan  Spent_emas  total_spent  \n",
              "0         635          88           546         172          88         1529  \n",
              "1          11           1             6           2           6           26  \n",
              "2         426          49           127         111          42          755  \n",
              "3          11           4            20          10           5           50  \n",
              "4         173          43           118          46          15          395  "
            ],
            "text/html": [
              "\n",
              "  <div id=\"df-174b7012-9b8b-4e1f-8068-30c590f6ff2f\">\n",
              "    <div class=\"colab-df-container\">\n",
              "      <div>\n",
              "<style scoped>\n",
              "    .dataframe tbody tr th:only-of-type {\n",
              "        vertical-align: middle;\n",
              "    }\n",
              "\n",
              "    .dataframe tbody tr th {\n",
              "        vertical-align: top;\n",
              "    }\n",
              "\n",
              "    .dataframe thead th {\n",
              "        text-align: right;\n",
              "    }\n",
              "</style>\n",
              "<table border=\"1\" class=\"dataframe\">\n",
              "  <thead>\n",
              "    <tr style=\"text-align: right;\">\n",
              "      <th></th>\n",
              "      <th>Pendidikan</th>\n",
              "      <th>Status_pernikahan</th>\n",
              "      <th>Pendapatan</th>\n",
              "      <th>Umur</th>\n",
              "      <th>recency</th>\n",
              "      <th>total_anak</th>\n",
              "      <th>Spent_wine</th>\n",
              "      <th>Spent_buah</th>\n",
              "      <th>Spent_daging</th>\n",
              "      <th>Spent_ikan</th>\n",
              "      <th>Spent_emas</th>\n",
              "      <th>total_spent</th>\n",
              "    </tr>\n",
              "  </thead>\n",
              "  <tbody>\n",
              "    <tr>\n",
              "      <th>0</th>\n",
              "      <td>2</td>\n",
              "      <td>4</td>\n",
              "      <td>58138.0</td>\n",
              "      <td>57</td>\n",
              "      <td>58</td>\n",
              "      <td>0</td>\n",
              "      <td>635</td>\n",
              "      <td>88</td>\n",
              "      <td>546</td>\n",
              "      <td>172</td>\n",
              "      <td>88</td>\n",
              "      <td>1529</td>\n",
              "    </tr>\n",
              "    <tr>\n",
              "      <th>1</th>\n",
              "      <td>2</td>\n",
              "      <td>4</td>\n",
              "      <td>46344.0</td>\n",
              "      <td>60</td>\n",
              "      <td>38</td>\n",
              "      <td>2</td>\n",
              "      <td>11</td>\n",
              "      <td>1</td>\n",
              "      <td>6</td>\n",
              "      <td>2</td>\n",
              "      <td>6</td>\n",
              "      <td>26</td>\n",
              "    </tr>\n",
              "    <tr>\n",
              "      <th>2</th>\n",
              "      <td>2</td>\n",
              "      <td>5</td>\n",
              "      <td>71613.0</td>\n",
              "      <td>49</td>\n",
              "      <td>26</td>\n",
              "      <td>0</td>\n",
              "      <td>426</td>\n",
              "      <td>49</td>\n",
              "      <td>127</td>\n",
              "      <td>111</td>\n",
              "      <td>42</td>\n",
              "      <td>755</td>\n",
              "    </tr>\n",
              "    <tr>\n",
              "      <th>3</th>\n",
              "      <td>2</td>\n",
              "      <td>5</td>\n",
              "      <td>26646.0</td>\n",
              "      <td>30</td>\n",
              "      <td>26</td>\n",
              "      <td>1</td>\n",
              "      <td>11</td>\n",
              "      <td>4</td>\n",
              "      <td>20</td>\n",
              "      <td>10</td>\n",
              "      <td>5</td>\n",
              "      <td>50</td>\n",
              "    </tr>\n",
              "    <tr>\n",
              "      <th>4</th>\n",
              "      <td>4</td>\n",
              "      <td>3</td>\n",
              "      <td>58293.0</td>\n",
              "      <td>33</td>\n",
              "      <td>94</td>\n",
              "      <td>1</td>\n",
              "      <td>173</td>\n",
              "      <td>43</td>\n",
              "      <td>118</td>\n",
              "      <td>46</td>\n",
              "      <td>15</td>\n",
              "      <td>395</td>\n",
              "    </tr>\n",
              "  </tbody>\n",
              "</table>\n",
              "</div>\n",
              "      <button class=\"colab-df-convert\" onclick=\"convertToInteractive('df-174b7012-9b8b-4e1f-8068-30c590f6ff2f')\"\n",
              "              title=\"Convert this dataframe to an interactive table.\"\n",
              "              style=\"display:none;\">\n",
              "        \n",
              "  <svg xmlns=\"http://www.w3.org/2000/svg\" height=\"24px\"viewBox=\"0 0 24 24\"\n",
              "       width=\"24px\">\n",
              "    <path d=\"M0 0h24v24H0V0z\" fill=\"none\"/>\n",
              "    <path d=\"M18.56 5.44l.94 2.06.94-2.06 2.06-.94-2.06-.94-.94-2.06-.94 2.06-2.06.94zm-11 1L8.5 8.5l.94-2.06 2.06-.94-2.06-.94L8.5 2.5l-.94 2.06-2.06.94zm10 10l.94 2.06.94-2.06 2.06-.94-2.06-.94-.94-2.06-.94 2.06-2.06.94z\"/><path d=\"M17.41 7.96l-1.37-1.37c-.4-.4-.92-.59-1.43-.59-.52 0-1.04.2-1.43.59L10.3 9.45l-7.72 7.72c-.78.78-.78 2.05 0 2.83L4 21.41c.39.39.9.59 1.41.59.51 0 1.02-.2 1.41-.59l7.78-7.78 2.81-2.81c.8-.78.8-2.07 0-2.86zM5.41 20L4 18.59l7.72-7.72 1.47 1.35L5.41 20z\"/>\n",
              "  </svg>\n",
              "      </button>\n",
              "      \n",
              "  <style>\n",
              "    .colab-df-container {\n",
              "      display:flex;\n",
              "      flex-wrap:wrap;\n",
              "      gap: 12px;\n",
              "    }\n",
              "\n",
              "    .colab-df-convert {\n",
              "      background-color: #E8F0FE;\n",
              "      border: none;\n",
              "      border-radius: 50%;\n",
              "      cursor: pointer;\n",
              "      display: none;\n",
              "      fill: #1967D2;\n",
              "      height: 32px;\n",
              "      padding: 0 0 0 0;\n",
              "      width: 32px;\n",
              "    }\n",
              "\n",
              "    .colab-df-convert:hover {\n",
              "      background-color: #E2EBFA;\n",
              "      box-shadow: 0px 1px 2px rgba(60, 64, 67, 0.3), 0px 1px 3px 1px rgba(60, 64, 67, 0.15);\n",
              "      fill: #174EA6;\n",
              "    }\n",
              "\n",
              "    [theme=dark] .colab-df-convert {\n",
              "      background-color: #3B4455;\n",
              "      fill: #D2E3FC;\n",
              "    }\n",
              "\n",
              "    [theme=dark] .colab-df-convert:hover {\n",
              "      background-color: #434B5C;\n",
              "      box-shadow: 0px 1px 3px 1px rgba(0, 0, 0, 0.15);\n",
              "      filter: drop-shadow(0px 1px 2px rgba(0, 0, 0, 0.3));\n",
              "      fill: #FFFFFF;\n",
              "    }\n",
              "  </style>\n",
              "\n",
              "      <script>\n",
              "        const buttonEl =\n",
              "          document.querySelector('#df-174b7012-9b8b-4e1f-8068-30c590f6ff2f button.colab-df-convert');\n",
              "        buttonEl.style.display =\n",
              "          google.colab.kernel.accessAllowed ? 'block' : 'none';\n",
              "\n",
              "        async function convertToInteractive(key) {\n",
              "          const element = document.querySelector('#df-174b7012-9b8b-4e1f-8068-30c590f6ff2f');\n",
              "          const dataTable =\n",
              "            await google.colab.kernel.invokeFunction('convertToInteractive',\n",
              "                                                     [key], {});\n",
              "          if (!dataTable) return;\n",
              "\n",
              "          const docLinkHtml = 'Like what you see? Visit the ' +\n",
              "            '<a target=\"_blank\" href=https://colab.research.google.com/notebooks/data_table.ipynb>data table notebook</a>'\n",
              "            + ' to learn more about interactive tables.';\n",
              "          element.innerHTML = '';\n",
              "          dataTable['output_type'] = 'display_data';\n",
              "          await google.colab.output.renderOutput(dataTable, element);\n",
              "          const docLink = document.createElement('div');\n",
              "          docLink.innerHTML = docLinkHtml;\n",
              "          element.appendChild(docLink);\n",
              "        }\n",
              "      </script>\n",
              "    </div>\n",
              "  </div>\n",
              "  "
            ]
          },
          "metadata": {},
          "execution_count": 23
        }
      ]
    },
    {
      "cell_type": "code",
      "source": [
        "merge_data.describe()"
      ],
      "metadata": {
        "colab": {
          "base_uri": "https://localhost:8080/",
          "height": 364
        },
        "id": "82353BYTsunH",
        "outputId": "7ca9a809-589f-4e3a-b25a-1a931e25932d"
      },
      "execution_count": 24,
      "outputs": [
        {
          "output_type": "execute_result",
          "data": {
            "text/plain": [
              "        Pendidikan  Status_pernikahan     Pendapatan         Umur  \\\n",
              "count  2216.000000        2216.000000    2216.000000  2216.000000   \n",
              "mean      2.393953           3.726083   52247.251354    45.179603   \n",
              "std       1.124141           1.077731   25173.076661    11.985554   \n",
              "min       0.000000           0.000000    1730.000000    18.000000   \n",
              "25%       2.000000           3.000000   35303.000000    37.000000   \n",
              "50%       2.000000           4.000000   51381.500000    44.000000   \n",
              "75%       3.000000           5.000000   68522.000000    55.000000   \n",
              "max       4.000000           7.000000  666666.000000   121.000000   \n",
              "\n",
              "           recency   total_anak   Spent_wine   Spent_buah  Spent_daging  \\\n",
              "count  2216.000000  2216.000000  2216.000000  2216.000000   2216.000000   \n",
              "mean     49.012635     0.947202   305.091606    26.356047    166.995939   \n",
              "std      28.948352     0.749062   337.327920    39.793917    224.283273   \n",
              "min       0.000000     0.000000     0.000000     0.000000      0.000000   \n",
              "25%      24.000000     0.000000    24.000000     2.000000     16.000000   \n",
              "50%      49.000000     1.000000   174.500000     8.000000     68.000000   \n",
              "75%      74.000000     1.000000   505.000000    33.000000    232.250000   \n",
              "max      99.000000     3.000000  1493.000000   199.000000   1725.000000   \n",
              "\n",
              "        Spent_ikan   Spent_emas  total_spent  \n",
              "count  2216.000000  2216.000000  2216.000000  \n",
              "mean     37.637635    43.965253   580.046480  \n",
              "std      54.752082    51.815414   578.888028  \n",
              "min       0.000000     0.000000     5.000000  \n",
              "25%       3.000000     9.000000    65.000000  \n",
              "50%      12.000000    24.500000   380.000000  \n",
              "75%      50.000000    56.000000   998.250000  \n",
              "max     259.000000   321.000000  2440.000000  "
            ],
            "text/html": [
              "\n",
              "  <div id=\"df-fda54d4f-bfbb-411f-9abe-9e897797fa9d\">\n",
              "    <div class=\"colab-df-container\">\n",
              "      <div>\n",
              "<style scoped>\n",
              "    .dataframe tbody tr th:only-of-type {\n",
              "        vertical-align: middle;\n",
              "    }\n",
              "\n",
              "    .dataframe tbody tr th {\n",
              "        vertical-align: top;\n",
              "    }\n",
              "\n",
              "    .dataframe thead th {\n",
              "        text-align: right;\n",
              "    }\n",
              "</style>\n",
              "<table border=\"1\" class=\"dataframe\">\n",
              "  <thead>\n",
              "    <tr style=\"text-align: right;\">\n",
              "      <th></th>\n",
              "      <th>Pendidikan</th>\n",
              "      <th>Status_pernikahan</th>\n",
              "      <th>Pendapatan</th>\n",
              "      <th>Umur</th>\n",
              "      <th>recency</th>\n",
              "      <th>total_anak</th>\n",
              "      <th>Spent_wine</th>\n",
              "      <th>Spent_buah</th>\n",
              "      <th>Spent_daging</th>\n",
              "      <th>Spent_ikan</th>\n",
              "      <th>Spent_emas</th>\n",
              "      <th>total_spent</th>\n",
              "    </tr>\n",
              "  </thead>\n",
              "  <tbody>\n",
              "    <tr>\n",
              "      <th>count</th>\n",
              "      <td>2216.000000</td>\n",
              "      <td>2216.000000</td>\n",
              "      <td>2216.000000</td>\n",
              "      <td>2216.000000</td>\n",
              "      <td>2216.000000</td>\n",
              "      <td>2216.000000</td>\n",
              "      <td>2216.000000</td>\n",
              "      <td>2216.000000</td>\n",
              "      <td>2216.000000</td>\n",
              "      <td>2216.000000</td>\n",
              "      <td>2216.000000</td>\n",
              "      <td>2216.000000</td>\n",
              "    </tr>\n",
              "    <tr>\n",
              "      <th>mean</th>\n",
              "      <td>2.393953</td>\n",
              "      <td>3.726083</td>\n",
              "      <td>52247.251354</td>\n",
              "      <td>45.179603</td>\n",
              "      <td>49.012635</td>\n",
              "      <td>0.947202</td>\n",
              "      <td>305.091606</td>\n",
              "      <td>26.356047</td>\n",
              "      <td>166.995939</td>\n",
              "      <td>37.637635</td>\n",
              "      <td>43.965253</td>\n",
              "      <td>580.046480</td>\n",
              "    </tr>\n",
              "    <tr>\n",
              "      <th>std</th>\n",
              "      <td>1.124141</td>\n",
              "      <td>1.077731</td>\n",
              "      <td>25173.076661</td>\n",
              "      <td>11.985554</td>\n",
              "      <td>28.948352</td>\n",
              "      <td>0.749062</td>\n",
              "      <td>337.327920</td>\n",
              "      <td>39.793917</td>\n",
              "      <td>224.283273</td>\n",
              "      <td>54.752082</td>\n",
              "      <td>51.815414</td>\n",
              "      <td>578.888028</td>\n",
              "    </tr>\n",
              "    <tr>\n",
              "      <th>min</th>\n",
              "      <td>0.000000</td>\n",
              "      <td>0.000000</td>\n",
              "      <td>1730.000000</td>\n",
              "      <td>18.000000</td>\n",
              "      <td>0.000000</td>\n",
              "      <td>0.000000</td>\n",
              "      <td>0.000000</td>\n",
              "      <td>0.000000</td>\n",
              "      <td>0.000000</td>\n",
              "      <td>0.000000</td>\n",
              "      <td>0.000000</td>\n",
              "      <td>5.000000</td>\n",
              "    </tr>\n",
              "    <tr>\n",
              "      <th>25%</th>\n",
              "      <td>2.000000</td>\n",
              "      <td>3.000000</td>\n",
              "      <td>35303.000000</td>\n",
              "      <td>37.000000</td>\n",
              "      <td>24.000000</td>\n",
              "      <td>0.000000</td>\n",
              "      <td>24.000000</td>\n",
              "      <td>2.000000</td>\n",
              "      <td>16.000000</td>\n",
              "      <td>3.000000</td>\n",
              "      <td>9.000000</td>\n",
              "      <td>65.000000</td>\n",
              "    </tr>\n",
              "    <tr>\n",
              "      <th>50%</th>\n",
              "      <td>2.000000</td>\n",
              "      <td>4.000000</td>\n",
              "      <td>51381.500000</td>\n",
              "      <td>44.000000</td>\n",
              "      <td>49.000000</td>\n",
              "      <td>1.000000</td>\n",
              "      <td>174.500000</td>\n",
              "      <td>8.000000</td>\n",
              "      <td>68.000000</td>\n",
              "      <td>12.000000</td>\n",
              "      <td>24.500000</td>\n",
              "      <td>380.000000</td>\n",
              "    </tr>\n",
              "    <tr>\n",
              "      <th>75%</th>\n",
              "      <td>3.000000</td>\n",
              "      <td>5.000000</td>\n",
              "      <td>68522.000000</td>\n",
              "      <td>55.000000</td>\n",
              "      <td>74.000000</td>\n",
              "      <td>1.000000</td>\n",
              "      <td>505.000000</td>\n",
              "      <td>33.000000</td>\n",
              "      <td>232.250000</td>\n",
              "      <td>50.000000</td>\n",
              "      <td>56.000000</td>\n",
              "      <td>998.250000</td>\n",
              "    </tr>\n",
              "    <tr>\n",
              "      <th>max</th>\n",
              "      <td>4.000000</td>\n",
              "      <td>7.000000</td>\n",
              "      <td>666666.000000</td>\n",
              "      <td>121.000000</td>\n",
              "      <td>99.000000</td>\n",
              "      <td>3.000000</td>\n",
              "      <td>1493.000000</td>\n",
              "      <td>199.000000</td>\n",
              "      <td>1725.000000</td>\n",
              "      <td>259.000000</td>\n",
              "      <td>321.000000</td>\n",
              "      <td>2440.000000</td>\n",
              "    </tr>\n",
              "  </tbody>\n",
              "</table>\n",
              "</div>\n",
              "      <button class=\"colab-df-convert\" onclick=\"convertToInteractive('df-fda54d4f-bfbb-411f-9abe-9e897797fa9d')\"\n",
              "              title=\"Convert this dataframe to an interactive table.\"\n",
              "              style=\"display:none;\">\n",
              "        \n",
              "  <svg xmlns=\"http://www.w3.org/2000/svg\" height=\"24px\"viewBox=\"0 0 24 24\"\n",
              "       width=\"24px\">\n",
              "    <path d=\"M0 0h24v24H0V0z\" fill=\"none\"/>\n",
              "    <path d=\"M18.56 5.44l.94 2.06.94-2.06 2.06-.94-2.06-.94-.94-2.06-.94 2.06-2.06.94zm-11 1L8.5 8.5l.94-2.06 2.06-.94-2.06-.94L8.5 2.5l-.94 2.06-2.06.94zm10 10l.94 2.06.94-2.06 2.06-.94-2.06-.94-.94-2.06-.94 2.06-2.06.94z\"/><path d=\"M17.41 7.96l-1.37-1.37c-.4-.4-.92-.59-1.43-.59-.52 0-1.04.2-1.43.59L10.3 9.45l-7.72 7.72c-.78.78-.78 2.05 0 2.83L4 21.41c.39.39.9.59 1.41.59.51 0 1.02-.2 1.41-.59l7.78-7.78 2.81-2.81c.8-.78.8-2.07 0-2.86zM5.41 20L4 18.59l7.72-7.72 1.47 1.35L5.41 20z\"/>\n",
              "  </svg>\n",
              "      </button>\n",
              "      \n",
              "  <style>\n",
              "    .colab-df-container {\n",
              "      display:flex;\n",
              "      flex-wrap:wrap;\n",
              "      gap: 12px;\n",
              "    }\n",
              "\n",
              "    .colab-df-convert {\n",
              "      background-color: #E8F0FE;\n",
              "      border: none;\n",
              "      border-radius: 50%;\n",
              "      cursor: pointer;\n",
              "      display: none;\n",
              "      fill: #1967D2;\n",
              "      height: 32px;\n",
              "      padding: 0 0 0 0;\n",
              "      width: 32px;\n",
              "    }\n",
              "\n",
              "    .colab-df-convert:hover {\n",
              "      background-color: #E2EBFA;\n",
              "      box-shadow: 0px 1px 2px rgba(60, 64, 67, 0.3), 0px 1px 3px 1px rgba(60, 64, 67, 0.15);\n",
              "      fill: #174EA6;\n",
              "    }\n",
              "\n",
              "    [theme=dark] .colab-df-convert {\n",
              "      background-color: #3B4455;\n",
              "      fill: #D2E3FC;\n",
              "    }\n",
              "\n",
              "    [theme=dark] .colab-df-convert:hover {\n",
              "      background-color: #434B5C;\n",
              "      box-shadow: 0px 1px 3px 1px rgba(0, 0, 0, 0.15);\n",
              "      filter: drop-shadow(0px 1px 2px rgba(0, 0, 0, 0.3));\n",
              "      fill: #FFFFFF;\n",
              "    }\n",
              "  </style>\n",
              "\n",
              "      <script>\n",
              "        const buttonEl =\n",
              "          document.querySelector('#df-fda54d4f-bfbb-411f-9abe-9e897797fa9d button.colab-df-convert');\n",
              "        buttonEl.style.display =\n",
              "          google.colab.kernel.accessAllowed ? 'block' : 'none';\n",
              "\n",
              "        async function convertToInteractive(key) {\n",
              "          const element = document.querySelector('#df-fda54d4f-bfbb-411f-9abe-9e897797fa9d');\n",
              "          const dataTable =\n",
              "            await google.colab.kernel.invokeFunction('convertToInteractive',\n",
              "                                                     [key], {});\n",
              "          if (!dataTable) return;\n",
              "\n",
              "          const docLinkHtml = 'Like what you see? Visit the ' +\n",
              "            '<a target=\"_blank\" href=https://colab.research.google.com/notebooks/data_table.ipynb>data table notebook</a>'\n",
              "            + ' to learn more about interactive tables.';\n",
              "          element.innerHTML = '';\n",
              "          dataTable['output_type'] = 'display_data';\n",
              "          await google.colab.output.renderOutput(dataTable, element);\n",
              "          const docLink = document.createElement('div');\n",
              "          docLink.innerHTML = docLinkHtml;\n",
              "          element.appendChild(docLink);\n",
              "        }\n",
              "      </script>\n",
              "    </div>\n",
              "  </div>\n",
              "  "
            ]
          },
          "metadata": {},
          "execution_count": 24
        }
      ]
    },
    {
      "cell_type": "markdown",
      "source": [
        "#####Handling Outlier"
      ],
      "metadata": {
        "id": "ene5uS0xcOt2"
      }
    },
    {
      "cell_type": "code",
      "source": [
        "#Boxplot of Umur\n",
        "plt.boxplot(merge_data['Umur'], vert=False)\n",
        "plt.title(\"Detecting outliers using Boxplot\")\n",
        "plt.xlabel(\"Attribute - Umur\")"
      ],
      "metadata": {
        "colab": {
          "base_uri": "https://localhost:8080/",
          "height": 313
        },
        "id": "3OAqgKaKribS",
        "outputId": "40797a64-4c9b-4fff-bb10-94a51985b93b"
      },
      "execution_count": 25,
      "outputs": [
        {
          "output_type": "execute_result",
          "data": {
            "text/plain": [
              "Text(0.5, 0, 'Attribute - Umur')"
            ]
          },
          "metadata": {},
          "execution_count": 25
        },
        {
          "output_type": "display_data",
          "data": {
            "text/plain": [
              "<Figure size 432x288 with 1 Axes>"
            ],
            "image/png": "[encoded data removed]"
          },
          "metadata": {
            "needs_background": "light"
          }
        }
      ]
    },
    {
      "cell_type": "code",
      "source": [
        "#Boxplot of Pendapatan\n",
        "plt.boxplot(merge_data['Pendapatan'], vert=False)\n",
        "plt.title(\"Detecting outliers using Boxplot\")\n",
        "plt.xlabel(\"Attribute - Pendapatan\")"
      ],
      "metadata": {
        "colab": {
          "base_uri": "https://localhost:8080/",
          "height": 313
        },
        "id": "DjafMfd5Wpkv",
        "outputId": "180f3d3c-66c9-45ba-c134-30cecde65a3a"
      },
      "execution_count": 26,
      "outputs": [
        {
          "output_type": "execute_result",
          "data": {
            "text/plain": [
              "Text(0.5, 0, 'Attribute - Pendapatan')"
            ]
          },
          "metadata": {},
          "execution_count": 26
        },
        {
          "output_type": "display_data",
          "data": {
            "text/plain": [
              "<Figure size 432x288 with 1 Axes>"
            ],
            "image/png": "[encoded data removed]"
          },
          "metadata": {
            "needs_background": "light"
          }
        }
      ]
    },
    {
      "cell_type": "code",
      "source": [
        "#Boxplot of Spent_wine\n",
        "plt.boxplot(merge_data['Spent_wine'], vert=False)\n",
        "plt.title(\"Detecting outliers using Boxplot\")\n",
        "plt.xlabel(\"Attribute - Spent_wine\")"
      ],
      "metadata": {
        "colab": {
          "base_uri": "https://localhost:8080/",
          "height": 314
        },
        "id": "zKhcTXKFE0Un",
        "outputId": "fbf74d02-84cf-4441-a6cd-4ef87983bcdd"
      },
      "execution_count": 27,
      "outputs": [
        {
          "output_type": "execute_result",
          "data": {
            "text/plain": [
              "Text(0.5, 0, 'Attribute - Spent_wine')"
            ]
          },
          "metadata": {},
          "execution_count": 27
        },
        {
          "output_type": "display_data",
          "data": {
            "text/plain": [
              "<Figure size 432x288 with 1 Axes>"
            ],
            "image/png": "[encoded data removed]"
          },
          "metadata": {
            "needs_background": "light"
          }
        }
      ]
    },
    {
      "cell_type": "code",
      "source": [
        "#Boxplot of Spent_buah\n",
        "\n",
        "plt.boxplot(merge_data['Spent_buah'], vert=False)\n",
        "plt.title(\"Detecting outliers using Boxplot\")\n",
        "plt.xlabel(\"Attribute - Spent_buah\")"
      ],
      "metadata": {
        "colab": {
          "base_uri": "https://localhost:8080/",
          "height": 314
        },
        "id": "AJvvlctLcVGw",
        "outputId": "d6127487-04c4-42e1-81d0-a485ef01bc65"
      },
      "execution_count": 28,
      "outputs": [
        {
          "output_type": "execute_result",
          "data": {
            "text/plain": [
              "Text(0.5, 0, 'Attribute - Spent_buah')"
            ]
          },
          "metadata": {},
          "execution_count": 28
        },
        {
          "output_type": "display_data",
          "data": {
            "text/plain": [
              "<Figure size 432x288 with 1 Axes>"
            ],
            "image/png": "[encoded data removed]"
          },
          "metadata": {
            "needs_background": "light"
          }
        }
      ]
    },
    {
      "cell_type": "code",
      "source": [
        "#Boxplot of Spent_daging\n",
        "\n",
        "plt.boxplot(merge_data['Spent_daging'], vert=False)\n",
        "plt.title(\"Detecting outliers using Boxplot\")\n",
        "plt.xlabel(\"Attribute - Spent_daging\")"
      ],
      "metadata": {
        "colab": {
          "base_uri": "https://localhost:8080/",
          "height": 314
        },
        "id": "KkAS2YO5c8pt",
        "outputId": "1f87f03b-5b73-45d2-fb14-c1a58a1816c2"
      },
      "execution_count": 29,
      "outputs": [
        {
          "output_type": "execute_result",
          "data": {
            "text/plain": [
              "Text(0.5, 0, 'Attribute - Spent_daging')"
            ]
          },
          "metadata": {},
          "execution_count": 29
        },
        {
          "output_type": "display_data",
          "data": {
            "text/plain": [
              "<Figure size 432x288 with 1 Axes>"
            ],
            "image/png": "[encoded data removed]"
          },
          "metadata": {
            "needs_background": "light"
          }
        }
      ]
    },
    {
      "cell_type": "code",
      "source": [
        "#Boxplot of Spent_ikan\n",
        "\n",
        "plt.boxplot(merge_data['Spent_ikan'], vert=False)\n",
        "plt.title(\"Detecting outliers using Boxplot\")\n",
        "plt.xlabel(\"Attribute - Spent_ikan\")"
      ],
      "metadata": {
        "colab": {
          "base_uri": "https://localhost:8080/",
          "height": 314
        },
        "id": "d4T3r5v2dApK",
        "outputId": "b95cd455-c7fd-452b-dffe-795e9b10c822"
      },
      "execution_count": 30,
      "outputs": [
        {
          "output_type": "execute_result",
          "data": {
            "text/plain": [
              "Text(0.5, 0, 'Attribute - Spent_ikan')"
            ]
          },
          "metadata": {},
          "execution_count": 30
        },
        {
          "output_type": "display_data",
          "data": {
            "text/plain": [
              "<Figure size 432x288 with 1 Axes>"
            ],
            "image/png": "[encoded data removed]"
          },
          "metadata": {
            "needs_background": "light"
          }
        }
      ]
    },
    {
      "cell_type": "code",
      "source": [
        "#Boxplot of Spent_emas\n",
        "\n",
        "plt.boxplot(merge_data['Spent_emas'], vert=False)\n",
        "plt.title(\"Detecting outliers using Boxplot\")\n",
        "plt.xlabel(\"Attribute - Spent_emas\")"
      ],
      "metadata": {
        "colab": {
          "base_uri": "https://localhost:8080/",
          "height": 314
        },
        "id": "RQPRYJxsdhy8",
        "outputId": "95317ab7-22e9-4a7a-d897-43fc7d4735e6"
      },
      "execution_count": 31,
      "outputs": [
        {
          "output_type": "execute_result",
          "data": {
            "text/plain": [
              "Text(0.5, 0, 'Attribute - Spent_emas')"
            ]
          },
          "metadata": {},
          "execution_count": 31
        },
        {
          "output_type": "display_data",
          "data": {
            "text/plain": [
              "<Figure size 432x288 with 1 Axes>"
            ],
            "image/png": "[encoded data removed]"
          },
          "metadata": {
            "needs_background": "light"
          }
        }
      ]
    },
    {
      "cell_type": "code",
      "source": [
        "#Boxplot of total_spent\n",
        "\n",
        "plt.boxplot(merge_data['total_spent'], vert=False)\n",
        "plt.title(\"Detecting outliers using Boxplot\")\n",
        "plt.xlabel(\"Attribute - total_spent\")"
      ],
      "metadata": {
        "colab": {
          "base_uri": "https://localhost:8080/",
          "height": 314
        },
        "id": "IRLsvdQC5GtY",
        "outputId": "217bbb87-e700-4037-bd80-5ecac36a1a1c"
      },
      "execution_count": 32,
      "outputs": [
        {
          "output_type": "execute_result",
          "data": {
            "text/plain": [
              "Text(0.5, 0, 'Attribute - total_spent')"
            ]
          },
          "metadata": {},
          "execution_count": 32
        },
        {
          "output_type": "display_data",
          "data": {
            "text/plain": [
              "<Figure size 432x288 with 1 Axes>"
            ],
            "image/png": "[encoded data removed]"
          },
          "metadata": {
            "needs_background": "light"
          }
        }
      ]
    },
    {
      "cell_type": "markdown",
      "source": [
        "Dari boxplot sebelumnya terlihat pada data Umur, Pendapatan, spent_daging dan spent emas ada pencilan yang cukup terlihat. kita akan mencoba melakukan deteksi pencilan tersebut."
      ],
      "metadata": {
        "id": "tpxtHsGD8Y08"
      }
    },
    {
      "cell_type": "code",
      "source": [
        "# Fungsi deteksi Outlier dengan Z-score\n",
        "def detect_outliers_zscore(data):\n",
        "    outliers = []\n",
        "    thres = 3\n",
        "    mean = np.mean(data)\n",
        "    std = np.std(data)\n",
        "    # print(mean, std)\n",
        "    for i in data:\n",
        "        z_score = (i-mean)/std\n",
        "        if (np.abs(z_score) > thres):\n",
        "            outliers.append(i)\n",
        "    return outliers# Driver code\n",
        "\n",
        "# Fungsi Pendeteksian Outlier dengan IQR\n",
        "def detect_outliers_iqr(data):\n",
        "    outliers = []\n",
        "    data = sorted(data)\n",
        "    q1 = np.percentile(data, 25)\n",
        "    q3 = np.percentile(data, 75)\n",
        "\n",
        "    IQR = q3-q1\n",
        "    lwr_bound = q1-(1.5*IQR)\n",
        "    upr_bound = q3+(1.5*IQR)\n",
        "\n",
        "    for i in data: \n",
        "        if (i<lwr_bound or i>upr_bound):\n",
        "            outliers.append(i)\n",
        "    return outliers"
      ],
      "metadata": {
        "id": "VcV8vZGt7pwQ"
      },
      "execution_count": 33,
      "outputs": []
    },
    {
      "cell_type": "code",
      "source": [
        "# Umur\n",
        "# Deteksi outlier dengan Z-score\n",
        "umur_outliers_z = detect_outliers_zscore(list(merge_data.Umur))\n",
        "print(\"Outliers from Z-score method: \", umur_outliers_z)\n",
        "print(\"Jumlah data Outlier from Z-Score: \",len(umur_outliers_z))\n",
        "# Deteksi outlier dengan IQR\n",
        "umur_outliers_iqr = detect_outliers_iqr(list(merge_data.Umur))\n",
        "print(\"Outliers from IQR method: \", umur_outliers_iqr)\n",
        "print(\"Jumlah data Outlier from IQR: \",len(umur_outliers_iqr))"
      ],
      "metadata": {
        "colab": {
          "base_uri": "https://localhost:8080/"
        },
        "id": "1_xiXurVr2ll",
        "outputId": "b5f9727c-aca6-40f7-8c13-11ac137931d0"
      },
      "execution_count": 34,
      "outputs": [
        {
          "output_type": "stream",
          "name": "stdout",
          "text": [
            "Outliers from Z-score method:  [114, 121, 115]\n",
            "Jumlah data Outlier from Z-Score:  3\n",
            "Outliers from IQR method:  [114, 115, 121]\n",
            "Jumlah data Outlier from IQR:  3\n"
          ]
        }
      ]
    },
    {
      "cell_type": "code",
      "source": [
        "# Pendapatan\n",
        "# Deteksi outlier dengan Z-score\n",
        "pendapatan_outliers_z = detect_outliers_zscore(list(merge_data.Pendapatan))\n",
        "print(\"Outliers from Z-score method: \", pendapatan_outliers_z)\n",
        "print(\"Jumlah data Outlier from Z-Score: \",len(pendapatan_outliers_z))\n",
        "# Deteksi outlier dengan IQR\n",
        "pendapatan_outliers_iqr = detect_outliers_iqr(list(merge_data.Pendapatan))\n",
        "print(\"Outliers from IQR method: \", pendapatan_outliers_iqr)\n",
        "print(\"Jumlah data Outlier from IQR: \",len(pendapatan_outliers_iqr))"
      ],
      "metadata": {
        "colab": {
          "base_uri": "https://localhost:8080/"
        },
        "id": "JU_Xqz5DXgdW",
        "outputId": "d5ead398-ff2f-45a9-bb7f-f7ec123faab5"
      },
      "execution_count": 35,
      "outputs": [
        {
          "output_type": "stream",
          "name": "stdout",
          "text": [
            "Outliers from Z-score method:  [157243.0, 162397.0, 153924.0, 160803.0, 157733.0, 157146.0, 156924.0, 666666.0]\n",
            "Jumlah data Outlier from Z-Score:  8\n",
            "Outliers from IQR method:  [153924.0, 156924.0, 157146.0, 157243.0, 157733.0, 160803.0, 162397.0, 666666.0]\n",
            "Jumlah data Outlier from IQR:  8\n"
          ]
        }
      ]
    },
    {
      "cell_type": "code",
      "source": [
        "# Spent Daging\n",
        "# Deteksi outlier dengan Z-score\n",
        "daging_outliers_z = detect_outliers_zscore(list(merge_data.Spent_daging))\n",
        "print(\"Outliers from Z-score method: \", daging_outliers_z)\n",
        "print(\"Jumlah data Outlier from Z-Score: \",len(daging_outliers_z))\n",
        "# Deteksi outlier dengan IQR\n",
        "daging_outliers_iqr = detect_outliers_iqr(list(merge_data.Spent_daging))\n",
        "print(\"Outliers from IQR method: \", daging_outliers_iqr)\n",
        "print(\"Jumlah data Outlier from IQR: \",len(daging_outliers_iqr))"
      ],
      "metadata": {
        "colab": {
          "base_uri": "https://localhost:8080/"
        },
        "id": "h7X57gTp8DbC",
        "outputId": "9a636ae2-763e-42cb-a356-35af4ed84005"
      },
      "execution_count": 36,
      "outputs": [
        {
          "output_type": "stream",
          "name": "stdout",
          "text": [
            "Outliers from Z-score method:  [1725, 925, 951, 921, 1582, 974, 925, 940, 1622, 898, 929, 845, 873, 890, 925, 961, 842, 843, 864, 915, 913, 946, 842, 984, 915, 1725, 850, 936, 935, 853, 981, 899, 951, 932, 968, 883, 849, 845, 860]\n",
            "Jumlah data Outlier from Z-Score:  39\n",
            "Outliers from IQR method:  [558, 559, 560, 561, 562, 565, 565, 567, 568, 568, 569, 570, 572, 573, 573, 573, 573, 575, 586, 590, 590, 591, 592, 592, 594, 595, 597, 597, 599, 601, 602, 603, 604, 606, 607, 611, 612, 613, 614, 617, 622, 625, 629, 631, 635, 639, 640, 649, 650, 651, 653, 653, 654, 655, 670, 672, 672, 673, 674, 678, 685, 687, 687, 689, 689, 689, 690, 693, 694, 697, 701, 704, 706, 706, 706, 708, 711, 711, 713, 716, 717, 717, 724, 731, 731, 732, 733, 735, 736, 740, 742, 746, 747, 749, 750, 751, 753, 754, 756, 757, 758, 761, 768, 768, 768, 774, 779, 780, 780, 785, 786, 790, 790, 792, 797, 797, 801, 801, 804, 812, 813, 815, 815, 815, 816, 818, 818, 818, 827, 832, 832, 835, 835, 838, 838, 842, 842, 843, 845, 845, 849, 850, 853, 860, 864, 873, 883, 890, 898, 899, 913, 915, 915, 921, 925, 925, 925, 929, 932, 935, 936, 940, 946, 951, 951, 961, 968, 974, 981, 984, 1582, 1622, 1725, 1725]\n",
            "Jumlah data Outlier from IQR:  174\n"
          ]
        }
      ]
    },
    {
      "cell_type": "code",
      "source": [
        "# Spent Emas\n",
        "# Deteksi outlier dengan Z-score\n",
        "emas_outliers_z = detect_outliers_zscore(list(merge_data.Spent_emas))\n",
        "print(\"Outliers from Z-score method: \", emas_outliers_z)\n",
        "print(\"Jumlah data Outlier from Z-Score: \",len(emas_outliers_z))\n",
        "# Deteksi outlier dengan IQR\n",
        "emas_outliers_iqr = detect_outliers_iqr(list(merge_data.Spent_emas))\n",
        "print(\"Outliers from IQR method: \", emas_outliers_iqr)\n",
        "print(\"Jumlah data Outlier from IQR: \",len(emas_outliers_iqr))"
      ],
      "metadata": {
        "colab": {
          "base_uri": "https://localhost:8080/"
        },
        "id": "4XaenLYC9b6W",
        "outputId": "6e078e0a-a27d-4d3f-eb11-ef521ef73684"
      },
      "execution_count": 37,
      "outputs": [
        {
          "output_type": "stream",
          "name": "stdout",
          "text": [
            "Outliers from Z-score method:  [241, 223, 216, 223, 241, 203, 224, 218, 233, 241, 224, 207, 242, 249, 227, 205, 205, 242, 241, 227, 231, 218, 200, 200, 210, 241, 210, 205, 262, 246, 200, 215, 291, 232, 219, 203, 224, 321, 204, 232, 245, 229, 241, 248, 227, 247]\n",
            "Jumlah data Outlier from Z-Score:  46\n",
            "Outliers from IQR method:  [127, 128, 128, 129, 129, 129, 130, 130, 130, 130, 130, 131, 131, 131, 131, 132, 133, 133, 133, 133, 133, 133, 134, 134, 134, 134, 134, 135, 135, 137, 138, 138, 139, 139, 139, 140, 141, 141, 141, 141, 142, 142, 142, 143, 143, 144, 144, 144, 144, 145, 145, 145, 145, 145, 146, 146, 147, 147, 147, 148, 149, 149, 149, 150, 150, 151, 151, 151, 152, 152, 152, 153, 153, 153, 153, 153, 153, 154, 154, 154, 154, 155, 157, 158, 159, 159, 160, 161, 162, 162, 163, 163, 163, 165, 166, 166, 168, 168, 168, 169, 170, 170, 170, 171, 172, 172, 172, 172, 172, 172, 172, 173, 174, 174, 174, 174, 174, 175, 175, 176, 176, 176, 177, 178, 180, 181, 182, 182, 182, 182, 182, 183, 183, 183, 185, 185, 187, 187, 187, 190, 190, 190, 191, 191, 191, 191, 191, 191, 192, 192, 192, 195, 195, 196, 196, 196, 197, 198, 199, 200, 200, 200, 203, 203, 204, 205, 205, 205, 207, 210, 210, 215, 216, 218, 218, 219, 223, 223, 224, 224, 224, 227, 227, 227, 229, 231, 232, 232, 233, 241, 241, 241, 241, 241, 241, 242, 242, 245, 246, 247, 248, 249, 262, 291, 321]\n",
            "Jumlah data Outlier from IQR:  205\n"
          ]
        }
      ]
    },
    {
      "cell_type": "markdown",
      "source": [
        "Handling Outlier dengan metode \"Replace Median Data\""
      ],
      "metadata": {
        "id": "ZsTjTuu4_beU"
      }
    },
    {
      "cell_type": "code",
      "source": [
        "#Replace median Umur\n",
        "\n",
        "umur_med = []\n",
        "for y in list(merge_data.Umur):\n",
        "    ff = y in umur_outliers_iqr\n",
        "    if ff is True:\n",
        "        y=statistics.median(list(merge_data.Umur))\n",
        "    else:\n",
        "        y=y\n",
        "    umur_med.append(y)\n",
        "# Menghitung nilai mean dan median data\n",
        "\n",
        "print(\"Mean data : \",statistics.mean(list(merge_data.Umur)))\n",
        "print(\"Median data : \",statistics.median(list(merge_data.Umur)))\n",
        "print(\"Mean data setelah Replace Median : \",statistics.mean(umur_med))\n",
        "print(\"Median data setelah Replace Median: \",statistics.median(umur_med))"
      ],
      "metadata": {
        "colab": {
          "base_uri": "https://localhost:8080/"
        },
        "id": "aAVHDA0lsDnd",
        "outputId": "4d254071-163c-43b1-d18f-293062475934"
      },
      "execution_count": 38,
      "outputs": [
        {
          "output_type": "stream",
          "name": "stdout",
          "text": [
            "Mean data :  45.17960288808664\n",
            "Median data :  44.0\n",
            "Mean data setelah Replace Median :  45.081227436823106\n",
            "Median data setelah Replace Median:  44.0\n"
          ]
        }
      ]
    },
    {
      "cell_type": "code",
      "source": [
        "#Replace median Pendapatan\n",
        "\n",
        "pendapatan_med = []\n",
        "for y in list(merge_data.Pendapatan):\n",
        "    ff = y in pendapatan_outliers_iqr\n",
        "    if ff is True:\n",
        "        y=statistics.median(list(merge_data.Pendapatan))\n",
        "    else:\n",
        "        y=y\n",
        "    pendapatan_med.append(y)\n",
        "# Menghitung nilai mean dan median data\n",
        "\n",
        "print(\"Mean data : \",statistics.mean(list(merge_data.Pendapatan)))\n",
        "print(\"Median data : \",statistics.median(list(merge_data.Pendapatan)))\n",
        "print(\"Mean data setelah Replace Median : \",statistics.mean(pendapatan_med))\n",
        "print(\"Median data setelah Replace Median: \",statistics.median(pendapatan_med))"
      ],
      "metadata": {
        "colab": {
          "base_uri": "https://localhost:8080/"
        },
        "id": "GrRCTUH9XyPs",
        "outputId": "721bef66-0498-4d1c-b07b-877560c17737"
      },
      "execution_count": 39,
      "outputs": [
        {
          "output_type": "stream",
          "name": "stdout",
          "text": [
            "Mean data :  52247.25135379061\n",
            "Median data :  51381.5\n",
            "Mean data setelah Replace Median :  51632.72788808664\n",
            "Median data setelah Replace Median:  51377.25\n"
          ]
        }
      ]
    },
    {
      "cell_type": "code",
      "source": [
        "plt.boxplot(pendapatan_med, vert=False)\n",
        "plt.title(\"After Replacing outliers\")\n",
        "plt.xlabel(\"Attribute - Pendapatan\")"
      ],
      "metadata": {
        "colab": {
          "base_uri": "https://localhost:8080/",
          "height": 313
        },
        "id": "iu9AD97cYhR1",
        "outputId": "11eb77da-80ec-45b6-cdb1-dedf6b6fffff"
      },
      "execution_count": 40,
      "outputs": [
        {
          "output_type": "execute_result",
          "data": {
            "text/plain": [
              "Text(0.5, 0, 'Attribute - Pendapatan')"
            ]
          },
          "metadata": {},
          "execution_count": 40
        },
        {
          "output_type": "display_data",
          "data": {
            "text/plain": [
              "<Figure size 432x288 with 1 Axes>"
            ],
            "image/png": "[encoded data removed]"
          },
          "metadata": {
            "needs_background": "light"
          }
        }
      ]
    },
    {
      "cell_type": "code",
      "source": [
        "#Replace median Spent_daging\n",
        "\n",
        "daging_med = []\n",
        "for y in list(merge_data.Spent_daging):\n",
        "    ff = y in daging_outliers_iqr\n",
        "    if ff is True:\n",
        "        y=statistics.median(list(merge_data.Spent_daging))\n",
        "    else:\n",
        "        y=y\n",
        "    daging_med.append(y)\n",
        "# Menghitung nilai mean dan median data\n",
        "\n",
        "print(\"Mean data : \",statistics.mean(list(merge_data.Spent_daging)))\n",
        "print(\"Median data : \",statistics.median(list(merge_data.Spent_daging)))\n",
        "print(\"Mean data setelah Replace Median : \",statistics.mean(daging_med))\n",
        "print(\"Median data setelah Replace Median: \",statistics.median(daging_med))"
      ],
      "metadata": {
        "colab": {
          "base_uri": "https://localhost:8080/"
        },
        "id": "qCJ68QPE_ixl",
        "outputId": "e097ecdd-50ea-4083-d1f9-2967eed9e365"
      },
      "execution_count": 41,
      "outputs": [
        {
          "output_type": "stream",
          "name": "stdout",
          "text": [
            "Mean data :  166.99593862815885\n",
            "Median data :  68.0\n",
            "Mean data setelah Replace Median :  112.90162454873646\n",
            "Median data setelah Replace Median:  68.0\n"
          ]
        }
      ]
    },
    {
      "cell_type": "code",
      "source": [
        "plt.boxplot(daging_med, vert=False)\n",
        "plt.title(\"After Replacing outliers\")\n",
        "plt.xlabel(\"Attribute - Spent_daging\")"
      ],
      "metadata": {
        "colab": {
          "base_uri": "https://localhost:8080/",
          "height": 314
        },
        "id": "xNPs5e2BCZ7H",
        "outputId": "11eaec9e-096f-4b7c-a9a4-aeb35eb2c82b"
      },
      "execution_count": 42,
      "outputs": [
        {
          "output_type": "execute_result",
          "data": {
            "text/plain": [
              "Text(0.5, 0, 'Attribute - Spent_daging')"
            ]
          },
          "metadata": {},
          "execution_count": 42
        },
        {
          "output_type": "display_data",
          "data": {
            "text/plain": [
              "<Figure size 432x288 with 1 Axes>"
            ],
            "image/png": "[encoded data removed]"
          },
          "metadata": {
            "needs_background": "light"
          }
        }
      ]
    },
    {
      "cell_type": "code",
      "source": [
        "#Replace median Spent_emas\n",
        "\n",
        "emas_med = []\n",
        "for y in list(merge_data.Spent_emas):\n",
        "    ff = y in emas_outliers_iqr\n",
        "    if ff is True:\n",
        "        y=statistics.median(list(merge_data.Spent_emas))\n",
        "    else:\n",
        "        y=y\n",
        "    emas_med.append(y)\n",
        "# Menghitung nilai mean dan median data\n",
        "\n",
        "print(\"Mean data : \",statistics.mean(list(merge_data.Spent_emas)))\n",
        "print(\"Median data : \",statistics.median(list(merge_data.Spent_emas)))\n",
        "print(\"Mean data setelah Replace Median : \",statistics.mean(emas_med))\n",
        "print(\"Median data setelah Replace Median: \",statistics.median(emas_med))"
      ],
      "metadata": {
        "colab": {
          "base_uri": "https://localhost:8080/"
        },
        "id": "ETV5OZvdGyDq",
        "outputId": "15a76864-b7dd-4240-c23d-653674ef30b6"
      },
      "execution_count": 43,
      "outputs": [
        {
          "output_type": "stream",
          "name": "stdout",
          "text": [
            "Mean data :  43.96525270758123\n",
            "Median data :  24.5\n",
            "Mean data setelah Replace Median :  30.061597472924188\n",
            "Median data setelah Replace Median:  24.25\n"
          ]
        }
      ]
    },
    {
      "cell_type": "code",
      "source": [
        "plt.boxplot(emas_med, vert=False)\n",
        "plt.title(\"After Replacing outliers\")\n",
        "plt.xlabel(\"Attribute - Spent_emas\")"
      ],
      "metadata": {
        "colab": {
          "base_uri": "https://localhost:8080/",
          "height": 314
        },
        "id": "n56rjpxTG93I",
        "outputId": "a8b3a24f-da13-4aac-9c51-8be4d2dc595e"
      },
      "execution_count": 44,
      "outputs": [
        {
          "output_type": "execute_result",
          "data": {
            "text/plain": [
              "Text(0.5, 0, 'Attribute - Spent_emas')"
            ]
          },
          "metadata": {},
          "execution_count": 44
        },
        {
          "output_type": "display_data",
          "data": {
            "text/plain": [
              "<Figure size 432x288 with 1 Axes>"
            ],
            "image/png": "[encoded data removed]"
          },
          "metadata": {
            "needs_background": "light"
          }
        }
      ]
    },
    {
      "cell_type": "code",
      "source": [
        "#Mengubah nilai pada dataframe merge_data pendapatan, Spent_daging dan Spent_emas dengan nilai hasil handing outlier\n",
        "merge_data['Umur']= umur_med\n",
        "merge_data['Pendapatan']= pendapatan_med\n",
        "merge_data['Spent_daging']= daging_med \n",
        "merge_data['Spent_emas']= emas_med"
      ],
      "metadata": {
        "id": "eQd7WRl6bw96"
      },
      "execution_count": 45,
      "outputs": []
    },
    {
      "cell_type": "code",
      "source": [
        "merge_data.info()"
      ],
      "metadata": {
        "colab": {
          "base_uri": "https://localhost:8080/"
        },
        "id": "4yL_1YYOoQA9",
        "outputId": "ef76f3ee-9a5c-497d-aa5d-bafdec1b78b9"
      },
      "execution_count": 46,
      "outputs": [
        {
          "output_type": "stream",
          "name": "stdout",
          "text": [
            "<class 'pandas.core.frame.DataFrame'>\n",
            "Int64Index: 2216 entries, 0 to 2239\n",
            "Data columns (total 12 columns):\n",
            " #   Column             Non-Null Count  Dtype  \n",
            "---  ------             --------------  -----  \n",
            " 0   Pendidikan         2216 non-null   int64  \n",
            " 1   Status_pernikahan  2216 non-null   int64  \n",
            " 2   Pendapatan         2216 non-null   float64\n",
            " 3   Umur               2216 non-null   float64\n",
            " 4   recency            2216 non-null   int64  \n",
            " 5   total_anak         2216 non-null   int64  \n",
            " 6   Spent_wine         2216 non-null   int64  \n",
            " 7   Spent_buah         2216 non-null   int64  \n",
            " 8   Spent_daging       2216 non-null   float64\n",
            " 9   Spent_ikan         2216 non-null   int64  \n",
            " 10  Spent_emas         2216 non-null   float64\n",
            " 11  total_spent        2216 non-null   int64  \n",
            "dtypes: float64(4), int64(8)\n",
            "memory usage: 225.1 KB\n"
          ]
        }
      ]
    },
    {
      "cell_type": "code",
      "source": [
        "merge_data = merge_data.astype({\"Umur\":\"int\",\"Spent_daging\":\"int\",\"Spent_emas\":\"int\"})\n",
        "merge_data.info()"
      ],
      "metadata": {
        "colab": {
          "base_uri": "https://localhost:8080/"
        },
        "id": "ezv1lDh15hQQ",
        "outputId": "c4de5df3-c533-4c4a-d2cc-8a743511e07f"
      },
      "execution_count": 47,
      "outputs": [
        {
          "output_type": "stream",
          "name": "stdout",
          "text": [
            "<class 'pandas.core.frame.DataFrame'>\n",
            "Int64Index: 2216 entries, 0 to 2239\n",
            "Data columns (total 12 columns):\n",
            " #   Column             Non-Null Count  Dtype  \n",
            "---  ------             --------------  -----  \n",
            " 0   Pendidikan         2216 non-null   int64  \n",
            " 1   Status_pernikahan  2216 non-null   int64  \n",
            " 2   Pendapatan         2216 non-null   float64\n",
            " 3   Umur               2216 non-null   int64  \n",
            " 4   recency            2216 non-null   int64  \n",
            " 5   total_anak         2216 non-null   int64  \n",
            " 6   Spent_wine         2216 non-null   int64  \n",
            " 7   Spent_buah         2216 non-null   int64  \n",
            " 8   Spent_daging       2216 non-null   int64  \n",
            " 9   Spent_ikan         2216 non-null   int64  \n",
            " 10  Spent_emas         2216 non-null   int64  \n",
            " 11  total_spent        2216 non-null   int64  \n",
            "dtypes: float64(1), int64(11)\n",
            "memory usage: 225.1 KB\n"
          ]
        }
      ]
    },
    {
      "cell_type": "markdown",
      "source": [
        "#####Features Selection\n",
        "Dalam clustering perlu diketahui juga hubungan tiap variabelnya. Hal ini akan membantu anda dalam menentukan features mana saja yang akan digunakan. Pemilihan ini dapat dicoba dengan mengalisa korelasi tiap variabel."
      ],
      "metadata": {
        "id": "l-to0wXAQAT1"
      }
    },
    {
      "cell_type": "code",
      "source": [
        "# Features Selection\n",
        "plt.figure(figsize=(8,6))\n",
        "sns.heatmap(merge_data.corr(), cmap = 'Wistia', annot = True)\n",
        "plt.title('Heatmap Data', fontsize = 20)\n",
        "plt.show()"
      ],
      "metadata": {
        "colab": {
          "base_uri": "https://localhost:8080/",
          "height": 478
        },
        "id": "3JhxdFj6QDj4",
        "outputId": "8d9f8d74-99c7-4aaa-e040-af5b5a0a271e"
      },
      "execution_count": 48,
      "outputs": [
        {
          "output_type": "display_data",
          "data": {
            "text/plain": [
              "<Figure size 576x432 with 2 Axes>"
            ],
            "image/png": "[encoded data removed]"
          },
          "metadata": {
            "needs_background": "light"
          }
        }
      ]
    },
    {
      "cell_type": "markdown",
      "source": [
        "Dari hasil heatmap diatas diketahui bahwa korelasi terbesar dimiliki oleh variabel ( Pendapatan, spent_wine, spent_dbuah, spent_daging, spent_ikan,spent_emas), selanjutnya disusul oleh total_anak, recency, dan status pernikahan, akan tetapi nilainya cukup rendah. Oleh karena itu, untuk selanjutnya akan digunakan 6 variabel dalam menentukan cluster dari data yaitu  pendapatan, spent_wine, spent_dbuah, spent_daging, spent_ikan,spent_emas."
      ],
      "metadata": {
        "id": "fplXpBziQrlV"
      }
    },
    {
      "cell_type": "code",
      "source": [
        "df_spent = merge_data[['Pendapatan','Spent_wine','Spent_buah','Spent_daging', 'Spent_ikan', 'Spent_emas', 'total_spent']]\n",
        "df_spent.head()"
      ],
      "metadata": {
        "colab": {
          "base_uri": "https://localhost:8080/",
          "height": 206
        },
        "id": "hOp_koTPgvDI",
        "outputId": "95f84f89-155b-406e-892c-6339ceed3227"
      },
      "execution_count": 49,
      "outputs": [
        {
          "output_type": "execute_result",
          "data": {
            "text/plain": [
              "   Pendapatan  Spent_wine  Spent_buah  Spent_daging  Spent_ikan  Spent_emas  \\\n",
              "0     58138.0         635          88           546         172          88   \n",
              "1     46344.0          11           1             6           2           6   \n",
              "2     71613.0         426          49           127         111          42   \n",
              "3     26646.0          11           4            20          10           5   \n",
              "4     58293.0         173          43           118          46          15   \n",
              "\n",
              "   total_spent  \n",
              "0         1529  \n",
              "1           26  \n",
              "2          755  \n",
              "3           50  \n",
              "4          395  "
            ],
            "text/html": [
              "\n",
              "  <div id=\"df-b8977518-5c6f-4151-b784-7b87a2879b9a\">\n",
              "    <div class=\"colab-df-container\">\n",
              "      <div>\n",
              "<style scoped>\n",
              "    .dataframe tbody tr th:only-of-type {\n",
              "        vertical-align: middle;\n",
              "    }\n",
              "\n",
              "    .dataframe tbody tr th {\n",
              "        vertical-align: top;\n",
              "    }\n",
              "\n",
              "    .dataframe thead th {\n",
              "        text-align: right;\n",
              "    }\n",
              "</style>\n",
              "<table border=\"1\" class=\"dataframe\">\n",
              "  <thead>\n",
              "    <tr style=\"text-align: right;\">\n",
              "      <th></th>\n",
              "      <th>Pendapatan</th>\n",
              "      <th>Spent_wine</th>\n",
              "      <th>Spent_buah</th>\n",
              "      <th>Spent_daging</th>\n",
              "      <th>Spent_ikan</th>\n",
              "      <th>Spent_emas</th>\n",
              "      <th>total_spent</th>\n",
              "    </tr>\n",
              "  </thead>\n",
              "  <tbody>\n",
              "    <tr>\n",
              "      <th>0</th>\n",
              "      <td>58138.0</td>\n",
              "      <td>635</td>\n",
              "      <td>88</td>\n",
              "      <td>546</td>\n",
              "      <td>172</td>\n",
              "      <td>88</td>\n",
              "      <td>1529</td>\n",
              "    </tr>\n",
              "    <tr>\n",
              "      <th>1</th>\n",
              "      <td>46344.0</td>\n",
              "      <td>11</td>\n",
              "      <td>1</td>\n",
              "      <td>6</td>\n",
              "      <td>2</td>\n",
              "      <td>6</td>\n",
              "      <td>26</td>\n",
              "    </tr>\n",
              "    <tr>\n",
              "      <th>2</th>\n",
              "      <td>71613.0</td>\n",
              "      <td>426</td>\n",
              "      <td>49</td>\n",
              "      <td>127</td>\n",
              "      <td>111</td>\n",
              "      <td>42</td>\n",
              "      <td>755</td>\n",
              "    </tr>\n",
              "    <tr>\n",
              "      <th>3</th>\n",
              "      <td>26646.0</td>\n",
              "      <td>11</td>\n",
              "      <td>4</td>\n",
              "      <td>20</td>\n",
              "      <td>10</td>\n",
              "      <td>5</td>\n",
              "      <td>50</td>\n",
              "    </tr>\n",
              "    <tr>\n",
              "      <th>4</th>\n",
              "      <td>58293.0</td>\n",
              "      <td>173</td>\n",
              "      <td>43</td>\n",
              "      <td>118</td>\n",
              "      <td>46</td>\n",
              "      <td>15</td>\n",
              "      <td>395</td>\n",
              "    </tr>\n",
              "  </tbody>\n",
              "</table>\n",
              "</div>\n",
              "      <button class=\"colab-df-convert\" onclick=\"convertToInteractive('df-b8977518-5c6f-4151-b784-7b87a2879b9a')\"\n",
              "              title=\"Convert this dataframe to an interactive table.\"\n",
              "              style=\"display:none;\">\n",
              "        \n",
              "  <svg xmlns=\"http://www.w3.org/2000/svg\" height=\"24px\"viewBox=\"0 0 24 24\"\n",
              "       width=\"24px\">\n",
              "    <path d=\"M0 0h24v24H0V0z\" fill=\"none\"/>\n",
              "    <path d=\"M18.56 5.44l.94 2.06.94-2.06 2.06-.94-2.06-.94-.94-2.06-.94 2.06-2.06.94zm-11 1L8.5 8.5l.94-2.06 2.06-.94-2.06-.94L8.5 2.5l-.94 2.06-2.06.94zm10 10l.94 2.06.94-2.06 2.06-.94-2.06-.94-.94-2.06-.94 2.06-2.06.94z\"/><path d=\"M17.41 7.96l-1.37-1.37c-.4-.4-.92-.59-1.43-.59-.52 0-1.04.2-1.43.59L10.3 9.45l-7.72 7.72c-.78.78-.78 2.05 0 2.83L4 21.41c.39.39.9.59 1.41.59.51 0 1.02-.2 1.41-.59l7.78-7.78 2.81-2.81c.8-.78.8-2.07 0-2.86zM5.41 20L4 18.59l7.72-7.72 1.47 1.35L5.41 20z\"/>\n",
              "  </svg>\n",
              "      </button>\n",
              "      \n",
              "  <style>\n",
              "    .colab-df-container {\n",
              "      display:flex;\n",
              "      flex-wrap:wrap;\n",
              "      gap: 12px;\n",
              "    }\n",
              "\n",
              "    .colab-df-convert {\n",
              "      background-color: #E8F0FE;\n",
              "      border: none;\n",
              "      border-radius: 50%;\n",
              "      cursor: pointer;\n",
              "      display: none;\n",
              "      fill: #1967D2;\n",
              "      height: 32px;\n",
              "      padding: 0 0 0 0;\n",
              "      width: 32px;\n",
              "    }\n",
              "\n",
              "    .colab-df-convert:hover {\n",
              "      background-color: #E2EBFA;\n",
              "      box-shadow: 0px 1px 2px rgba(60, 64, 67, 0.3), 0px 1px 3px 1px rgba(60, 64, 67, 0.15);\n",
              "      fill: #174EA6;\n",
              "    }\n",
              "\n",
              "    [theme=dark] .colab-df-convert {\n",
              "      background-color: #3B4455;\n",
              "      fill: #D2E3FC;\n",
              "    }\n",
              "\n",
              "    [theme=dark] .colab-df-convert:hover {\n",
              "      background-color: #434B5C;\n",
              "      box-shadow: 0px 1px 3px 1px rgba(0, 0, 0, 0.15);\n",
              "      filter: drop-shadow(0px 1px 2px rgba(0, 0, 0, 0.3));\n",
              "      fill: #FFFFFF;\n",
              "    }\n",
              "  </style>\n",
              "\n",
              "      <script>\n",
              "        const buttonEl =\n",
              "          document.querySelector('#df-b8977518-5c6f-4151-b784-7b87a2879b9a button.colab-df-convert');\n",
              "        buttonEl.style.display =\n",
              "          google.colab.kernel.accessAllowed ? 'block' : 'none';\n",
              "\n",
              "        async function convertToInteractive(key) {\n",
              "          const element = document.querySelector('#df-b8977518-5c6f-4151-b784-7b87a2879b9a');\n",
              "          const dataTable =\n",
              "            await google.colab.kernel.invokeFunction('convertToInteractive',\n",
              "                                                     [key], {});\n",
              "          if (!dataTable) return;\n",
              "\n",
              "          const docLinkHtml = 'Like what you see? Visit the ' +\n",
              "            '<a target=\"_blank\" href=https://colab.research.google.com/notebooks/data_table.ipynb>data table notebook</a>'\n",
              "            + ' to learn more about interactive tables.';\n",
              "          element.innerHTML = '';\n",
              "          dataTable['output_type'] = 'display_data';\n",
              "          await google.colab.output.renderOutput(dataTable, element);\n",
              "          const docLink = document.createElement('div');\n",
              "          docLink.innerHTML = docLinkHtml;\n",
              "          element.appendChild(docLink);\n",
              "        }\n",
              "      </script>\n",
              "    </div>\n",
              "  </div>\n",
              "  "
            ]
          },
          "metadata": {},
          "execution_count": 49
        }
      ]
    },
    {
      "cell_type": "code",
      "source": [
        "df_spent.info()"
      ],
      "metadata": {
        "colab": {
          "base_uri": "https://localhost:8080/"
        },
        "id": "5W7YkCEfe0Xy",
        "outputId": "5c47ecd6-539a-4678-fc44-401e43deb4d4"
      },
      "execution_count": 50,
      "outputs": [
        {
          "output_type": "stream",
          "name": "stdout",
          "text": [
            "<class 'pandas.core.frame.DataFrame'>\n",
            "Int64Index: 2216 entries, 0 to 2239\n",
            "Data columns (total 7 columns):\n",
            " #   Column        Non-Null Count  Dtype  \n",
            "---  ------        --------------  -----  \n",
            " 0   Pendapatan    2216 non-null   float64\n",
            " 1   Spent_wine    2216 non-null   int64  \n",
            " 2   Spent_buah    2216 non-null   int64  \n",
            " 3   Spent_daging  2216 non-null   int64  \n",
            " 4   Spent_ikan    2216 non-null   int64  \n",
            " 5   Spent_emas    2216 non-null   int64  \n",
            " 6   total_spent   2216 non-null   int64  \n",
            "dtypes: float64(1), int64(6)\n",
            "memory usage: 138.5 KB\n"
          ]
        }
      ]
    },
    {
      "cell_type": "markdown",
      "metadata": {
        "id": "ASMdsGNmKh0P"
      },
      "source": [
        "#### MODELING & EVALUATION"
      ]
    },
    {
      "cell_type": "markdown",
      "source": [
        "#####Menentukan Nilai Optimal K"
      ],
      "metadata": {
        "id": "uijpeWpYR4Lm"
      }
    },
    {
      "cell_type": "code",
      "source": [
        "# Data Scaling\n",
        "scaler = StandardScaler()\n",
        "df_spent_scal = df_spent.copy()\n",
        "df_spent_scal[['Pendapatan','Spent_wine','Spent_buah','Spent_daging', 'Spent_ikan', 'Spent_emas','total_spent']] = scaler.fit_transform(df_spent_scal[['Pendapatan','Spent_wine','Spent_buah','Spent_daging', 'Spent_ikan', 'Spent_emas','total_spent']])\n",
        "df_spent_scal.head()"
      ],
      "metadata": {
        "colab": {
          "base_uri": "https://localhost:8080/",
          "height": 206
        },
        "id": "Y3G4aAFCY3xR",
        "outputId": "25221b0f-561f-4b4b-e872-0a0038c3f5a0"
      },
      "execution_count": 51,
      "outputs": [
        {
          "output_type": "execute_result",
          "data": {
            "text/plain": [
              "   Pendapatan  Spent_wine  Spent_buah  Spent_daging  Spent_ikan  Spent_emas  \\\n",
              "0    0.314701    0.978226    1.549429      3.210081    2.454568    2.023255   \n",
              "1   -0.255849   -0.872024   -0.637328     -0.792344   -0.651038   -0.837966   \n",
              "2    0.966572    0.358511    0.569159      0.104496    1.340203    0.418180   \n",
              "3   -1.208766   -0.872024   -0.561922     -0.688577   -0.504892   -0.872859   \n",
              "4    0.322199   -0.391671    0.418348      0.037789    0.152766   -0.523929   \n",
              "\n",
              "   total_spent  \n",
              "0     1.639640  \n",
              "1    -0.957303  \n",
              "2     0.302292  \n",
              "3    -0.915835  \n",
              "4    -0.319731  "
            ],
            "text/html": [
              "\n",
              "  <div id=\"df-0416b6c3-282f-425f-809d-22be04f03c11\">\n",
              "    <div class=\"colab-df-container\">\n",
              "      <div>\n",
              "<style scoped>\n",
              "    .dataframe tbody tr th:only-of-type {\n",
              "        vertical-align: middle;\n",
              "    }\n",
              "\n",
              "    .dataframe tbody tr th {\n",
              "        vertical-align: top;\n",
              "    }\n",
              "\n",
              "    .dataframe thead th {\n",
              "        text-align: right;\n",
              "    }\n",
              "</style>\n",
              "<table border=\"1\" class=\"dataframe\">\n",
              "  <thead>\n",
              "    <tr style=\"text-align: right;\">\n",
              "      <th></th>\n",
              "      <th>Pendapatan</th>\n",
              "      <th>Spent_wine</th>\n",
              "      <th>Spent_buah</th>\n",
              "      <th>Spent_daging</th>\n",
              "      <th>Spent_ikan</th>\n",
              "      <th>Spent_emas</th>\n",
              "      <th>total_spent</th>\n",
              "    </tr>\n",
              "  </thead>\n",
              "  <tbody>\n",
              "    <tr>\n",
              "      <th>0</th>\n",
              "      <td>0.314701</td>\n",
              "      <td>0.978226</td>\n",
              "      <td>1.549429</td>\n",
              "      <td>3.210081</td>\n",
              "      <td>2.454568</td>\n",
              "      <td>2.023255</td>\n",
              "      <td>1.639640</td>\n",
              "    </tr>\n",
              "    <tr>\n",
              "      <th>1</th>\n",
              "      <td>-0.255849</td>\n",
              "      <td>-0.872024</td>\n",
              "      <td>-0.637328</td>\n",
              "      <td>-0.792344</td>\n",
              "      <td>-0.651038</td>\n",
              "      <td>-0.837966</td>\n",
              "      <td>-0.957303</td>\n",
              "    </tr>\n",
              "    <tr>\n",
              "      <th>2</th>\n",
              "      <td>0.966572</td>\n",
              "      <td>0.358511</td>\n",
              "      <td>0.569159</td>\n",
              "      <td>0.104496</td>\n",
              "      <td>1.340203</td>\n",
              "      <td>0.418180</td>\n",
              "      <td>0.302292</td>\n",
              "    </tr>\n",
              "    <tr>\n",
              "      <th>3</th>\n",
              "      <td>-1.208766</td>\n",
              "      <td>-0.872024</td>\n",
              "      <td>-0.561922</td>\n",
              "      <td>-0.688577</td>\n",
              "      <td>-0.504892</td>\n",
              "      <td>-0.872859</td>\n",
              "      <td>-0.915835</td>\n",
              "    </tr>\n",
              "    <tr>\n",
              "      <th>4</th>\n",
              "      <td>0.322199</td>\n",
              "      <td>-0.391671</td>\n",
              "      <td>0.418348</td>\n",
              "      <td>0.037789</td>\n",
              "      <td>0.152766</td>\n",
              "      <td>-0.523929</td>\n",
              "      <td>-0.319731</td>\n",
              "    </tr>\n",
              "  </tbody>\n",
              "</table>\n",
              "</div>\n",
              "      <button class=\"colab-df-convert\" onclick=\"convertToInteractive('df-0416b6c3-282f-425f-809d-22be04f03c11')\"\n",
              "              title=\"Convert this dataframe to an interactive table.\"\n",
              "              style=\"display:none;\">\n",
              "        \n",
              "  <svg xmlns=\"http://www.w3.org/2000/svg\" height=\"24px\"viewBox=\"0 0 24 24\"\n",
              "       width=\"24px\">\n",
              "    <path d=\"M0 0h24v24H0V0z\" fill=\"none\"/>\n",
              "    <path d=\"M18.56 5.44l.94 2.06.94-2.06 2.06-.94-2.06-.94-.94-2.06-.94 2.06-2.06.94zm-11 1L8.5 8.5l.94-2.06 2.06-.94-2.06-.94L8.5 2.5l-.94 2.06-2.06.94zm10 10l.94 2.06.94-2.06 2.06-.94-2.06-.94-.94-2.06-.94 2.06-2.06.94z\"/><path d=\"M17.41 7.96l-1.37-1.37c-.4-.4-.92-.59-1.43-.59-.52 0-1.04.2-1.43.59L10.3 9.45l-7.72 7.72c-.78.78-.78 2.05 0 2.83L4 21.41c.39.39.9.59 1.41.59.51 0 1.02-.2 1.41-.59l7.78-7.78 2.81-2.81c.8-.78.8-2.07 0-2.86zM5.41 20L4 18.59l7.72-7.72 1.47 1.35L5.41 20z\"/>\n",
              "  </svg>\n",
              "      </button>\n",
              "      \n",
              "  <style>\n",
              "    .colab-df-container {\n",
              "      display:flex;\n",
              "      flex-wrap:wrap;\n",
              "      gap: 12px;\n",
              "    }\n",
              "\n",
              "    .colab-df-convert {\n",
              "      background-color: #E8F0FE;\n",
              "      border: none;\n",
              "      border-radius: 50%;\n",
              "      cursor: pointer;\n",
              "      display: none;\n",
              "      fill: #1967D2;\n",
              "      height: 32px;\n",
              "      padding: 0 0 0 0;\n",
              "      width: 32px;\n",
              "    }\n",
              "\n",
              "    .colab-df-convert:hover {\n",
              "      background-color: #E2EBFA;\n",
              "      box-shadow: 0px 1px 2px rgba(60, 64, 67, 0.3), 0px 1px 3px 1px rgba(60, 64, 67, 0.15);\n",
              "      fill: #174EA6;\n",
              "    }\n",
              "\n",
              "    [theme=dark] .colab-df-convert {\n",
              "      background-color: #3B4455;\n",
              "      fill: #D2E3FC;\n",
              "    }\n",
              "\n",
              "    [theme=dark] .colab-df-convert:hover {\n",
              "      background-color: #434B5C;\n",
              "      box-shadow: 0px 1px 3px 1px rgba(0, 0, 0, 0.15);\n",
              "      filter: drop-shadow(0px 1px 2px rgba(0, 0, 0, 0.3));\n",
              "      fill: #FFFFFF;\n",
              "    }\n",
              "  </style>\n",
              "\n",
              "      <script>\n",
              "        const buttonEl =\n",
              "          document.querySelector('#df-0416b6c3-282f-425f-809d-22be04f03c11 button.colab-df-convert');\n",
              "        buttonEl.style.display =\n",
              "          google.colab.kernel.accessAllowed ? 'block' : 'none';\n",
              "\n",
              "        async function convertToInteractive(key) {\n",
              "          const element = document.querySelector('#df-0416b6c3-282f-425f-809d-22be04f03c11');\n",
              "          const dataTable =\n",
              "            await google.colab.kernel.invokeFunction('convertToInteractive',\n",
              "                                                     [key], {});\n",
              "          if (!dataTable) return;\n",
              "\n",
              "          const docLinkHtml = 'Like what you see? Visit the ' +\n",
              "            '<a target=\"_blank\" href=https://colab.research.google.com/notebooks/data_table.ipynb>data table notebook</a>'\n",
              "            + ' to learn more about interactive tables.';\n",
              "          element.innerHTML = '';\n",
              "          dataTable['output_type'] = 'display_data';\n",
              "          await google.colab.output.renderOutput(dataTable, element);\n",
              "          const docLink = document.createElement('div');\n",
              "          docLink.innerHTML = docLinkHtml;\n",
              "          element.appendChild(docLink);\n",
              "        }\n",
              "      </script>\n",
              "    </div>\n",
              "  </div>\n",
              "  "
            ]
          },
          "metadata": {},
          "execution_count": 51
        }
      ]
    },
    {
      "cell_type": "markdown",
      "source": [
        "######Elbow Method"
      ],
      "metadata": {
        "id": "viS6gBeDR_3w"
      }
    },
    {
      "cell_type": "code",
      "metadata": {
        "id": "pbUAcO3cKh0P",
        "colab": {
          "base_uri": "https://localhost:8080/",
          "height": 295
        },
        "outputId": "e225ac1d-6257-4fce-8112-93c72c32a9a5"
      },
      "source": [
        "# Perulangan ini digunakan untuk mengeksekusi nilai k dengan data \n",
        "# Selanjutkan akan dicari SSE\n",
        "\n",
        "Sum_of_squared_error = []\n",
        "K = range(1,8)\n",
        "for k in K:\n",
        "    km = KMeans(n_clusters=k)\n",
        "    km = km.fit(df_spent_scal)\n",
        "    Sum_of_squared_error.append(km.inertia_)\n",
        "\n",
        "plt.plot(K, Sum_of_squared_error, linewidth=2,color=\"red\")\n",
        "plt.grid()\n",
        "plt.xlabel('k')\n",
        "plt.ylabel('SSE')\n",
        "plt.title('Elbow Method For Optimal k')\n",
        "plt.show()"
      ],
      "execution_count": 52,
      "outputs": [
        {
          "output_type": "display_data",
          "data": {
            "text/plain": [
              "<Figure size 432x288 with 1 Axes>"
            ],
            "image/png": "[encoded data removed]"
          },
          "metadata": {
            "needs_background": "light"
          }
        }
      ]
    },
    {
      "cell_type": "markdown",
      "source": [
        "Berdasarkan metode elbow pada titik siku-siku diperoleh di k=3,  Namun untuk memastikan, akan dievaluasi dengan menggunakan silhouette score."
      ],
      "metadata": {
        "id": "FW3tMpcATdjk"
      }
    },
    {
      "cell_type": "markdown",
      "source": [
        "######Silhouette score untuk konfirmasi k-kluster"
      ],
      "metadata": {
        "id": "PnztFN25TnYg"
      }
    },
    {
      "cell_type": "code",
      "source": [
        "range_n_clusters = range(2,8)\n",
        "for n_clusters in range_n_clusters:\n",
        "    clusterer = KMeans(n_clusters)\n",
        "    preds = clusterer.fit_predict(df_spent_scal)\n",
        "    centers = clusterer.cluster_centers_\n",
        "\n",
        "    score = silhouette_score(df_spent_scal, preds)\n",
        "    print(\"For n_clusters = {}, silhouette score is {}\".format(n_clusters, score))"
      ],
      "metadata": {
        "colab": {
          "base_uri": "https://localhost:8080/"
        },
        "id": "tDyJu_JOTs7x",
        "outputId": "f6228b48-1f4f-4479-a926-6fc0a6d64cf8"
      },
      "execution_count": 53,
      "outputs": [
        {
          "output_type": "stream",
          "name": "stdout",
          "text": [
            "For n_clusters = 2, silhouette score is 0.4708287436542585\n",
            "For n_clusters = 3, silhouette score is 0.39971574824885336\n",
            "For n_clusters = 4, silhouette score is 0.356194947630384\n",
            "For n_clusters = 5, silhouette score is 0.3242792167420855\n",
            "For n_clusters = 6, silhouette score is 0.3362929812539103\n",
            "For n_clusters = 7, silhouette score is 0.3182212611249683\n"
          ]
        }
      ]
    },
    {
      "cell_type": "markdown",
      "source": [
        "Dari silhouette model didapat k-kluster yang optimum adalah 3, namun sangat tidak optimal apabila membagi cluster hanya menjadi 2 kelompok(meningkatkan faktor error), maka diambil nilai terbesar kedua yaitu adalah nilai 3, hal ini sama seperti pemilihan cluster dengan elbow method. Oleh karena itu, untuk kedepannya akan digunakan k=3 yang artinya customer akan dibagi kedalam 3 kelompok."
      ],
      "metadata": {
        "id": "9ITWKvosUkEz"
      }
    },
    {
      "cell_type": "code",
      "source": [
        "#Clustering dengan mengunakan Kmeans.\n",
        "kmeans = KMeans(n_clusters=3, random_state=0,init='k-means++',\n",
        "                n_init =10,max_iter = 300).fit(df_spent_scal)\n",
        "pred = kmeans.predict(df_spent_scal)\n",
        "df_spent['segment']=kmeans.labels_\n",
        "df_spent.head(10)"
      ],
      "metadata": {
        "colab": {
          "base_uri": "https://localhost:8080/",
          "height": 470
        },
        "id": "Ukc2myphraFH",
        "outputId": "c562e13d-dcf2-409d-85e3-8a3c9bc28f41"
      },
      "execution_count": 54,
      "outputs": [
        {
          "output_type": "stream",
          "name": "stderr",
          "text": [
            "/usr/local/lib/python3.7/dist-packages/ipykernel_launcher.py:5: SettingWithCopyWarning: \n",
            "A value is trying to be set on a copy of a slice from a DataFrame.\n",
            "Try using .loc[row_indexer,col_indexer] = value instead\n",
            "\n",
            "See the caveats in the documentation: https://pandas.pydata.org/pandas-docs/stable/user_guide/indexing.html#returning-a-view-versus-a-copy\n",
            "  \"\"\"\n"
          ]
        },
        {
          "output_type": "execute_result",
          "data": {
            "text/plain": [
              "   Pendapatan  Spent_wine  Spent_buah  Spent_daging  Spent_ikan  Spent_emas  \\\n",
              "0     58138.0         635          88           546         172          88   \n",
              "1     46344.0          11           1             6           2           6   \n",
              "2     71613.0         426          49           127         111          42   \n",
              "3     26646.0          11           4            20          10           5   \n",
              "4     58293.0         173          43           118          46          15   \n",
              "5     62513.0         520          42            98           0          14   \n",
              "6     55635.0         235          65           164          50          27   \n",
              "7     33454.0          76          10            56           3          23   \n",
              "8     30351.0          14           0            24           3           2   \n",
              "9      5648.0          28           0             6           1          13   \n",
              "\n",
              "   total_spent  segment  \n",
              "0         1529        2  \n",
              "1           26        0  \n",
              "2          755        1  \n",
              "3           50        0  \n",
              "4          395        0  \n",
              "5          674        1  \n",
              "6          541        1  \n",
              "7          168        0  \n",
              "8           43        0  \n",
              "9           48        0  "
            ],
            "text/html": [
              "\n",
              "  <div id=\"df-ee73416c-5c2d-4ab3-a62b-b72eeb8a5cce\">\n",
              "    <div class=\"colab-df-container\">\n",
              "      <div>\n",
              "<style scoped>\n",
              "    .dataframe tbody tr th:only-of-type {\n",
              "        vertical-align: middle;\n",
              "    }\n",
              "\n",
              "    .dataframe tbody tr th {\n",
              "        vertical-align: top;\n",
              "    }\n",
              "\n",
              "    .dataframe thead th {\n",
              "        text-align: right;\n",
              "    }\n",
              "</style>\n",
              "<table border=\"1\" class=\"dataframe\">\n",
              "  <thead>\n",
              "    <tr style=\"text-align: right;\">\n",
              "      <th></th>\n",
              "      <th>Pendapatan</th>\n",
              "      <th>Spent_wine</th>\n",
              "      <th>Spent_buah</th>\n",
              "      <th>Spent_daging</th>\n",
              "      <th>Spent_ikan</th>\n",
              "      <th>Spent_emas</th>\n",
              "      <th>total_spent</th>\n",
              "      <th>segment</th>\n",
              "    </tr>\n",
              "  </thead>\n",
              "  <tbody>\n",
              "    <tr>\n",
              "      <th>0</th>\n",
              "      <td>58138.0</td>\n",
              "      <td>635</td>\n",
              "      <td>88</td>\n",
              "      <td>546</td>\n",
              "      <td>172</td>\n",
              "      <td>88</td>\n",
              "      <td>1529</td>\n",
              "      <td>2</td>\n",
              "    </tr>\n",
              "    <tr>\n",
              "      <th>1</th>\n",
              "      <td>46344.0</td>\n",
              "      <td>11</td>\n",
              "      <td>1</td>\n",
              "      <td>6</td>\n",
              "      <td>2</td>\n",
              "      <td>6</td>\n",
              "      <td>26</td>\n",
              "      <td>0</td>\n",
              "    </tr>\n",
              "    <tr>\n",
              "      <th>2</th>\n",
              "      <td>71613.0</td>\n",
              "      <td>426</td>\n",
              "      <td>49</td>\n",
              "      <td>127</td>\n",
              "      <td>111</td>\n",
              "      <td>42</td>\n",
              "      <td>755</td>\n",
              "      <td>1</td>\n",
              "    </tr>\n",
              "    <tr>\n",
              "      <th>3</th>\n",
              "      <td>26646.0</td>\n",
              "      <td>11</td>\n",
              "      <td>4</td>\n",
              "      <td>20</td>\n",
              "      <td>10</td>\n",
              "      <td>5</td>\n",
              "      <td>50</td>\n",
              "      <td>0</td>\n",
              "    </tr>\n",
              "    <tr>\n",
              "      <th>4</th>\n",
              "      <td>58293.0</td>\n",
              "      <td>173</td>\n",
              "      <td>43</td>\n",
              "      <td>118</td>\n",
              "      <td>46</td>\n",
              "      <td>15</td>\n",
              "      <td>395</td>\n",
              "      <td>0</td>\n",
              "    </tr>\n",
              "    <tr>\n",
              "      <th>5</th>\n",
              "      <td>62513.0</td>\n",
              "      <td>520</td>\n",
              "      <td>42</td>\n",
              "      <td>98</td>\n",
              "      <td>0</td>\n",
              "      <td>14</td>\n",
              "      <td>674</td>\n",
              "      <td>1</td>\n",
              "    </tr>\n",
              "    <tr>\n",
              "      <th>6</th>\n",
              "      <td>55635.0</td>\n",
              "      <td>235</td>\n",
              "      <td>65</td>\n",
              "      <td>164</td>\n",
              "      <td>50</td>\n",
              "      <td>27</td>\n",
              "      <td>541</td>\n",
              "      <td>1</td>\n",
              "    </tr>\n",
              "    <tr>\n",
              "      <th>7</th>\n",
              "      <td>33454.0</td>\n",
              "      <td>76</td>\n",
              "      <td>10</td>\n",
              "      <td>56</td>\n",
              "      <td>3</td>\n",
              "      <td>23</td>\n",
              "      <td>168</td>\n",
              "      <td>0</td>\n",
              "    </tr>\n",
              "    <tr>\n",
              "      <th>8</th>\n",
              "      <td>30351.0</td>\n",
              "      <td>14</td>\n",
              "      <td>0</td>\n",
              "      <td>24</td>\n",
              "      <td>3</td>\n",
              "      <td>2</td>\n",
              "      <td>43</td>\n",
              "      <td>0</td>\n",
              "    </tr>\n",
              "    <tr>\n",
              "      <th>9</th>\n",
              "      <td>5648.0</td>\n",
              "      <td>28</td>\n",
              "      <td>0</td>\n",
              "      <td>6</td>\n",
              "      <td>1</td>\n",
              "      <td>13</td>\n",
              "      <td>48</td>\n",
              "      <td>0</td>\n",
              "    </tr>\n",
              "  </tbody>\n",
              "</table>\n",
              "</div>\n",
              "      <button class=\"colab-df-convert\" onclick=\"convertToInteractive('df-ee73416c-5c2d-4ab3-a62b-b72eeb8a5cce')\"\n",
              "              title=\"Convert this dataframe to an interactive table.\"\n",
              "              style=\"display:none;\">\n",
              "        \n",
              "  <svg xmlns=\"http://www.w3.org/2000/svg\" height=\"24px\"viewBox=\"0 0 24 24\"\n",
              "       width=\"24px\">\n",
              "    <path d=\"M0 0h24v24H0V0z\" fill=\"none\"/>\n",
              "    <path d=\"M18.56 5.44l.94 2.06.94-2.06 2.06-.94-2.06-.94-.94-2.06-.94 2.06-2.06.94zm-11 1L8.5 8.5l.94-2.06 2.06-.94-2.06-.94L8.5 2.5l-.94 2.06-2.06.94zm10 10l.94 2.06.94-2.06 2.06-.94-2.06-.94-.94-2.06-.94 2.06-2.06.94z\"/><path d=\"M17.41 7.96l-1.37-1.37c-.4-.4-.92-.59-1.43-.59-.52 0-1.04.2-1.43.59L10.3 9.45l-7.72 7.72c-.78.78-.78 2.05 0 2.83L4 21.41c.39.39.9.59 1.41.59.51 0 1.02-.2 1.41-.59l7.78-7.78 2.81-2.81c.8-.78.8-2.07 0-2.86zM5.41 20L4 18.59l7.72-7.72 1.47 1.35L5.41 20z\"/>\n",
              "  </svg>\n",
              "      </button>\n",
              "      \n",
              "  <style>\n",
              "    .colab-df-container {\n",
              "      display:flex;\n",
              "      flex-wrap:wrap;\n",
              "      gap: 12px;\n",
              "    }\n",
              "\n",
              "    .colab-df-convert {\n",
              "      background-color: #E8F0FE;\n",
              "      border: none;\n",
              "      border-radius: 50%;\n",
              "      cursor: pointer;\n",
              "      display: none;\n",
              "      fill: #1967D2;\n",
              "      height: 32px;\n",
              "      padding: 0 0 0 0;\n",
              "      width: 32px;\n",
              "    }\n",
              "\n",
              "    .colab-df-convert:hover {\n",
              "      background-color: #E2EBFA;\n",
              "      box-shadow: 0px 1px 2px rgba(60, 64, 67, 0.3), 0px 1px 3px 1px rgba(60, 64, 67, 0.15);\n",
              "      fill: #174EA6;\n",
              "    }\n",
              "\n",
              "    [theme=dark] .colab-df-convert {\n",
              "      background-color: #3B4455;\n",
              "      fill: #D2E3FC;\n",
              "    }\n",
              "\n",
              "    [theme=dark] .colab-df-convert:hover {\n",
              "      background-color: #434B5C;\n",
              "      box-shadow: 0px 1px 3px 1px rgba(0, 0, 0, 0.15);\n",
              "      filter: drop-shadow(0px 1px 2px rgba(0, 0, 0, 0.3));\n",
              "      fill: #FFFFFF;\n",
              "    }\n",
              "  </style>\n",
              "\n",
              "      <script>\n",
              "        const buttonEl =\n",
              "          document.querySelector('#df-ee73416c-5c2d-4ab3-a62b-b72eeb8a5cce button.colab-df-convert');\n",
              "        buttonEl.style.display =\n",
              "          google.colab.kernel.accessAllowed ? 'block' : 'none';\n",
              "\n",
              "        async function convertToInteractive(key) {\n",
              "          const element = document.querySelector('#df-ee73416c-5c2d-4ab3-a62b-b72eeb8a5cce');\n",
              "          const dataTable =\n",
              "            await google.colab.kernel.invokeFunction('convertToInteractive',\n",
              "                                                     [key], {});\n",
              "          if (!dataTable) return;\n",
              "\n",
              "          const docLinkHtml = 'Like what you see? Visit the ' +\n",
              "            '<a target=\"_blank\" href=https://colab.research.google.com/notebooks/data_table.ipynb>data table notebook</a>'\n",
              "            + ' to learn more about interactive tables.';\n",
              "          element.innerHTML = '';\n",
              "          dataTable['output_type'] = 'display_data';\n",
              "          await google.colab.output.renderOutput(dataTable, element);\n",
              "          const docLink = document.createElement('div');\n",
              "          docLink.innerHTML = docLinkHtml;\n",
              "          element.appendChild(docLink);\n",
              "        }\n",
              "      </script>\n",
              "    </div>\n",
              "  </div>\n",
              "  "
            ]
          },
          "metadata": {},
          "execution_count": 54
        }
      ]
    },
    {
      "cell_type": "code",
      "source": [
        "# Menggabungkan data df_spent dengan data sebelumnya\n",
        "df_result = pd.concat([df[['ID','Pendidikan','Status_pernikahan','total_anak','recency']], merge_data['Umur'],df_spent], axis=1, join='inner')\n",
        "df_result.head()"
      ],
      "metadata": {
        "colab": {
          "base_uri": "https://localhost:8080/",
          "height": 270
        },
        "id": "E17xe4vwVnEZ",
        "outputId": "a1d425d8-c6d8-473b-f86c-f378ab55bb8d"
      },
      "execution_count": 63,
      "outputs": [
        {
          "output_type": "execute_result",
          "data": {
            "text/plain": [
              "     ID  Pendidikan Status_pernikahan  total_anak  recency  Umur  Pendapatan  \\\n",
              "0  5524  Graduation            Single           0       58    57     58138.0   \n",
              "1  2174  Graduation            Single           2       38    60     46344.0   \n",
              "2  4141  Graduation          Together           0       26    49     71613.0   \n",
              "3  6182  Graduation          Together           1       26    30     26646.0   \n",
              "4  5324         PhD           Married           1       94    33     58293.0   \n",
              "\n",
              "   Spent_wine  Spent_buah  Spent_daging  Spent_ikan  Spent_emas  total_spent  \\\n",
              "0         635          88           546         172          88         1529   \n",
              "1          11           1             6           2           6           26   \n",
              "2         426          49           127         111          42          755   \n",
              "3          11           4            20          10           5           50   \n",
              "4         173          43           118          46          15          395   \n",
              "\n",
              "   segment  \n",
              "0        2  \n",
              "1        0  \n",
              "2        1  \n",
              "3        0  \n",
              "4        0  "
            ],
            "text/html": [
              "\n",
              "  <div id=\"df-d074b1e0-1253-42af-82fb-8c4470e82626\">\n",
              "    <div class=\"colab-df-container\">\n",
              "      <div>\n",
              "<style scoped>\n",
              "    .dataframe tbody tr th:only-of-type {\n",
              "        vertical-align: middle;\n",
              "    }\n",
              "\n",
              "    .dataframe tbody tr th {\n",
              "        vertical-align: top;\n",
              "    }\n",
              "\n",
              "    .dataframe thead th {\n",
              "        text-align: right;\n",
              "    }\n",
              "</style>\n",
              "<table border=\"1\" class=\"dataframe\">\n",
              "  <thead>\n",
              "    <tr style=\"text-align: right;\">\n",
              "      <th></th>\n",
              "      <th>ID</th>\n",
              "      <th>Pendidikan</th>\n",
              "      <th>Status_pernikahan</th>\n",
              "      <th>total_anak</th>\n",
              "      <th>recency</th>\n",
              "      <th>Umur</th>\n",
              "      <th>Pendapatan</th>\n",
              "      <th>Spent_wine</th>\n",
              "      <th>Spent_buah</th>\n",
              "      <th>Spent_daging</th>\n",
              "      <th>Spent_ikan</th>\n",
              "      <th>Spent_emas</th>\n",
              "      <th>total_spent</th>\n",
              "      <th>segment</th>\n",
              "    </tr>\n",
              "  </thead>\n",
              "  <tbody>\n",
              "    <tr>\n",
              "      <th>0</th>\n",
              "      <td>5524</td>\n",
              "      <td>Graduation</td>\n",
              "      <td>Single</td>\n",
              "      <td>0</td>\n",
              "      <td>58</td>\n",
              "      <td>57</td>\n",
              "      <td>58138.0</td>\n",
              "      <td>635</td>\n",
              "      <td>88</td>\n",
              "      <td>546</td>\n",
              "      <td>172</td>\n",
              "      <td>88</td>\n",
              "      <td>1529</td>\n",
              "      <td>2</td>\n",
              "    </tr>\n",
              "    <tr>\n",
              "      <th>1</th>\n",
              "      <td>2174</td>\n",
              "      <td>Graduation</td>\n",
              "      <td>Single</td>\n",
              "      <td>2</td>\n",
              "      <td>38</td>\n",
              "      <td>60</td>\n",
              "      <td>46344.0</td>\n",
              "      <td>11</td>\n",
              "      <td>1</td>\n",
              "      <td>6</td>\n",
              "      <td>2</td>\n",
              "      <td>6</td>\n",
              "      <td>26</td>\n",
              "      <td>0</td>\n",
              "    </tr>\n",
              "    <tr>\n",
              "      <th>2</th>\n",
              "      <td>4141</td>\n",
              "      <td>Graduation</td>\n",
              "      <td>Together</td>\n",
              "      <td>0</td>\n",
              "      <td>26</td>\n",
              "      <td>49</td>\n",
              "      <td>71613.0</td>\n",
              "      <td>426</td>\n",
              "      <td>49</td>\n",
              "      <td>127</td>\n",
              "      <td>111</td>\n",
              "      <td>42</td>\n",
              "      <td>755</td>\n",
              "      <td>1</td>\n",
              "    </tr>\n",
              "    <tr>\n",
              "      <th>3</th>\n",
              "      <td>6182</td>\n",
              "      <td>Graduation</td>\n",
              "      <td>Together</td>\n",
              "      <td>1</td>\n",
              "      <td>26</td>\n",
              "      <td>30</td>\n",
              "      <td>26646.0</td>\n",
              "      <td>11</td>\n",
              "      <td>4</td>\n",
              "      <td>20</td>\n",
              "      <td>10</td>\n",
              "      <td>5</td>\n",
              "      <td>50</td>\n",
              "      <td>0</td>\n",
              "    </tr>\n",
              "    <tr>\n",
              "      <th>4</th>\n",
              "      <td>5324</td>\n",
              "      <td>PhD</td>\n",
              "      <td>Married</td>\n",
              "      <td>1</td>\n",
              "      <td>94</td>\n",
              "      <td>33</td>\n",
              "      <td>58293.0</td>\n",
              "      <td>173</td>\n",
              "      <td>43</td>\n",
              "      <td>118</td>\n",
              "      <td>46</td>\n",
              "      <td>15</td>\n",
              "      <td>395</td>\n",
              "      <td>0</td>\n",
              "    </tr>\n",
              "  </tbody>\n",
              "</table>\n",
              "</div>\n",
              "      <button class=\"colab-df-convert\" onclick=\"convertToInteractive('df-d074b1e0-1253-42af-82fb-8c4470e82626')\"\n",
              "              title=\"Convert this dataframe to an interactive table.\"\n",
              "              style=\"display:none;\">\n",
              "        \n",
              "  <svg xmlns=\"http://www.w3.org/2000/svg\" height=\"24px\"viewBox=\"0 0 24 24\"\n",
              "       width=\"24px\">\n",
              "    <path d=\"M0 0h24v24H0V0z\" fill=\"none\"/>\n",
              "    <path d=\"M18.56 5.44l.94 2.06.94-2.06 2.06-.94-2.06-.94-.94-2.06-.94 2.06-2.06.94zm-11 1L8.5 8.5l.94-2.06 2.06-.94-2.06-.94L8.5 2.5l-.94 2.06-2.06.94zm10 10l.94 2.06.94-2.06 2.06-.94-2.06-.94-.94-2.06-.94 2.06-2.06.94z\"/><path d=\"M17.41 7.96l-1.37-1.37c-.4-.4-.92-.59-1.43-.59-.52 0-1.04.2-1.43.59L10.3 9.45l-7.72 7.72c-.78.78-.78 2.05 0 2.83L4 21.41c.39.39.9.59 1.41.59.51 0 1.02-.2 1.41-.59l7.78-7.78 2.81-2.81c.8-.78.8-2.07 0-2.86zM5.41 20L4 18.59l7.72-7.72 1.47 1.35L5.41 20z\"/>\n",
              "  </svg>\n",
              "      </button>\n",
              "      \n",
              "  <style>\n",
              "    .colab-df-container {\n",
              "      display:flex;\n",
              "      flex-wrap:wrap;\n",
              "      gap: 12px;\n",
              "    }\n",
              "\n",
              "    .colab-df-convert {\n",
              "      background-color: #E8F0FE;\n",
              "      border: none;\n",
              "      border-radius: 50%;\n",
              "      cursor: pointer;\n",
              "      display: none;\n",
              "      fill: #1967D2;\n",
              "      height: 32px;\n",
              "      padding: 0 0 0 0;\n",
              "      width: 32px;\n",
              "    }\n",
              "\n",
              "    .colab-df-convert:hover {\n",
              "      background-color: #E2EBFA;\n",
              "      box-shadow: 0px 1px 2px rgba(60, 64, 67, 0.3), 0px 1px 3px 1px rgba(60, 64, 67, 0.15);\n",
              "      fill: #174EA6;\n",
              "    }\n",
              "\n",
              "    [theme=dark] .colab-df-convert {\n",
              "      background-color: #3B4455;\n",
              "      fill: #D2E3FC;\n",
              "    }\n",
              "\n",
              "    [theme=dark] .colab-df-convert:hover {\n",
              "      background-color: #434B5C;\n",
              "      box-shadow: 0px 1px 3px 1px rgba(0, 0, 0, 0.15);\n",
              "      filter: drop-shadow(0px 1px 2px rgba(0, 0, 0, 0.3));\n",
              "      fill: #FFFFFF;\n",
              "    }\n",
              "  </style>\n",
              "\n",
              "      <script>\n",
              "        const buttonEl =\n",
              "          document.querySelector('#df-d074b1e0-1253-42af-82fb-8c4470e82626 button.colab-df-convert');\n",
              "        buttonEl.style.display =\n",
              "          google.colab.kernel.accessAllowed ? 'block' : 'none';\n",
              "\n",
              "        async function convertToInteractive(key) {\n",
              "          const element = document.querySelector('#df-d074b1e0-1253-42af-82fb-8c4470e82626');\n",
              "          const dataTable =\n",
              "            await google.colab.kernel.invokeFunction('convertToInteractive',\n",
              "                                                     [key], {});\n",
              "          if (!dataTable) return;\n",
              "\n",
              "          const docLinkHtml = 'Like what you see? Visit the ' +\n",
              "            '<a target=\"_blank\" href=https://colab.research.google.com/notebooks/data_table.ipynb>data table notebook</a>'\n",
              "            + ' to learn more about interactive tables.';\n",
              "          element.innerHTML = '';\n",
              "          dataTable['output_type'] = 'display_data';\n",
              "          await google.colab.output.renderOutput(dataTable, element);\n",
              "          const docLink = document.createElement('div');\n",
              "          docLink.innerHTML = docLinkHtml;\n",
              "          element.appendChild(docLink);\n",
              "        }\n",
              "      </script>\n",
              "    </div>\n",
              "  </div>\n",
              "  "
            ]
          },
          "metadata": {},
          "execution_count": 63
        }
      ]
    },
    {
      "cell_type": "code",
      "source": [
        "df_result.info()"
      ],
      "metadata": {
        "colab": {
          "base_uri": "https://localhost:8080/"
        },
        "id": "yTpTdWVCevO0",
        "outputId": "b00fa4ea-ef4f-4c69-ec7e-e46d4b973b65"
      },
      "execution_count": 64,
      "outputs": [
        {
          "output_type": "stream",
          "name": "stdout",
          "text": [
            "<class 'pandas.core.frame.DataFrame'>\n",
            "Int64Index: 2216 entries, 0 to 2239\n",
            "Data columns (total 14 columns):\n",
            " #   Column             Non-Null Count  Dtype  \n",
            "---  ------             --------------  -----  \n",
            " 0   ID                 2216 non-null   object \n",
            " 1   Pendidikan         2216 non-null   object \n",
            " 2   Status_pernikahan  2216 non-null   object \n",
            " 3   total_anak         2216 non-null   int64  \n",
            " 4   recency            2216 non-null   int64  \n",
            " 5   Umur               2216 non-null   int64  \n",
            " 6   Pendapatan         2216 non-null   float64\n",
            " 7   Spent_wine         2216 non-null   int64  \n",
            " 8   Spent_buah         2216 non-null   int64  \n",
            " 9   Spent_daging       2216 non-null   int64  \n",
            " 10  Spent_ikan         2216 non-null   int64  \n",
            " 11  Spent_emas         2216 non-null   int64  \n",
            " 12  total_spent        2216 non-null   int64  \n",
            " 13  segment            2216 non-null   int32  \n",
            "dtypes: float64(1), int32(1), int64(9), object(3)\n",
            "memory usage: 315.6+ KB\n"
          ]
        }
      ]
    },
    {
      "cell_type": "code",
      "source": [
        "# Menampilkan 5 data teratas dari cluster 0\n",
        "df_result[df_result[\"segment\"]==0][:5]"
      ],
      "metadata": {
        "colab": {
          "base_uri": "https://localhost:8080/",
          "height": 270
        },
        "id": "-GOwazEYpNLb",
        "outputId": "ac3c81d4-89fe-41ce-b055-0b53747b59fc"
      },
      "execution_count": 88,
      "outputs": [
        {
          "output_type": "execute_result",
          "data": {
            "text/plain": [
              "     ID  Pendidikan Status_pernikahan  total_anak  recency  Umur  Pendapatan  \\\n",
              "1  2174  Graduation            Single           2       38    60     46344.0   \n",
              "3  6182  Graduation          Together           1       26    30     26646.0   \n",
              "4  5324         PhD           Married           1       94    33     58293.0   \n",
              "7  6177         PhD           Married           1       32    29     33454.0   \n",
              "8  4855         PhD          Together           1       19    40     30351.0   \n",
              "\n",
              "   Spent_wine  Spent_buah  Spent_daging  Spent_ikan  Spent_emas  total_spent  \\\n",
              "1          11           1             6           2           6           26   \n",
              "3          11           4            20          10           5           50   \n",
              "4         173          43           118          46          15          395   \n",
              "7          76          10            56           3          23          168   \n",
              "8          14           0            24           3           2           43   \n",
              "\n",
              "   segment  \n",
              "1        0  \n",
              "3        0  \n",
              "4        0  \n",
              "7        0  \n",
              "8        0  "
            ],
            "text/html": [
              "\n",
              "  <div id=\"df-40503ce2-b089-4ebc-ad8d-1b5235203df5\">\n",
              "    <div class=\"colab-df-container\">\n",
              "      <div>\n",
              "<style scoped>\n",
              "    .dataframe tbody tr th:only-of-type {\n",
              "        vertical-align: middle;\n",
              "    }\n",
              "\n",
              "    .dataframe tbody tr th {\n",
              "        vertical-align: top;\n",
              "    }\n",
              "\n",
              "    .dataframe thead th {\n",
              "        text-align: right;\n",
              "    }\n",
              "</style>\n",
              "<table border=\"1\" class=\"dataframe\">\n",
              "  <thead>\n",
              "    <tr style=\"text-align: right;\">\n",
              "      <th></th>\n",
              "      <th>ID</th>\n",
              "      <th>Pendidikan</th>\n",
              "      <th>Status_pernikahan</th>\n",
              "      <th>total_anak</th>\n",
              "      <th>recency</th>\n",
              "      <th>Umur</th>\n",
              "      <th>Pendapatan</th>\n",
              "      <th>Spent_wine</th>\n",
              "      <th>Spent_buah</th>\n",
              "      <th>Spent_daging</th>\n",
              "      <th>Spent_ikan</th>\n",
              "      <th>Spent_emas</th>\n",
              "      <th>total_spent</th>\n",
              "      <th>segment</th>\n",
              "    </tr>\n",
              "  </thead>\n",
              "  <tbody>\n",
              "    <tr>\n",
              "      <th>1</th>\n",
              "      <td>2174</td>\n",
              "      <td>Graduation</td>\n",
              "      <td>Single</td>\n",
              "      <td>2</td>\n",
              "      <td>38</td>\n",
              "      <td>60</td>\n",
              "      <td>46344.0</td>\n",
              "      <td>11</td>\n",
              "      <td>1</td>\n",
              "      <td>6</td>\n",
              "      <td>2</td>\n",
              "      <td>6</td>\n",
              "      <td>26</td>\n",
              "      <td>0</td>\n",
              "    </tr>\n",
              "    <tr>\n",
              "      <th>3</th>\n",
              "      <td>6182</td>\n",
              "      <td>Graduation</td>\n",
              "      <td>Together</td>\n",
              "      <td>1</td>\n",
              "      <td>26</td>\n",
              "      <td>30</td>\n",
              "      <td>26646.0</td>\n",
              "      <td>11</td>\n",
              "      <td>4</td>\n",
              "      <td>20</td>\n",
              "      <td>10</td>\n",
              "      <td>5</td>\n",
              "      <td>50</td>\n",
              "      <td>0</td>\n",
              "    </tr>\n",
              "    <tr>\n",
              "      <th>4</th>\n",
              "      <td>5324</td>\n",
              "      <td>PhD</td>\n",
              "      <td>Married</td>\n",
              "      <td>1</td>\n",
              "      <td>94</td>\n",
              "      <td>33</td>\n",
              "      <td>58293.0</td>\n",
              "      <td>173</td>\n",
              "      <td>43</td>\n",
              "      <td>118</td>\n",
              "      <td>46</td>\n",
              "      <td>15</td>\n",
              "      <td>395</td>\n",
              "      <td>0</td>\n",
              "    </tr>\n",
              "    <tr>\n",
              "      <th>7</th>\n",
              "      <td>6177</td>\n",
              "      <td>PhD</td>\n",
              "      <td>Married</td>\n",
              "      <td>1</td>\n",
              "      <td>32</td>\n",
              "      <td>29</td>\n",
              "      <td>33454.0</td>\n",
              "      <td>76</td>\n",
              "      <td>10</td>\n",
              "      <td>56</td>\n",
              "      <td>3</td>\n",
              "      <td>23</td>\n",
              "      <td>168</td>\n",
              "      <td>0</td>\n",
              "    </tr>\n",
              "    <tr>\n",
              "      <th>8</th>\n",
              "      <td>4855</td>\n",
              "      <td>PhD</td>\n",
              "      <td>Together</td>\n",
              "      <td>1</td>\n",
              "      <td>19</td>\n",
              "      <td>40</td>\n",
              "      <td>30351.0</td>\n",
              "      <td>14</td>\n",
              "      <td>0</td>\n",
              "      <td>24</td>\n",
              "      <td>3</td>\n",
              "      <td>2</td>\n",
              "      <td>43</td>\n",
              "      <td>0</td>\n",
              "    </tr>\n",
              "  </tbody>\n",
              "</table>\n",
              "</div>\n",
              "      <button class=\"colab-df-convert\" onclick=\"convertToInteractive('df-40503ce2-b089-4ebc-ad8d-1b5235203df5')\"\n",
              "              title=\"Convert this dataframe to an interactive table.\"\n",
              "              style=\"display:none;\">\n",
              "        \n",
              "  <svg xmlns=\"http://www.w3.org/2000/svg\" height=\"24px\"viewBox=\"0 0 24 24\"\n",
              "       width=\"24px\">\n",
              "    <path d=\"M0 0h24v24H0V0z\" fill=\"none\"/>\n",
              "    <path d=\"M18.56 5.44l.94 2.06.94-2.06 2.06-.94-2.06-.94-.94-2.06-.94 2.06-2.06.94zm-11 1L8.5 8.5l.94-2.06 2.06-.94-2.06-.94L8.5 2.5l-.94 2.06-2.06.94zm10 10l.94 2.06.94-2.06 2.06-.94-2.06-.94-.94-2.06-.94 2.06-2.06.94z\"/><path d=\"M17.41 7.96l-1.37-1.37c-.4-.4-.92-.59-1.43-.59-.52 0-1.04.2-1.43.59L10.3 9.45l-7.72 7.72c-.78.78-.78 2.05 0 2.83L4 21.41c.39.39.9.59 1.41.59.51 0 1.02-.2 1.41-.59l7.78-7.78 2.81-2.81c.8-.78.8-2.07 0-2.86zM5.41 20L4 18.59l7.72-7.72 1.47 1.35L5.41 20z\"/>\n",
              "  </svg>\n",
              "      </button>\n",
              "      \n",
              "  <style>\n",
              "    .colab-df-container {\n",
              "      display:flex;\n",
              "      flex-wrap:wrap;\n",
              "      gap: 12px;\n",
              "    }\n",
              "\n",
              "    .colab-df-convert {\n",
              "      background-color: #E8F0FE;\n",
              "      border: none;\n",
              "      border-radius: 50%;\n",
              "      cursor: pointer;\n",
              "      display: none;\n",
              "      fill: #1967D2;\n",
              "      height: 32px;\n",
              "      padding: 0 0 0 0;\n",
              "      width: 32px;\n",
              "    }\n",
              "\n",
              "    .colab-df-convert:hover {\n",
              "      background-color: #E2EBFA;\n",
              "      box-shadow: 0px 1px 2px rgba(60, 64, 67, 0.3), 0px 1px 3px 1px rgba(60, 64, 67, 0.15);\n",
              "      fill: #174EA6;\n",
              "    }\n",
              "\n",
              "    [theme=dark] .colab-df-convert {\n",
              "      background-color: #3B4455;\n",
              "      fill: #D2E3FC;\n",
              "    }\n",
              "\n",
              "    [theme=dark] .colab-df-convert:hover {\n",
              "      background-color: #434B5C;\n",
              "      box-shadow: 0px 1px 3px 1px rgba(0, 0, 0, 0.15);\n",
              "      filter: drop-shadow(0px 1px 2px rgba(0, 0, 0, 0.3));\n",
              "      fill: #FFFFFF;\n",
              "    }\n",
              "  </style>\n",
              "\n",
              "      <script>\n",
              "        const buttonEl =\n",
              "          document.querySelector('#df-40503ce2-b089-4ebc-ad8d-1b5235203df5 button.colab-df-convert');\n",
              "        buttonEl.style.display =\n",
              "          google.colab.kernel.accessAllowed ? 'block' : 'none';\n",
              "\n",
              "        async function convertToInteractive(key) {\n",
              "          const element = document.querySelector('#df-40503ce2-b089-4ebc-ad8d-1b5235203df5');\n",
              "          const dataTable =\n",
              "            await google.colab.kernel.invokeFunction('convertToInteractive',\n",
              "                                                     [key], {});\n",
              "          if (!dataTable) return;\n",
              "\n",
              "          const docLinkHtml = 'Like what you see? Visit the ' +\n",
              "            '<a target=\"_blank\" href=https://colab.research.google.com/notebooks/data_table.ipynb>data table notebook</a>'\n",
              "            + ' to learn more about interactive tables.';\n",
              "          element.innerHTML = '';\n",
              "          dataTable['output_type'] = 'display_data';\n",
              "          await google.colab.output.renderOutput(dataTable, element);\n",
              "          const docLink = document.createElement('div');\n",
              "          docLink.innerHTML = docLinkHtml;\n",
              "          element.appendChild(docLink);\n",
              "        }\n",
              "      </script>\n",
              "    </div>\n",
              "  </div>\n",
              "  "
            ]
          },
          "metadata": {},
          "execution_count": 88
        }
      ]
    },
    {
      "cell_type": "code",
      "source": [
        "# Menampilkan 5 data teratas dari cluster 1\n",
        "df_result[df_result[\"segment\"]==1][:5]"
      ],
      "metadata": {
        "colab": {
          "base_uri": "https://localhost:8080/",
          "height": 270
        },
        "id": "8hgrYz8CpNEt",
        "outputId": "00617dc8-7f70-4854-bea3-a06b2acfe887"
      },
      "execution_count": 89,
      "outputs": [
        {
          "output_type": "execute_result",
          "data": {
            "text/plain": [
              "      ID  Pendidikan Status_pernikahan  total_anak  recency  Umur  Pendapatan  \\\n",
              "2   4141  Graduation          Together           0       26    49     71613.0   \n",
              "5   7446      Master          Together           1       16    47     62513.0   \n",
              "6    965  Graduation          Divorced           1       34    43     55635.0   \n",
              "15  2114         PhD            Single           0       23    68     82800.0   \n",
              "22  1993         PhD           Married           1       63    65     58607.0   \n",
              "\n",
              "    Spent_wine  Spent_buah  Spent_daging  Spent_ikan  Spent_emas  total_spent  \\\n",
              "2          426          49           127         111          42          755   \n",
              "5          520          42            98           0          14          674   \n",
              "6          235          65           164          50          27          541   \n",
              "15        1006          22           115          59          45         1247   \n",
              "22         867           0            86           0          19          972   \n",
              "\n",
              "    segment  \n",
              "2         1  \n",
              "5         1  \n",
              "6         1  \n",
              "15        1  \n",
              "22        1  "
            ],
            "text/html": [
              "\n",
              "  <div id=\"df-56bef8af-0e80-4bc7-89a8-6f59825029f4\">\n",
              "    <div class=\"colab-df-container\">\n",
              "      <div>\n",
              "<style scoped>\n",
              "    .dataframe tbody tr th:only-of-type {\n",
              "        vertical-align: middle;\n",
              "    }\n",
              "\n",
              "    .dataframe tbody tr th {\n",
              "        vertical-align: top;\n",
              "    }\n",
              "\n",
              "    .dataframe thead th {\n",
              "        text-align: right;\n",
              "    }\n",
              "</style>\n",
              "<table border=\"1\" class=\"dataframe\">\n",
              "  <thead>\n",
              "    <tr style=\"text-align: right;\">\n",
              "      <th></th>\n",
              "      <th>ID</th>\n",
              "      <th>Pendidikan</th>\n",
              "      <th>Status_pernikahan</th>\n",
              "      <th>total_anak</th>\n",
              "      <th>recency</th>\n",
              "      <th>Umur</th>\n",
              "      <th>Pendapatan</th>\n",
              "      <th>Spent_wine</th>\n",
              "      <th>Spent_buah</th>\n",
              "      <th>Spent_daging</th>\n",
              "      <th>Spent_ikan</th>\n",
              "      <th>Spent_emas</th>\n",
              "      <th>total_spent</th>\n",
              "      <th>segment</th>\n",
              "    </tr>\n",
              "  </thead>\n",
              "  <tbody>\n",
              "    <tr>\n",
              "      <th>2</th>\n",
              "      <td>4141</td>\n",
              "      <td>Graduation</td>\n",
              "      <td>Together</td>\n",
              "      <td>0</td>\n",
              "      <td>26</td>\n",
              "      <td>49</td>\n",
              "      <td>71613.0</td>\n",
              "      <td>426</td>\n",
              "      <td>49</td>\n",
              "      <td>127</td>\n",
              "      <td>111</td>\n",
              "      <td>42</td>\n",
              "      <td>755</td>\n",
              "      <td>1</td>\n",
              "    </tr>\n",
              "    <tr>\n",
              "      <th>5</th>\n",
              "      <td>7446</td>\n",
              "      <td>Master</td>\n",
              "      <td>Together</td>\n",
              "      <td>1</td>\n",
              "      <td>16</td>\n",
              "      <td>47</td>\n",
              "      <td>62513.0</td>\n",
              "      <td>520</td>\n",
              "      <td>42</td>\n",
              "      <td>98</td>\n",
              "      <td>0</td>\n",
              "      <td>14</td>\n",
              "      <td>674</td>\n",
              "      <td>1</td>\n",
              "    </tr>\n",
              "    <tr>\n",
              "      <th>6</th>\n",
              "      <td>965</td>\n",
              "      <td>Graduation</td>\n",
              "      <td>Divorced</td>\n",
              "      <td>1</td>\n",
              "      <td>34</td>\n",
              "      <td>43</td>\n",
              "      <td>55635.0</td>\n",
              "      <td>235</td>\n",
              "      <td>65</td>\n",
              "      <td>164</td>\n",
              "      <td>50</td>\n",
              "      <td>27</td>\n",
              "      <td>541</td>\n",
              "      <td>1</td>\n",
              "    </tr>\n",
              "    <tr>\n",
              "      <th>15</th>\n",
              "      <td>2114</td>\n",
              "      <td>PhD</td>\n",
              "      <td>Single</td>\n",
              "      <td>0</td>\n",
              "      <td>23</td>\n",
              "      <td>68</td>\n",
              "      <td>82800.0</td>\n",
              "      <td>1006</td>\n",
              "      <td>22</td>\n",
              "      <td>115</td>\n",
              "      <td>59</td>\n",
              "      <td>45</td>\n",
              "      <td>1247</td>\n",
              "      <td>1</td>\n",
              "    </tr>\n",
              "    <tr>\n",
              "      <th>22</th>\n",
              "      <td>1993</td>\n",
              "      <td>PhD</td>\n",
              "      <td>Married</td>\n",
              "      <td>1</td>\n",
              "      <td>63</td>\n",
              "      <td>65</td>\n",
              "      <td>58607.0</td>\n",
              "      <td>867</td>\n",
              "      <td>0</td>\n",
              "      <td>86</td>\n",
              "      <td>0</td>\n",
              "      <td>19</td>\n",
              "      <td>972</td>\n",
              "      <td>1</td>\n",
              "    </tr>\n",
              "  </tbody>\n",
              "</table>\n",
              "</div>\n",
              "      <button class=\"colab-df-convert\" onclick=\"convertToInteractive('df-56bef8af-0e80-4bc7-89a8-6f59825029f4')\"\n",
              "              title=\"Convert this dataframe to an interactive table.\"\n",
              "              style=\"display:none;\">\n",
              "        \n",
              "  <svg xmlns=\"http://www.w3.org/2000/svg\" height=\"24px\"viewBox=\"0 0 24 24\"\n",
              "       width=\"24px\">\n",
              "    <path d=\"M0 0h24v24H0V0z\" fill=\"none\"/>\n",
              "    <path d=\"M18.56 5.44l.94 2.06.94-2.06 2.06-.94-2.06-.94-.94-2.06-.94 2.06-2.06.94zm-11 1L8.5 8.5l.94-2.06 2.06-.94-2.06-.94L8.5 2.5l-.94 2.06-2.06.94zm10 10l.94 2.06.94-2.06 2.06-.94-2.06-.94-.94-2.06-.94 2.06-2.06.94z\"/><path d=\"M17.41 7.96l-1.37-1.37c-.4-.4-.92-.59-1.43-.59-.52 0-1.04.2-1.43.59L10.3 9.45l-7.72 7.72c-.78.78-.78 2.05 0 2.83L4 21.41c.39.39.9.59 1.41.59.51 0 1.02-.2 1.41-.59l7.78-7.78 2.81-2.81c.8-.78.8-2.07 0-2.86zM5.41 20L4 18.59l7.72-7.72 1.47 1.35L5.41 20z\"/>\n",
              "  </svg>\n",
              "      </button>\n",
              "      \n",
              "  <style>\n",
              "    .colab-df-container {\n",
              "      display:flex;\n",
              "      flex-wrap:wrap;\n",
              "      gap: 12px;\n",
              "    }\n",
              "\n",
              "    .colab-df-convert {\n",
              "      background-color: #E8F0FE;\n",
              "      border: none;\n",
              "      border-radius: 50%;\n",
              "      cursor: pointer;\n",
              "      display: none;\n",
              "      fill: #1967D2;\n",
              "      height: 32px;\n",
              "      padding: 0 0 0 0;\n",
              "      width: 32px;\n",
              "    }\n",
              "\n",
              "    .colab-df-convert:hover {\n",
              "      background-color: #E2EBFA;\n",
              "      box-shadow: 0px 1px 2px rgba(60, 64, 67, 0.3), 0px 1px 3px 1px rgba(60, 64, 67, 0.15);\n",
              "      fill: #174EA6;\n",
              "    }\n",
              "\n",
              "    [theme=dark] .colab-df-convert {\n",
              "      background-color: #3B4455;\n",
              "      fill: #D2E3FC;\n",
              "    }\n",
              "\n",
              "    [theme=dark] .colab-df-convert:hover {\n",
              "      background-color: #434B5C;\n",
              "      box-shadow: 0px 1px 3px 1px rgba(0, 0, 0, 0.15);\n",
              "      filter: drop-shadow(0px 1px 2px rgba(0, 0, 0, 0.3));\n",
              "      fill: #FFFFFF;\n",
              "    }\n",
              "  </style>\n",
              "\n",
              "      <script>\n",
              "        const buttonEl =\n",
              "          document.querySelector('#df-56bef8af-0e80-4bc7-89a8-6f59825029f4 button.colab-df-convert');\n",
              "        buttonEl.style.display =\n",
              "          google.colab.kernel.accessAllowed ? 'block' : 'none';\n",
              "\n",
              "        async function convertToInteractive(key) {\n",
              "          const element = document.querySelector('#df-56bef8af-0e80-4bc7-89a8-6f59825029f4');\n",
              "          const dataTable =\n",
              "            await google.colab.kernel.invokeFunction('convertToInteractive',\n",
              "                                                     [key], {});\n",
              "          if (!dataTable) return;\n",
              "\n",
              "          const docLinkHtml = 'Like what you see? Visit the ' +\n",
              "            '<a target=\"_blank\" href=https://colab.research.google.com/notebooks/data_table.ipynb>data table notebook</a>'\n",
              "            + ' to learn more about interactive tables.';\n",
              "          element.innerHTML = '';\n",
              "          dataTable['output_type'] = 'display_data';\n",
              "          await google.colab.output.renderOutput(dataTable, element);\n",
              "          const docLink = document.createElement('div');\n",
              "          docLink.innerHTML = docLinkHtml;\n",
              "          element.appendChild(docLink);\n",
              "        }\n",
              "      </script>\n",
              "    </div>\n",
              "  </div>\n",
              "  "
            ]
          },
          "metadata": {},
          "execution_count": 89
        }
      ]
    },
    {
      "cell_type": "code",
      "source": [
        "# Menampilkan 5 data teratas dari cluster 2\n",
        "df_result[df_result[\"segment\"]==2][:5]"
      ],
      "metadata": {
        "colab": {
          "base_uri": "https://localhost:8080/",
          "height": 270
        },
        "id": "QVB1A6WVpWRl",
        "outputId": "d14322c8-9490-46ba-d8de-86a72dddb6a9"
      },
      "execution_count": 90,
      "outputs": [
        {
          "output_type": "execute_result",
          "data": {
            "text/plain": [
              "      ID  Pendidikan Status_pernikahan  total_anak  recency  Umur  Pendapatan  \\\n",
              "0   5524  Graduation            Single           0       58    57     58138.0   \n",
              "12  2125  Graduation          Divorced           0       82    55     63033.0   \n",
              "18  6565      Master           Married           1       91    65     76995.0   \n",
              "34  8755      Master           Married           0        4    68     68657.0   \n",
              "40  8601  Graduation           Married           1        3    34     80011.0   \n",
              "\n",
              "    Spent_wine  Spent_buah  Spent_daging  Spent_ikan  Spent_emas  total_spent  \\\n",
              "0          635          88           546         172          88         1529   \n",
              "12         194          61           480         225          30          990   \n",
              "18        1012          80           498           0          24         1766   \n",
              "34         482          34           471         119          22         1128   \n",
              "40         421          76           536          82         102         1217   \n",
              "\n",
              "    segment  \n",
              "0         2  \n",
              "12        2  \n",
              "18        2  \n",
              "34        2  \n",
              "40        2  "
            ],
            "text/html": [
              "\n",
              "  <div id=\"df-b3a040f5-35f4-4a43-9e12-35126b537859\">\n",
              "    <div class=\"colab-df-container\">\n",
              "      <div>\n",
              "<style scoped>\n",
              "    .dataframe tbody tr th:only-of-type {\n",
              "        vertical-align: middle;\n",
              "    }\n",
              "\n",
              "    .dataframe tbody tr th {\n",
              "        vertical-align: top;\n",
              "    }\n",
              "\n",
              "    .dataframe thead th {\n",
              "        text-align: right;\n",
              "    }\n",
              "</style>\n",
              "<table border=\"1\" class=\"dataframe\">\n",
              "  <thead>\n",
              "    <tr style=\"text-align: right;\">\n",
              "      <th></th>\n",
              "      <th>ID</th>\n",
              "      <th>Pendidikan</th>\n",
              "      <th>Status_pernikahan</th>\n",
              "      <th>total_anak</th>\n",
              "      <th>recency</th>\n",
              "      <th>Umur</th>\n",
              "      <th>Pendapatan</th>\n",
              "      <th>Spent_wine</th>\n",
              "      <th>Spent_buah</th>\n",
              "      <th>Spent_daging</th>\n",
              "      <th>Spent_ikan</th>\n",
              "      <th>Spent_emas</th>\n",
              "      <th>total_spent</th>\n",
              "      <th>segment</th>\n",
              "    </tr>\n",
              "  </thead>\n",
              "  <tbody>\n",
              "    <tr>\n",
              "      <th>0</th>\n",
              "      <td>5524</td>\n",
              "      <td>Graduation</td>\n",
              "      <td>Single</td>\n",
              "      <td>0</td>\n",
              "      <td>58</td>\n",
              "      <td>57</td>\n",
              "      <td>58138.0</td>\n",
              "      <td>635</td>\n",
              "      <td>88</td>\n",
              "      <td>546</td>\n",
              "      <td>172</td>\n",
              "      <td>88</td>\n",
              "      <td>1529</td>\n",
              "      <td>2</td>\n",
              "    </tr>\n",
              "    <tr>\n",
              "      <th>12</th>\n",
              "      <td>2125</td>\n",
              "      <td>Graduation</td>\n",
              "      <td>Divorced</td>\n",
              "      <td>0</td>\n",
              "      <td>82</td>\n",
              "      <td>55</td>\n",
              "      <td>63033.0</td>\n",
              "      <td>194</td>\n",
              "      <td>61</td>\n",
              "      <td>480</td>\n",
              "      <td>225</td>\n",
              "      <td>30</td>\n",
              "      <td>990</td>\n",
              "      <td>2</td>\n",
              "    </tr>\n",
              "    <tr>\n",
              "      <th>18</th>\n",
              "      <td>6565</td>\n",
              "      <td>Master</td>\n",
              "      <td>Married</td>\n",
              "      <td>1</td>\n",
              "      <td>91</td>\n",
              "      <td>65</td>\n",
              "      <td>76995.0</td>\n",
              "      <td>1012</td>\n",
              "      <td>80</td>\n",
              "      <td>498</td>\n",
              "      <td>0</td>\n",
              "      <td>24</td>\n",
              "      <td>1766</td>\n",
              "      <td>2</td>\n",
              "    </tr>\n",
              "    <tr>\n",
              "      <th>34</th>\n",
              "      <td>8755</td>\n",
              "      <td>Master</td>\n",
              "      <td>Married</td>\n",
              "      <td>0</td>\n",
              "      <td>4</td>\n",
              "      <td>68</td>\n",
              "      <td>68657.0</td>\n",
              "      <td>482</td>\n",
              "      <td>34</td>\n",
              "      <td>471</td>\n",
              "      <td>119</td>\n",
              "      <td>22</td>\n",
              "      <td>1128</td>\n",
              "      <td>2</td>\n",
              "    </tr>\n",
              "    <tr>\n",
              "      <th>40</th>\n",
              "      <td>8601</td>\n",
              "      <td>Graduation</td>\n",
              "      <td>Married</td>\n",
              "      <td>1</td>\n",
              "      <td>3</td>\n",
              "      <td>34</td>\n",
              "      <td>80011.0</td>\n",
              "      <td>421</td>\n",
              "      <td>76</td>\n",
              "      <td>536</td>\n",
              "      <td>82</td>\n",
              "      <td>102</td>\n",
              "      <td>1217</td>\n",
              "      <td>2</td>\n",
              "    </tr>\n",
              "  </tbody>\n",
              "</table>\n",
              "</div>\n",
              "      <button class=\"colab-df-convert\" onclick=\"convertToInteractive('df-b3a040f5-35f4-4a43-9e12-35126b537859')\"\n",
              "              title=\"Convert this dataframe to an interactive table.\"\n",
              "              style=\"display:none;\">\n",
              "        \n",
              "  <svg xmlns=\"http://www.w3.org/2000/svg\" height=\"24px\"viewBox=\"0 0 24 24\"\n",
              "       width=\"24px\">\n",
              "    <path d=\"M0 0h24v24H0V0z\" fill=\"none\"/>\n",
              "    <path d=\"M18.56 5.44l.94 2.06.94-2.06 2.06-.94-2.06-.94-.94-2.06-.94 2.06-2.06.94zm-11 1L8.5 8.5l.94-2.06 2.06-.94-2.06-.94L8.5 2.5l-.94 2.06-2.06.94zm10 10l.94 2.06.94-2.06 2.06-.94-2.06-.94-.94-2.06-.94 2.06-2.06.94z\"/><path d=\"M17.41 7.96l-1.37-1.37c-.4-.4-.92-.59-1.43-.59-.52 0-1.04.2-1.43.59L10.3 9.45l-7.72 7.72c-.78.78-.78 2.05 0 2.83L4 21.41c.39.39.9.59 1.41.59.51 0 1.02-.2 1.41-.59l7.78-7.78 2.81-2.81c.8-.78.8-2.07 0-2.86zM5.41 20L4 18.59l7.72-7.72 1.47 1.35L5.41 20z\"/>\n",
              "  </svg>\n",
              "      </button>\n",
              "      \n",
              "  <style>\n",
              "    .colab-df-container {\n",
              "      display:flex;\n",
              "      flex-wrap:wrap;\n",
              "      gap: 12px;\n",
              "    }\n",
              "\n",
              "    .colab-df-convert {\n",
              "      background-color: #E8F0FE;\n",
              "      border: none;\n",
              "      border-radius: 50%;\n",
              "      cursor: pointer;\n",
              "      display: none;\n",
              "      fill: #1967D2;\n",
              "      height: 32px;\n",
              "      padding: 0 0 0 0;\n",
              "      width: 32px;\n",
              "    }\n",
              "\n",
              "    .colab-df-convert:hover {\n",
              "      background-color: #E2EBFA;\n",
              "      box-shadow: 0px 1px 2px rgba(60, 64, 67, 0.3), 0px 1px 3px 1px rgba(60, 64, 67, 0.15);\n",
              "      fill: #174EA6;\n",
              "    }\n",
              "\n",
              "    [theme=dark] .colab-df-convert {\n",
              "      background-color: #3B4455;\n",
              "      fill: #D2E3FC;\n",
              "    }\n",
              "\n",
              "    [theme=dark] .colab-df-convert:hover {\n",
              "      background-color: #434B5C;\n",
              "      box-shadow: 0px 1px 3px 1px rgba(0, 0, 0, 0.15);\n",
              "      filter: drop-shadow(0px 1px 2px rgba(0, 0, 0, 0.3));\n",
              "      fill: #FFFFFF;\n",
              "    }\n",
              "  </style>\n",
              "\n",
              "      <script>\n",
              "        const buttonEl =\n",
              "          document.querySelector('#df-b3a040f5-35f4-4a43-9e12-35126b537859 button.colab-df-convert');\n",
              "        buttonEl.style.display =\n",
              "          google.colab.kernel.accessAllowed ? 'block' : 'none';\n",
              "\n",
              "        async function convertToInteractive(key) {\n",
              "          const element = document.querySelector('#df-b3a040f5-35f4-4a43-9e12-35126b537859');\n",
              "          const dataTable =\n",
              "            await google.colab.kernel.invokeFunction('convertToInteractive',\n",
              "                                                     [key], {});\n",
              "          if (!dataTable) return;\n",
              "\n",
              "          const docLinkHtml = 'Like what you see? Visit the ' +\n",
              "            '<a target=\"_blank\" href=https://colab.research.google.com/notebooks/data_table.ipynb>data table notebook</a>'\n",
              "            + ' to learn more about interactive tables.';\n",
              "          element.innerHTML = '';\n",
              "          dataTable['output_type'] = 'display_data';\n",
              "          await google.colab.output.renderOutput(dataTable, element);\n",
              "          const docLink = document.createElement('div');\n",
              "          docLink.innerHTML = docLinkHtml;\n",
              "          element.appendChild(docLink);\n",
              "        }\n",
              "      </script>\n",
              "    </div>\n",
              "  </div>\n",
              "  "
            ]
          },
          "metadata": {},
          "execution_count": 90
        }
      ]
    },
    {
      "cell_type": "markdown",
      "metadata": {
        "id": "FJxgNg5vKviR"
      },
      "source": [
        "### EDA 2"
      ]
    },
    {
      "cell_type": "markdown",
      "source": [
        "Selanjutnya setelah menentukan segmentasi pelanggan akan dilakukan analisa pada masing-masing cluster. Bagaimana kondisi dari cluster 0, cluster 1 dan juga cluster 2."
      ],
      "metadata": {
        "id": "TsZsB4Rcp-KU"
      }
    },
    {
      "cell_type": "markdown",
      "source": [
        "####Persebaran usia customer pada masing2 kelompok"
      ],
      "metadata": {
        "id": "1Q0s6lBTqMKf"
      }
    },
    {
      "cell_type": "code",
      "metadata": {
        "id": "VZz3JeIXK2Gp",
        "colab": {
          "base_uri": "https://localhost:8080/",
          "height": 297
        },
        "outputId": "c3a3ac11-75a2-4383-d6be-24ed4f4de482"
      },
      "source": [
        "# Pengelompokan customer berdasarkan usia\n",
        "sns.boxplot(x=df_result[\"segment\"], y=df_result[\"Umur\"], data=df_result)"
      ],
      "execution_count": 72,
      "outputs": [
        {
          "output_type": "execute_result",
          "data": {
            "text/plain": [
              "<matplotlib.axes._subplots.AxesSubplot at 0x7f7d1a5d2b90>"
            ]
          },
          "metadata": {},
          "execution_count": 72
        },
        {
          "output_type": "display_data",
          "data": {
            "text/plain": [
              "<Figure size 432x288 with 1 Axes>"
            ],
            "image/png": "[encoded data removed]"
          },
          "metadata": {
            "needs_background": "light"
          }
        }
      ]
    },
    {
      "cell_type": "markdown",
      "source": [
        "Dari usia diketahui bahwa tidak terdapat perbedaan yang mencolok berada diantara ke 3 cluster. Namun dapat dilihat bahwa rerata usia pada cluster 0 adalah yang terendah, diikuti cluster 2 lalu rerata usia cluster 1 yang tertinggi."
      ],
      "metadata": {
        "id": "SiYsVjBGk1hK"
      }
    },
    {
      "cell_type": "markdown",
      "source": [
        "#####Persebaran Customer berdasarkan pendidikan pada masing2 kelompok."
      ],
      "metadata": {
        "id": "oonomOG5oNiv"
      }
    },
    {
      "cell_type": "code",
      "source": [
        "plt.figure(figsize=(15,6))\n",
        "sns.countplot(x=\"segment\", data=df_result, hue=\"Pendidikan\")\n",
        "plt.title(\"Jumlah Cluster Berdasarkan Pendidikan\")\n",
        "plt.xlabel(\"Cluster\")\n",
        "plt.ylabel(\"Jumlah Customer\")\n",
        "plt.show()"
      ],
      "metadata": {
        "colab": {
          "base_uri": "https://localhost:8080/",
          "height": 404
        },
        "id": "jrAS3xTgk2DF",
        "outputId": "28980fcd-2aca-414a-c00d-0fa3afa6d309"
      },
      "execution_count": 73,
      "outputs": [
        {
          "output_type": "display_data",
          "data": {
            "text/plain": [
              "<Figure size 1080x432 with 1 Axes>"
            ],
            "image/png": "[encoded data removed]"
          },
          "metadata": {
            "needs_background": "light"
          }
        }
      ]
    },
    {
      "cell_type": "markdown",
      "source": [
        "Pada sebaran berdasarkan jenis pendidikan ketiga cluster didominasi oleh pendidikan yang sama yaitu \"Graduation\", kemudian disusul oleh PhD pada posisi kedua dan Master pada posisi ketiga."
      ],
      "metadata": {
        "id": "E0nFCAdBne0A"
      }
    },
    {
      "cell_type": "markdown",
      "source": [
        "####Persebaran penghasilan customer pada masing2 kelompok"
      ],
      "metadata": {
        "id": "BXlTvxjzoSXI"
      }
    },
    {
      "cell_type": "code",
      "source": [
        "# Pengelompokan customer berdasarkan Pendapatan\n",
        "sns.boxplot(x=df_result[\"segment\"], y=df_result[\"Pendapatan\"], data=df_result)"
      ],
      "metadata": {
        "colab": {
          "base_uri": "https://localhost:8080/",
          "height": 297
        },
        "id": "hXRiwnWpqcBr",
        "outputId": "d1ebba6e-2724-413b-fdaf-e1b2d7748a62"
      },
      "execution_count": 75,
      "outputs": [
        {
          "output_type": "execute_result",
          "data": {
            "text/plain": [
              "<matplotlib.axes._subplots.AxesSubplot at 0x7f7d1a2c1110>"
            ]
          },
          "metadata": {},
          "execution_count": 75
        },
        {
          "output_type": "display_data",
          "data": {
            "text/plain": [
              "<Figure size 432x288 with 1 Axes>"
            ],
            "image/png": "[encoded data removed]"
          },
          "metadata": {
            "needs_background": "light"
          }
        }
      ]
    },
    {
      "cell_type": "markdown",
      "source": [
        "Cluster 0 merupakan rerata penghasilan customer terendah, namun memiliki pencilan data pendapatan yang tertinggi dari ketiga cluster yang ada. \n",
        "Cluster 1 merupakan rerata penghasilan tertinggi ke 2 setelah cluster 2."
      ],
      "metadata": {
        "id": "4k27h9c7vEuR"
      }
    },
    {
      "cell_type": "markdown",
      "source": [
        "####Persebaran Customer berdasarkan Status Pernikahan pada masing2 kelompok"
      ],
      "metadata": {
        "id": "ko8BHvVnozHw"
      }
    },
    {
      "cell_type": "code",
      "source": [
        "plt.figure(figsize=(15,6))\n",
        "sns.countplot(x=\"segment\", data=df_result, hue=\"Status_pernikahan\")\n",
        "plt.title(\"Jumlah Cluster Berdasarkan Status_pernikahan\")\n",
        "plt.xlabel(\"Cluster\")\n",
        "plt.ylabel(\"Jumlah Customer\")\n",
        "plt.show()"
      ],
      "metadata": {
        "colab": {
          "base_uri": "https://localhost:8080/",
          "height": 404
        },
        "id": "Iil0KAo3nO2V",
        "outputId": "5832fe48-49e1-43e0-9edc-035489ead244"
      },
      "execution_count": 76,
      "outputs": [
        {
          "output_type": "display_data",
          "data": {
            "text/plain": [
              "<Figure size 1080x432 with 1 Axes>"
            ],
            "image/png": "[encoded data removed]"
          },
          "metadata": {
            "needs_background": "light"
          }
        }
      ]
    },
    {
      "cell_type": "markdown",
      "source": [
        "Pada sebaran berdasarkan status pernikahan ketiga cluster didominasi oleh status pernikahan yang sama yaitu \"Married\", kemudian disusul oleh status \"Together\" pada posisi kedua dan \"Single\" pada posisi ketiga."
      ],
      "metadata": {
        "id": "sPPvU8pqvlN3"
      }
    },
    {
      "cell_type": "markdown",
      "source": [
        "####Persebaran Customer berdasarkan Produk"
      ],
      "metadata": {
        "id": "0CKB3bDCTKA1"
      }
    },
    {
      "cell_type": "code",
      "source": [
        "# Pengelompokan customer berdasarkan produk\n",
        "sns.boxplot(x=df_result[\"segment\"], y=df_result['Spent_wine'], data=df_result)"
      ],
      "metadata": {
        "colab": {
          "base_uri": "https://localhost:8080/",
          "height": 297
        },
        "id": "yKVowbrwFJto",
        "outputId": "e5cb50da-37b3-4708-89f2-a4e068c27030"
      },
      "execution_count": 77,
      "outputs": [
        {
          "output_type": "execute_result",
          "data": {
            "text/plain": [
              "<matplotlib.axes._subplots.AxesSubplot at 0x7f7d1a1ae4d0>"
            ]
          },
          "metadata": {},
          "execution_count": 77
        },
        {
          "output_type": "display_data",
          "data": {
            "text/plain": [
              "<Figure size 432x288 with 1 Axes>"
            ],
            "image/png": "[encoded data removed]"
          },
          "metadata": {
            "needs_background": "light"
          }
        }
      ]
    },
    {
      "cell_type": "code",
      "source": [
        "sns.boxplot(x=df_result[\"segment\"], y=df_result['Spent_daging'], data=df_result)\n"
      ],
      "metadata": {
        "colab": {
          "base_uri": "https://localhost:8080/",
          "height": 297
        },
        "id": "UyhfzbbRTEte",
        "outputId": "dd85864c-7d0a-4f5c-c1ec-2521d34c9245"
      },
      "execution_count": 78,
      "outputs": [
        {
          "output_type": "execute_result",
          "data": {
            "text/plain": [
              "<matplotlib.axes._subplots.AxesSubplot at 0x7f7d1a067d90>"
            ]
          },
          "metadata": {},
          "execution_count": 78
        },
        {
          "output_type": "display_data",
          "data": {
            "text/plain": [
              "<Figure size 432x288 with 1 Axes>"
            ],
            "image/png": "[encoded data removed]"
          },
          "metadata": {
            "needs_background": "light"
          }
        }
      ]
    },
    {
      "cell_type": "code",
      "source": [
        "sns.boxplot(x=df_result[\"segment\"], y=df_result['Spent_ikan'], data=df_result)\n"
      ],
      "metadata": {
        "colab": {
          "base_uri": "https://localhost:8080/",
          "height": 297
        },
        "id": "VtUWgm68TGc8",
        "outputId": "04781c7e-8a3f-4dae-c6ca-d4ba4ab7dc5a"
      },
      "execution_count": 79,
      "outputs": [
        {
          "output_type": "execute_result",
          "data": {
            "text/plain": [
              "<matplotlib.axes._subplots.AxesSubplot at 0x7f7d1a00e450>"
            ]
          },
          "metadata": {},
          "execution_count": 79
        },
        {
          "output_type": "display_data",
          "data": {
            "text/plain": [
              "<Figure size 432x288 with 1 Axes>"
            ],
            "image/png": "[encoded data removed]"
          },
          "metadata": {
            "needs_background": "light"
          }
        }
      ]
    },
    {
      "cell_type": "code",
      "source": [
        "sns.boxplot(x=df_result[\"segment\"], y=df_result['Spent_emas'], data=df_result)\n"
      ],
      "metadata": {
        "colab": {
          "base_uri": "https://localhost:8080/",
          "height": 297
        },
        "id": "-1hwdjEvTI3c",
        "outputId": "4beb904b-a16e-4b05-9149-3ad61d49e1bd"
      },
      "execution_count": 80,
      "outputs": [
        {
          "output_type": "execute_result",
          "data": {
            "text/plain": [
              "<matplotlib.axes._subplots.AxesSubplot at 0x7f7d19f32550>"
            ]
          },
          "metadata": {},
          "execution_count": 80
        },
        {
          "output_type": "display_data",
          "data": {
            "text/plain": [
              "<Figure size 432x288 with 1 Axes>"
            ],
            "image/png": "[encoded data removed]"
          },
          "metadata": {
            "needs_background": "light"
          }
        }
      ]
    },
    {
      "cell_type": "code",
      "source": [
        "sns.boxplot(x=df_result[\"segment\"], y=df_result['Spent_buah'], data=df_result)"
      ],
      "metadata": {
        "colab": {
          "base_uri": "https://localhost:8080/",
          "height": 297
        },
        "id": "v-ZM-P7BTJor",
        "outputId": "a95e66af-31d5-4764-cffc-160de916c166"
      },
      "execution_count": 81,
      "outputs": [
        {
          "output_type": "execute_result",
          "data": {
            "text/plain": [
              "<matplotlib.axes._subplots.AxesSubplot at 0x7f7d19f15190>"
            ]
          },
          "metadata": {},
          "execution_count": 81
        },
        {
          "output_type": "display_data",
          "data": {
            "text/plain": [
              "<Figure size 432x288 with 1 Axes>"
            ],
            "image/png": "[encoded data removed]"
          },
          "metadata": {
            "needs_background": "light"
          }
        }
      ]
    },
    {
      "cell_type": "markdown",
      "source": [
        "####Persebaran Customer berdasarkan Total Produk"
      ],
      "metadata": {
        "id": "KCtctPowTaRo"
      }
    },
    {
      "cell_type": "code",
      "source": [
        "sns.boxplot(x=df_result[\"segment\"], y=df_result['total_spent'], data=df_result)"
      ],
      "metadata": {
        "colab": {
          "base_uri": "https://localhost:8080/",
          "height": 297
        },
        "id": "SQ-70prKGM4q",
        "outputId": "3bf5214b-67d2-472b-f942-27bbb92c59e6"
      },
      "execution_count": 70,
      "outputs": [
        {
          "output_type": "execute_result",
          "data": {
            "text/plain": [
              "<matplotlib.axes._subplots.AxesSubplot at 0x7f569dbdd310>"
            ]
          },
          "metadata": {},
          "execution_count": 70
        },
        {
          "output_type": "display_data",
          "data": {
            "text/plain": [
              "<Figure size 432x288 with 1 Axes>"
            ],
            "image/png": "[encoded data removed]"
          },
          "metadata": {
            "needs_background": "light"
          }
        }
      ]
    },
    {
      "cell_type": "code",
      "source": [
        "sns.lmplot(x='recency', y='total_spent', data=df_result, hue='segment', fit_reg=True)"
      ],
      "metadata": {
        "colab": {
          "base_uri": "https://localhost:8080/",
          "height": 387
        },
        "id": "BraoVSnMGJCk",
        "outputId": "ae1e9557-d07f-4e0f-8f18-7153a6112b8d"
      },
      "execution_count": 82,
      "outputs": [
        {
          "output_type": "execute_result",
          "data": {
            "text/plain": [
              "<seaborn.axisgrid.FacetGrid at 0x7f7d1a058750>"
            ]
          },
          "metadata": {},
          "execution_count": 82
        },
        {
          "output_type": "display_data",
          "data": {
            "text/plain": [
              "<Figure size 411.75x360 with 1 Axes>"
            ],
            "image/png": "[encoded data removed]"
          },
          "metadata": {
            "needs_background": "light"
          }
        }
      ]
    },
    {
      "cell_type": "code",
      "source": [
        "df_result.groupby('segment').mean().sort_values('total_spent',ascending=False)"
      ],
      "metadata": {
        "colab": {
          "base_uri": "https://localhost:8080/",
          "height": 175
        },
        "id": "wAAgi-zffXix",
        "outputId": "e6b5885d-874d-4dbe-d16b-19f634d1c588"
      },
      "execution_count": 83,
      "outputs": [
        {
          "output_type": "execute_result",
          "data": {
            "text/plain": [
              "         total_anak    recency       Umur    Pendapatan  Spent_wine  \\\n",
              "segment                                                               \n",
              "2          0.341346  49.194712  45.776442  74834.021635  614.478365   \n",
              "1          0.792545  48.965964  47.713128  65119.874392  551.927066   \n",
              "0          1.240913  48.972950  43.464074  36439.737532   67.557904   \n",
              "\n",
              "         Spent_buah  Spent_daging  Spent_ikan  Spent_emas  total_spent  \n",
              "segment                                                                 \n",
              "2         87.439904    269.639423  124.031250   49.199519  1353.100962  \n",
              "1         24.901135    167.293355   35.774716   45.064830   916.598055  \n",
              "0          5.634827     29.416737    8.229079   15.420118   132.672866  "
            ],
            "text/html": [
              "\n",
              "  <div id=\"df-899db819-a606-4254-9e90-f1b3659af3f3\">\n",
              "    <div class=\"colab-df-container\">\n",
              "      <div>\n",
              "<style scoped>\n",
              "    .dataframe tbody tr th:only-of-type {\n",
              "        vertical-align: middle;\n",
              "    }\n",
              "\n",
              "    .dataframe tbody tr th {\n",
              "        vertical-align: top;\n",
              "    }\n",
              "\n",
              "    .dataframe thead th {\n",
              "        text-align: right;\n",
              "    }\n",
              "</style>\n",
              "<table border=\"1\" class=\"dataframe\">\n",
              "  <thead>\n",
              "    <tr style=\"text-align: right;\">\n",
              "      <th></th>\n",
              "      <th>total_anak</th>\n",
              "      <th>recency</th>\n",
              "      <th>Umur</th>\n",
              "      <th>Pendapatan</th>\n",
              "      <th>Spent_wine</th>\n",
              "      <th>Spent_buah</th>\n",
              "      <th>Spent_daging</th>\n",
              "      <th>Spent_ikan</th>\n",
              "      <th>Spent_emas</th>\n",
              "      <th>total_spent</th>\n",
              "    </tr>\n",
              "    <tr>\n",
              "      <th>segment</th>\n",
              "      <th></th>\n",
              "      <th></th>\n",
              "      <th></th>\n",
              "      <th></th>\n",
              "      <th></th>\n",
              "      <th></th>\n",
              "      <th></th>\n",
              "      <th></th>\n",
              "      <th></th>\n",
              "      <th></th>\n",
              "    </tr>\n",
              "  </thead>\n",
              "  <tbody>\n",
              "    <tr>\n",
              "      <th>2</th>\n",
              "      <td>0.341346</td>\n",
              "      <td>49.194712</td>\n",
              "      <td>45.776442</td>\n",
              "      <td>74834.021635</td>\n",
              "      <td>614.478365</td>\n",
              "      <td>87.439904</td>\n",
              "      <td>269.639423</td>\n",
              "      <td>124.031250</td>\n",
              "      <td>49.199519</td>\n",
              "      <td>1353.100962</td>\n",
              "    </tr>\n",
              "    <tr>\n",
              "      <th>1</th>\n",
              "      <td>0.792545</td>\n",
              "      <td>48.965964</td>\n",
              "      <td>47.713128</td>\n",
              "      <td>65119.874392</td>\n",
              "      <td>551.927066</td>\n",
              "      <td>24.901135</td>\n",
              "      <td>167.293355</td>\n",
              "      <td>35.774716</td>\n",
              "      <td>45.064830</td>\n",
              "      <td>916.598055</td>\n",
              "    </tr>\n",
              "    <tr>\n",
              "      <th>0</th>\n",
              "      <td>1.240913</td>\n",
              "      <td>48.972950</td>\n",
              "      <td>43.464074</td>\n",
              "      <td>36439.737532</td>\n",
              "      <td>67.557904</td>\n",
              "      <td>5.634827</td>\n",
              "      <td>29.416737</td>\n",
              "      <td>8.229079</td>\n",
              "      <td>15.420118</td>\n",
              "      <td>132.672866</td>\n",
              "    </tr>\n",
              "  </tbody>\n",
              "</table>\n",
              "</div>\n",
              "      <button class=\"colab-df-convert\" onclick=\"convertToInteractive('df-899db819-a606-4254-9e90-f1b3659af3f3')\"\n",
              "              title=\"Convert this dataframe to an interactive table.\"\n",
              "              style=\"display:none;\">\n",
              "        \n",
              "  <svg xmlns=\"http://www.w3.org/2000/svg\" height=\"24px\"viewBox=\"0 0 24 24\"\n",
              "       width=\"24px\">\n",
              "    <path d=\"M0 0h24v24H0V0z\" fill=\"none\"/>\n",
              "    <path d=\"M18.56 5.44l.94 2.06.94-2.06 2.06-.94-2.06-.94-.94-2.06-.94 2.06-2.06.94zm-11 1L8.5 8.5l.94-2.06 2.06-.94-2.06-.94L8.5 2.5l-.94 2.06-2.06.94zm10 10l.94 2.06.94-2.06 2.06-.94-2.06-.94-.94-2.06-.94 2.06-2.06.94z\"/><path d=\"M17.41 7.96l-1.37-1.37c-.4-.4-.92-.59-1.43-.59-.52 0-1.04.2-1.43.59L10.3 9.45l-7.72 7.72c-.78.78-.78 2.05 0 2.83L4 21.41c.39.39.9.59 1.41.59.51 0 1.02-.2 1.41-.59l7.78-7.78 2.81-2.81c.8-.78.8-2.07 0-2.86zM5.41 20L4 18.59l7.72-7.72 1.47 1.35L5.41 20z\"/>\n",
              "  </svg>\n",
              "      </button>\n",
              "      \n",
              "  <style>\n",
              "    .colab-df-container {\n",
              "      display:flex;\n",
              "      flex-wrap:wrap;\n",
              "      gap: 12px;\n",
              "    }\n",
              "\n",
              "    .colab-df-convert {\n",
              "      background-color: #E8F0FE;\n",
              "      border: none;\n",
              "      border-radius: 50%;\n",
              "      cursor: pointer;\n",
              "      display: none;\n",
              "      fill: #1967D2;\n",
              "      height: 32px;\n",
              "      padding: 0 0 0 0;\n",
              "      width: 32px;\n",
              "    }\n",
              "\n",
              "    .colab-df-convert:hover {\n",
              "      background-color: #E2EBFA;\n",
              "      box-shadow: 0px 1px 2px rgba(60, 64, 67, 0.3), 0px 1px 3px 1px rgba(60, 64, 67, 0.15);\n",
              "      fill: #174EA6;\n",
              "    }\n",
              "\n",
              "    [theme=dark] .colab-df-convert {\n",
              "      background-color: #3B4455;\n",
              "      fill: #D2E3FC;\n",
              "    }\n",
              "\n",
              "    [theme=dark] .colab-df-convert:hover {\n",
              "      background-color: #434B5C;\n",
              "      box-shadow: 0px 1px 3px 1px rgba(0, 0, 0, 0.15);\n",
              "      filter: drop-shadow(0px 1px 2px rgba(0, 0, 0, 0.3));\n",
              "      fill: #FFFFFF;\n",
              "    }\n",
              "  </style>\n",
              "\n",
              "      <script>\n",
              "        const buttonEl =\n",
              "          document.querySelector('#df-899db819-a606-4254-9e90-f1b3659af3f3 button.colab-df-convert');\n",
              "        buttonEl.style.display =\n",
              "          google.colab.kernel.accessAllowed ? 'block' : 'none';\n",
              "\n",
              "        async function convertToInteractive(key) {\n",
              "          const element = document.querySelector('#df-899db819-a606-4254-9e90-f1b3659af3f3');\n",
              "          const dataTable =\n",
              "            await google.colab.kernel.invokeFunction('convertToInteractive',\n",
              "                                                     [key], {});\n",
              "          if (!dataTable) return;\n",
              "\n",
              "          const docLinkHtml = 'Like what you see? Visit the ' +\n",
              "            '<a target=\"_blank\" href=https://colab.research.google.com/notebooks/data_table.ipynb>data table notebook</a>'\n",
              "            + ' to learn more about interactive tables.';\n",
              "          element.innerHTML = '';\n",
              "          dataTable['output_type'] = 'display_data';\n",
              "          await google.colab.output.renderOutput(dataTable, element);\n",
              "          const docLink = document.createElement('div');\n",
              "          docLink.innerHTML = docLinkHtml;\n",
              "          element.appendChild(docLink);\n",
              "        }\n",
              "      </script>\n",
              "    </div>\n",
              "  </div>\n",
              "  "
            ]
          },
          "metadata": {},
          "execution_count": 83
        }
      ]
    },
    {
      "cell_type": "markdown",
      "source": [
        "Sebaran Customer Berdasarkan Belanja Produk\n",
        "\n",
        "Cluster 0 memiliki kecendurungan Belanja lebih sedikit dibanding dengan lainnya. Perbedaannya-pun cukup signifikan.\n",
        "\n",
        "Cluster 0 memiliki rerata total spent 132.67\n",
        "\n",
        "Cluster 1 memiliki rerata total spent  916.59.\n",
        "\n",
        "Cluster 2 memiliki rerata total spent  1353.10."
      ],
      "metadata": {
        "id": "aga4ul6mTkIl"
      }
    },
    {
      "cell_type": "markdown",
      "source": [
        "####Adakah korelasi pendapatan customer dengan jumlah produk yang dibelanjakan."
      ],
      "metadata": {
        "id": "jE-C4jgU2jQX"
      }
    },
    {
      "cell_type": "code",
      "source": [
        "sns.lmplot(x='Pendapatan', y='total_spent', data=df_result, hue='segment', fit_reg=True)"
      ],
      "metadata": {
        "colab": {
          "base_uri": "https://localhost:8080/",
          "height": 387
        },
        "id": "g9ojxc8E2ihy",
        "outputId": "c6663409-60d6-47fd-f0fe-1ccf1ea8f563"
      },
      "execution_count": 85,
      "outputs": [
        {
          "output_type": "execute_result",
          "data": {
            "text/plain": [
              "<seaborn.axisgrid.FacetGrid at 0x7f7d1a42ab10>"
            ]
          },
          "metadata": {},
          "execution_count": 85
        },
        {
          "output_type": "display_data",
          "data": {
            "text/plain": [
              "<Figure size 411.75x360 with 1 Axes>"
            ],
            "image/png": "[encoded data removed]"
          },
          "metadata": {
            "needs_background": "light"
          }
        }
      ]
    },
    {
      "cell_type": "code",
      "source": [
        "#cek korelasi dengan metode korelasi pearson\n",
        "df_result[['Pendapatan','total_spent']].corr(method='pearson')"
      ],
      "metadata": {
        "colab": {
          "base_uri": "https://localhost:8080/",
          "height": 112
        },
        "id": "9lsxUPFD25Fs",
        "outputId": "95c12079-6b8f-4f2f-fbb0-16f8e1816097"
      },
      "execution_count": 86,
      "outputs": [
        {
          "output_type": "execute_result",
          "data": {
            "text/plain": [
              "             Pendapatan  total_spent\n",
              "Pendapatan     1.000000     0.815686\n",
              "total_spent    0.815686     1.000000"
            ],
            "text/html": [
              "\n",
              "  <div id=\"df-2b93adb7-2765-429a-9c49-eb6941dfeb60\">\n",
              "    <div class=\"colab-df-container\">\n",
              "      <div>\n",
              "<style scoped>\n",
              "    .dataframe tbody tr th:only-of-type {\n",
              "        vertical-align: middle;\n",
              "    }\n",
              "\n",
              "    .dataframe tbody tr th {\n",
              "        vertical-align: top;\n",
              "    }\n",
              "\n",
              "    .dataframe thead th {\n",
              "        text-align: right;\n",
              "    }\n",
              "</style>\n",
              "<table border=\"1\" class=\"dataframe\">\n",
              "  <thead>\n",
              "    <tr style=\"text-align: right;\">\n",
              "      <th></th>\n",
              "      <th>Pendapatan</th>\n",
              "      <th>total_spent</th>\n",
              "    </tr>\n",
              "  </thead>\n",
              "  <tbody>\n",
              "    <tr>\n",
              "      <th>Pendapatan</th>\n",
              "      <td>1.000000</td>\n",
              "      <td>0.815686</td>\n",
              "    </tr>\n",
              "    <tr>\n",
              "      <th>total_spent</th>\n",
              "      <td>0.815686</td>\n",
              "      <td>1.000000</td>\n",
              "    </tr>\n",
              "  </tbody>\n",
              "</table>\n",
              "</div>\n",
              "      <button class=\"colab-df-convert\" onclick=\"convertToInteractive('df-2b93adb7-2765-429a-9c49-eb6941dfeb60')\"\n",
              "              title=\"Convert this dataframe to an interactive table.\"\n",
              "              style=\"display:none;\">\n",
              "        \n",
              "  <svg xmlns=\"http://www.w3.org/2000/svg\" height=\"24px\"viewBox=\"0 0 24 24\"\n",
              "       width=\"24px\">\n",
              "    <path d=\"M0 0h24v24H0V0z\" fill=\"none\"/>\n",
              "    <path d=\"M18.56 5.44l.94 2.06.94-2.06 2.06-.94-2.06-.94-.94-2.06-.94 2.06-2.06.94zm-11 1L8.5 8.5l.94-2.06 2.06-.94-2.06-.94L8.5 2.5l-.94 2.06-2.06.94zm10 10l.94 2.06.94-2.06 2.06-.94-2.06-.94-.94-2.06-.94 2.06-2.06.94z\"/><path d=\"M17.41 7.96l-1.37-1.37c-.4-.4-.92-.59-1.43-.59-.52 0-1.04.2-1.43.59L10.3 9.45l-7.72 7.72c-.78.78-.78 2.05 0 2.83L4 21.41c.39.39.9.59 1.41.59.51 0 1.02-.2 1.41-.59l7.78-7.78 2.81-2.81c.8-.78.8-2.07 0-2.86zM5.41 20L4 18.59l7.72-7.72 1.47 1.35L5.41 20z\"/>\n",
              "  </svg>\n",
              "      </button>\n",
              "      \n",
              "  <style>\n",
              "    .colab-df-container {\n",
              "      display:flex;\n",
              "      flex-wrap:wrap;\n",
              "      gap: 12px;\n",
              "    }\n",
              "\n",
              "    .colab-df-convert {\n",
              "      background-color: #E8F0FE;\n",
              "      border: none;\n",
              "      border-radius: 50%;\n",
              "      cursor: pointer;\n",
              "      display: none;\n",
              "      fill: #1967D2;\n",
              "      height: 32px;\n",
              "      padding: 0 0 0 0;\n",
              "      width: 32px;\n",
              "    }\n",
              "\n",
              "    .colab-df-convert:hover {\n",
              "      background-color: #E2EBFA;\n",
              "      box-shadow: 0px 1px 2px rgba(60, 64, 67, 0.3), 0px 1px 3px 1px rgba(60, 64, 67, 0.15);\n",
              "      fill: #174EA6;\n",
              "    }\n",
              "\n",
              "    [theme=dark] .colab-df-convert {\n",
              "      background-color: #3B4455;\n",
              "      fill: #D2E3FC;\n",
              "    }\n",
              "\n",
              "    [theme=dark] .colab-df-convert:hover {\n",
              "      background-color: #434B5C;\n",
              "      box-shadow: 0px 1px 3px 1px rgba(0, 0, 0, 0.15);\n",
              "      filter: drop-shadow(0px 1px 2px rgba(0, 0, 0, 0.3));\n",
              "      fill: #FFFFFF;\n",
              "    }\n",
              "  </style>\n",
              "\n",
              "      <script>\n",
              "        const buttonEl =\n",
              "          document.querySelector('#df-2b93adb7-2765-429a-9c49-eb6941dfeb60 button.colab-df-convert');\n",
              "        buttonEl.style.display =\n",
              "          google.colab.kernel.accessAllowed ? 'block' : 'none';\n",
              "\n",
              "        async function convertToInteractive(key) {\n",
              "          const element = document.querySelector('#df-2b93adb7-2765-429a-9c49-eb6941dfeb60');\n",
              "          const dataTable =\n",
              "            await google.colab.kernel.invokeFunction('convertToInteractive',\n",
              "                                                     [key], {});\n",
              "          if (!dataTable) return;\n",
              "\n",
              "          const docLinkHtml = 'Like what you see? Visit the ' +\n",
              "            '<a target=\"_blank\" href=https://colab.research.google.com/notebooks/data_table.ipynb>data table notebook</a>'\n",
              "            + ' to learn more about interactive tables.';\n",
              "          element.innerHTML = '';\n",
              "          dataTable['output_type'] = 'display_data';\n",
              "          await google.colab.output.renderOutput(dataTable, element);\n",
              "          const docLink = document.createElement('div');\n",
              "          docLink.innerHTML = docLinkHtml;\n",
              "          element.appendChild(docLink);\n",
              "        }\n",
              "      </script>\n",
              "    </div>\n",
              "  </div>\n",
              "  "
            ]
          },
          "metadata": {},
          "execution_count": 86
        }
      ]
    },
    {
      "cell_type": "markdown",
      "metadata": {
        "id": "iywiyugsKh0Q"
      },
      "source": [
        "### KESIMPULAN/SARAN"
      ]
    },
    {
      "cell_type": "markdown",
      "source": [
        "####Kesimpulan"
      ],
      "metadata": {
        "id": "dQbEUjJB6PbK"
      }
    },
    {
      "cell_type": "markdown",
      "source": [
        "Dari analisa yang dilakukan maka didapat informasi bahwa \n",
        "- Kelompok pertama yaitu cluster 0 merupakan kelompok dengan Pendapatan terendah dibanding yang lainnya, selain itu cluster 0 merupakan kelompok dengan tingkat total spent terendah juga.\n",
        "- Kelompok kedua yaitu cluster 1 adalah kelompok dengan Pendapatan dan tingkat total spent masuk dalam kategori sedang.\n",
        "- Kelompok ketiga yaitu cluster 2 adalah kelompok yang memiliki Pendapatan terbesar, dan tingkat total spent juga tertinggi dari kelompok yang lain.\n",
        "- terdapat korelasi positif yang cukup kuat antara total Pendapatan dengan pembelian produk yang ada baik secara masing-masing jenis produk, atau total spent produk secara keseluruhan. Sedangkan faktor-faktor lain seperti tingkat pendidikan, status pernikahan dan Umur tidak terlalu berpengaruh terhadap produk yang ada.\n"
      ],
      "metadata": {
        "id": "CP6_lPhVf1_N"
      }
    },
    {
      "cell_type": "markdown",
      "source": [
        "####Saran"
      ],
      "metadata": {
        "id": "ddnpo96K6Rpi"
      }
    },
    {
      "cell_type": "markdown",
      "source": [
        "Berdasarkan kesimpulan diatas, saran yang dapat diberikan untuk meningkatkan penjualan diantaranya adalah\n",
        "- Memberikan promo tertentu untuk sehingga meningkatkan minat belanja bagi kelompok dengan rerata Pendapatan rendah.\n",
        "- Membuat produk dengan leveling grade harga yang variatif sehingga meningkatkan segmen pada semua level kelompok pendapatan.  "
      ],
      "metadata": {
        "id": "IQWk9mgJ6TLd"
      }
    },
    {
      "cell_type": "code",
      "metadata": {
        "id": "jFC7JYkHKh0R"
      },
      "source": [],
      "execution_count": 66,
      "outputs": []
    }
  ]
}