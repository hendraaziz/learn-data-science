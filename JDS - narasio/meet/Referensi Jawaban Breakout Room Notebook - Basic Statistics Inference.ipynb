{
 "cells": [
  {
   "cell_type": "markdown",
   "metadata": {
    "id": "8IS3szdEXCwb"
   },
   "source": [
    "Ingatlah materi Central Limit Theorem dan Distribusi Normal"
   ]
  },
  {
   "cell_type": "markdown",
   "metadata": {
    "id": "Zl1VNU6zXeCP"
   },
   "source": [
    "Kita dapat membuat Central Limit Theorem dengan contoh kerja yang melibatkan pelemparan dadu.\n",
    "\n",
    "Ingatlah bahwa dadu adalah kubus dengan angka yang berbeda di setiap sisinya dari 1 hingga 6. Setiap nomor memiliki kemungkinan 1-sampai-6 untuk muncul dari pelemparan yang menggelinding. Distribusi angka yang muncul dari pelemparan dadu adalah seragam dengan kemungkinan yang sama.\n",
    "\n",
    "Kita dapat menggunakan fungsi randint() NumPy untuk menghasilkan sejumlah lemparan dadu acak (misalnya 50) antara 1 dan 6."
   ]
  },
  {
   "cell_type": "code",
   "execution_count": null,
   "metadata": {
    "id": "ncQeOAU-T68c"
   },
   "outputs": [],
   "source": [
    "# generate a sample of die rolls\n",
    "# generate random dice rolls\n",
    "from numpy.random import seed\n",
    "from numpy.random import randint\n",
    "from numpy import mean\n"
   ]
  },
  {
   "cell_type": "code",
   "execution_count": null,
   "metadata": {
    "colab": {
     "base_uri": "https://localhost:8080/"
    },
    "executionInfo": {
     "elapsed": 6,
     "status": "ok",
     "timestamp": 1659001494737,
     "user": {
      "displayName": "Oktafian Yusuf Prasetya",
      "userId": "05882715543122548803"
     },
     "user_tz": -420
    },
    "id": "deqTbjNEX08P",
    "outputId": "8934d8b4-02aa-4b86-9f22-448d84f7575a"
   },
   "outputs": [
    {
     "name": "stdout",
     "output_type": "stream",
     "text": [
      "[6 4 5 1 2 4 6 1 1 2 5 6 5 2 3 5 6 3 5 4 5 3 5 6 3 5 2 2 1 6 2 2 6 2 2 1 5\n",
      " 2 1 1 6 4 3 2 1 4 6 2 2 4]\n",
      "3.44\n"
     ]
    }
   ],
   "source": [
    "# seed the random number generator\n",
    "seed(1)\n",
    "# generate a sample of die rolls\n",
    "rolls = randint(1, 7, 50)\n",
    "print(rolls)\n",
    "print(mean(rolls))"
   ]
  },
  {
   "cell_type": "markdown",
   "metadata": {
    "id": "-QQH69V_YGwS"
   },
   "source": [
    "Didapatkan rata-rata setiap dadu yang muncul adalah 3.44."
   ]
  },
  {
   "cell_type": "markdown",
   "metadata": {
    "id": "XSobLQhyYLf4"
   },
   "source": [
    "Lalu kemudian silakan ulangi proses ini beberapa kali, seperti 1.000. Ini akan memberi kita hasil 1.000 rata-rata sampel. Dan bagaimana gambarnya?"
   ]
  },
  {
   "cell_type": "code",
   "execution_count": null,
   "metadata": {
    "colab": {
     "base_uri": "https://localhost:8080/",
     "height": 269
    },
    "executionInfo": {
     "elapsed": 783,
     "status": "ok",
     "timestamp": 1659001511576,
     "user": {
      "displayName": "Oktafian Yusuf Prasetya",
      "userId": "05882715543122548803"
     },
     "user_tz": -420
    },
    "id": "gd0XRvvkX74i",
    "outputId": "1b77e5f1-6854-49af-a90b-420af7109dc8"
   },
   "outputs": [
    {
     "data": {
      "image/png": "[encoded data removed]",
      "text/plain": [
       "<Figure size 432x288 with 1 Axes>"
      ]
     },
     "metadata": {
      "needs_background": "light"
     },
     "output_type": "display_data"
    }
   ],
   "source": [
    "#Jawab\n",
    "from matplotlib import pyplot\n",
    "# seed the random number generator\n",
    "seed(1)\n",
    "# calculate the mean of 50 dice rolls 1000 times\n",
    "means = [mean(randint(1, 7, 50)) for _ in range(1000)]\n",
    "# plot the distribution of sample means\n",
    "pyplot.hist(means)\n",
    "pyplot.show()"
   ]
  },
  {
   "cell_type": "markdown",
   "metadata": {
    "id": "8ouDas7Fefm9"
   },
   "source": [
    "Buatlah sebuah simulasi sampel random dari berat badan seorang pria (kisaran antara 60 sampai 90 kg), dengan ukuran n=50. Kemudian lakukan simulasi beberapa kali dan bagaimana bentuk distribusinya?."
   ]
  },
  {
   "cell_type": "code",
   "execution_count": null,
   "metadata": {
    "colab": {
     "base_uri": "https://localhost:8080/"
    },
    "executionInfo": {
     "elapsed": 412,
     "status": "ok",
     "timestamp": 1639377066646,
     "user": {
      "displayName": "Regita Putri Permata",
      "photoUrl": "https://lh3.googleusercontent.com/a/default-user=s64",
      "userId": "16829189224267766501"
     },
     "user_tz": -420
    },
    "id": "fEnsh00Nee5P",
    "outputId": "72d2af2f-3805-4b8b-88e5-d5ee0801cd11"
   },
   "outputs": [
    {
     "name": "stdout",
     "output_type": "stream",
     "text": [
      "[65 71 72 68 69 71 65 75 60 76 61 72 67 73 88 66 85 78 80 65 78 80 71 88\n",
      " 70 88 89 74 78 64 83 83 69 77 83 60 82 73 69 69 67 89 82 85 61 60 88 77\n",
      " 68 84]\n",
      "The average weight is 74.32 kg\n"
     ]
    }
   ],
   "source": [
    "#Jawab\n",
    "from numpy.random import seed\n",
    "from numpy.random import randint\n",
    "from numpy import mean\n",
    "# seed the random number generator, so that the experiment is #replicable\n",
    "seed(1)\n",
    "# generate a sample of men's weights\n",
    "weights = randint(60, 90, 50)\n",
    "print(weights)\n",
    "print('The average weight is {} kg'.format(mean(weights)))"
   ]
  },
  {
   "cell_type": "code",
   "execution_count": null,
   "metadata": {
    "colab": {
     "base_uri": "https://localhost:8080/",
     "height": 283
    },
    "executionInfo": {
     "elapsed": 411,
     "status": "ok",
     "timestamp": 1639377076060,
     "user": {
      "displayName": "Regita Putri Permata",
      "photoUrl": "https://lh3.googleusercontent.com/a/default-user=s64",
      "userId": "16829189224267766501"
     },
     "user_tz": -420
    },
    "id": "tfEaDGVWfNaa",
    "outputId": "b610417d-1327-4840-9f9f-4b7e8662a6fd"
   },
   "outputs": [
    {
     "data": {
      "image/png": "[encoded data removed]",
      "text/plain": [
       "<Figure size 432x288 with 1 Axes>"
      ]
     },
     "metadata": {
      "needs_background": "light"
     },
     "output_type": "display_data"
    },
    {
     "name": "stdout",
     "output_type": "stream",
     "text": [
      "The mean of the sample means is 74.54001999999998\n"
     ]
    }
   ],
   "source": [
    "import matplotlib.pyplot as plt\n",
    "# seed the random number generator, so that the experiment is replicable\n",
    "seed(1)\n",
    "# calculate the mean of 50 men's weights 1000 times\n",
    "means = [mean(randint(60, 90, 50)) for _i in range(1000)]\n",
    "# plot the distribution of sample means\n",
    "plt.hist(means)\n",
    "plt.show()\n",
    "print('The mean of the sample means is {}'.format(mean(means)))"
   ]
  },
  {
   "cell_type": "code",
   "execution_count": null,
   "metadata": {
    "id": "PT1PKlMjfPug"
   },
   "outputs": [],
   "source": []
  }
 ],
 "metadata": {
  "colab": {
   "name": "[REV] Kunci Jawaban Breakoutroom meet 5.ipynb",
   "provenance": []
  },
  "kernelspec": {
   "display_name": "Python 3 (ipykernel)",
   "language": "python",
   "name": "python3"
  },
  "language_info": {
   "codemirror_mode": {
    "name": "ipython",
    "version": 3
   },
   "file_extension": ".py",
   "mimetype": "text/x-python",
   "name": "python",
   "nbconvert_exporter": "python",
   "pygments_lexer": "ipython3",
   "version": "3.9.12"
  }
 },
 "nbformat": 4,
 "nbformat_minor": 1
}
