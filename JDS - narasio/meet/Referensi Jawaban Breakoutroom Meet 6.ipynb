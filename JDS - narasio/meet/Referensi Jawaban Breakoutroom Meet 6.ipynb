{
 "cells": [
  {
   "cell_type": "markdown",
   "metadata": {
    "id": "38pyI7859HUf"
   },
   "source": [
    "# Breakout Room Study Case\n",
    "Panggil kembali data **loan_prediction.csv**. Sebelumnya anda telah melakukan analisis pendapatan nasabah. Anda berfikir bahwa anda memerlukan informasi tambahan. Anda telah menyiapkan beberapa pertanyaan mengenai riset anda nantinya. List pertanyaan tersebut seperti berikut :\n",
    "1. Berapa rata-rata dan standar deviasi dari coapplicantincome?\n",
    "2. Anda berasumsi bahwa kemungkinan besar coapplicantincome pasti tidak kurang dari 1000. Apakah asumsi anda benar?\n",
    "3. Berapakah rata-rata coapplicantincome berdasarkan loan_status ?\n",
    "4. Kira-kira pada kisaran berapakah coapplicantincome untuk Graduated?\n",
    "5. Kamu ingin mengetahui apakah Education akan mempengaruhi coapplicantincome?\n"
   ]
  },
  {
   "cell_type": "markdown",
   "metadata": {
    "id": "SRi0sat4tx75"
   },
   "source": [
    "## Connect Colab dengan Gdrive"
   ]
  },
  {
   "cell_type": "code",
   "execution_count": 1,
   "metadata": {
    "colab": {
     "base_uri": "https://localhost:8080/"
    },
    "executionInfo": {
     "elapsed": 21627,
     "status": "ok",
     "timestamp": 1661935565417,
     "user": {
      "displayName": "Oktafian Yusuf Prasetya",
      "userId": "05882715543122548803"
     },
     "user_tz": -420
    },
    "id": "XpAQizp39Gso",
    "outputId": "c30a7025-ecc2-4324-8147-d4a7eee8ed22"
   },
   "outputs": [
    {
     "name": "stdout",
     "output_type": "stream",
     "text": [
      "Mounted at /content/gdrive\n"
     ]
    }
   ],
   "source": [
    "# Mengkoneksikan colab dengan gdrive\n",
    "from google.colab import drive\n",
    "drive.mount('/content/gdrive')"
   ]
  },
  {
   "cell_type": "markdown",
   "metadata": {
    "id": "te9iU645uDNS"
   },
   "source": [
    "## Import Packages"
   ]
  },
  {
   "cell_type": "code",
   "execution_count": 2,
   "metadata": {
    "executionInfo": {
     "elapsed": 1708,
     "status": "ok",
     "timestamp": 1661935567119,
     "user": {
      "displayName": "Oktafian Yusuf Prasetya",
      "userId": "05882715543122548803"
     },
     "user_tz": -420
    },
    "id": "vbr2YOd6t6dV"
   },
   "outputs": [],
   "source": [
    "import os\n",
    "import pandas as pd\n",
    "import numpy as np\n",
    "from scipy.stats import ttest_1samp, ttest_ind\n",
    "import matplotlib.pyplot as plt\n",
    "import seaborn as sns"
   ]
  },
  {
   "cell_type": "markdown",
   "metadata": {
    "id": "gOc2df7puV-N"
   },
   "source": [
    "## Setting Directory"
   ]
  },
  {
   "cell_type": "code",
   "execution_count": 3,
   "metadata": {
    "colab": {
     "base_uri": "https://localhost:8080/"
    },
    "executionInfo": {
     "elapsed": 8,
     "status": "ok",
     "timestamp": 1661935567120,
     "user": {
      "displayName": "Oktafian Yusuf Prasetya",
      "userId": "05882715543122548803"
     },
     "user_tz": -420
    },
    "id": "UVdX6vTNuT8O",
    "outputId": "d9e340ec-43f5-44f5-b349-258cec782ad0"
   },
   "outputs": [
    {
     "data": {
      "text/plain": [
       "['Stores.csv',\n",
       " 'iris.csv',\n",
       " 'passenger (1).csv',\n",
       " 'ride_sharing_new.csv',\n",
       " 'titanic.csv',\n",
       " 'titanic2.csv',\n",
       " 'salesmonthly.csv',\n",
       " 'winequalityN.csv',\n",
       " 'free_advertising_data.csv',\n",
       " 'TestMatches_Dataset.csv',\n",
       " 'release_dates.csv',\n",
       " 'retail_raw_test.csv',\n",
       " 'latihan_class.py',\n",
       " 'employee.py',\n",
       " 'panggil_class.py',\n",
       " '__pycache__',\n",
       " 'customer.csv',\n",
       " 'reciepts.csv',\n",
       " 'supermarket_sales.xlsx',\n",
       " 'DS Accounting',\n",
       " 'cc_approvals.data',\n",
       " 'crx.names',\n",
       " 'loan_prediction.csv',\n",
       " 'data_sample_ab_testing.csv',\n",
       " 'ab_data.csv',\n",
       " 'sales.csv',\n",
       " 'sales with standardized and normalized data.csv',\n",
       " 'spam.csv',\n",
       " 'creditcard.csv',\n",
       " 'house_prices.csv',\n",
       " 'Data wine aroma.csv',\n",
       " 'TelcoChurn.csv',\n",
       " 'SDS']"
      ]
     },
     "execution_count": 3,
     "metadata": {},
     "output_type": "execute_result"
    }
   ],
   "source": [
    "# Setting directory\n",
    "path = '/content/gdrive/My Drive/Data Notebook/'\n",
    "\n",
    "# Cek directory\n",
    "os.listdir(path)"
   ]
  },
  {
   "cell_type": "markdown",
   "metadata": {
    "id": "Ny7oP9-NuguX"
   },
   "source": [
    "## Load Data"
   ]
  },
  {
   "cell_type": "code",
   "execution_count": 4,
   "metadata": {
    "colab": {
     "base_uri": "https://localhost:8080/",
     "height": 288
    },
    "executionInfo": {
     "elapsed": 429,
     "status": "ok",
     "timestamp": 1661935567544,
     "user": {
      "displayName": "Oktafian Yusuf Prasetya",
      "userId": "05882715543122548803"
     },
     "user_tz": -420
    },
    "id": "sf_47NgEugDp",
    "outputId": "4066d832-2d39-4bf6-8f94-8ed59a95d547"
   },
   "outputs": [
    {
     "data": {
      "text/html": [
       "\n",
       "  <div id=\"df-a4d47958-1dbf-4cb3-940a-002e96c346ff\">\n",
       "    <div class=\"colab-df-container\">\n",
       "      <div>\n",
       "<style scoped>\n",
       "    .dataframe tbody tr th:only-of-type {\n",
       "        vertical-align: middle;\n",
       "    }\n",
       "\n",
       "    .dataframe tbody tr th {\n",
       "        vertical-align: top;\n",
       "    }\n",
       "\n",
       "    .dataframe thead th {\n",
       "        text-align: right;\n",
       "    }\n",
       "</style>\n",
       "<table border=\"1\" class=\"dataframe\">\n",
       "  <thead>\n",
       "    <tr style=\"text-align: right;\">\n",
       "      <th></th>\n",
       "      <th>Loan_ID</th>\n",
       "      <th>Gender</th>\n",
       "      <th>Married</th>\n",
       "      <th>Dependents</th>\n",
       "      <th>Education</th>\n",
       "      <th>Self_Employed</th>\n",
       "      <th>ApplicantIncome</th>\n",
       "      <th>CoapplicantIncome</th>\n",
       "      <th>LoanAmount</th>\n",
       "      <th>Loan_Amount_Term</th>\n",
       "      <th>Credit_History</th>\n",
       "      <th>Property_Area</th>\n",
       "      <th>Loan_Status</th>\n",
       "    </tr>\n",
       "  </thead>\n",
       "  <tbody>\n",
       "    <tr>\n",
       "      <th>0</th>\n",
       "      <td>LP001002</td>\n",
       "      <td>Male</td>\n",
       "      <td>No</td>\n",
       "      <td>0</td>\n",
       "      <td>Graduate</td>\n",
       "      <td>No</td>\n",
       "      <td>5849</td>\n",
       "      <td>0.0</td>\n",
       "      <td>NaN</td>\n",
       "      <td>360.0</td>\n",
       "      <td>1.0</td>\n",
       "      <td>Urban</td>\n",
       "      <td>Y</td>\n",
       "    </tr>\n",
       "    <tr>\n",
       "      <th>1</th>\n",
       "      <td>LP001003</td>\n",
       "      <td>Male</td>\n",
       "      <td>Yes</td>\n",
       "      <td>1</td>\n",
       "      <td>Graduate</td>\n",
       "      <td>No</td>\n",
       "      <td>4583</td>\n",
       "      <td>1508.0</td>\n",
       "      <td>128.0</td>\n",
       "      <td>360.0</td>\n",
       "      <td>1.0</td>\n",
       "      <td>Rural</td>\n",
       "      <td>N</td>\n",
       "    </tr>\n",
       "    <tr>\n",
       "      <th>2</th>\n",
       "      <td>LP001005</td>\n",
       "      <td>Male</td>\n",
       "      <td>Yes</td>\n",
       "      <td>0</td>\n",
       "      <td>Graduate</td>\n",
       "      <td>Yes</td>\n",
       "      <td>3000</td>\n",
       "      <td>0.0</td>\n",
       "      <td>66.0</td>\n",
       "      <td>360.0</td>\n",
       "      <td>1.0</td>\n",
       "      <td>Urban</td>\n",
       "      <td>Y</td>\n",
       "    </tr>\n",
       "    <tr>\n",
       "      <th>3</th>\n",
       "      <td>LP001006</td>\n",
       "      <td>Male</td>\n",
       "      <td>Yes</td>\n",
       "      <td>0</td>\n",
       "      <td>Not Graduate</td>\n",
       "      <td>No</td>\n",
       "      <td>2583</td>\n",
       "      <td>2358.0</td>\n",
       "      <td>120.0</td>\n",
       "      <td>360.0</td>\n",
       "      <td>1.0</td>\n",
       "      <td>Urban</td>\n",
       "      <td>Y</td>\n",
       "    </tr>\n",
       "    <tr>\n",
       "      <th>4</th>\n",
       "      <td>LP001008</td>\n",
       "      <td>Male</td>\n",
       "      <td>No</td>\n",
       "      <td>0</td>\n",
       "      <td>Graduate</td>\n",
       "      <td>No</td>\n",
       "      <td>6000</td>\n",
       "      <td>0.0</td>\n",
       "      <td>141.0</td>\n",
       "      <td>360.0</td>\n",
       "      <td>1.0</td>\n",
       "      <td>Urban</td>\n",
       "      <td>Y</td>\n",
       "    </tr>\n",
       "  </tbody>\n",
       "</table>\n",
       "</div>\n",
       "      <button class=\"colab-df-convert\" onclick=\"convertToInteractive('df-a4d47958-1dbf-4cb3-940a-002e96c346ff')\"\n",
       "              title=\"Convert this dataframe to an interactive table.\"\n",
       "              style=\"display:none;\">\n",
       "        \n",
       "  <svg xmlns=\"http://www.w3.org/2000/svg\" height=\"24px\"viewBox=\"0 0 24 24\"\n",
       "       width=\"24px\">\n",
       "    <path d=\"M0 0h24v24H0V0z\" fill=\"none\"/>\n",
       "    <path d=\"M18.56 5.44l.94 2.06.94-2.06 2.06-.94-2.06-.94-.94-2.06-.94 2.06-2.06.94zm-11 1L8.5 8.5l.94-2.06 2.06-.94-2.06-.94L8.5 2.5l-.94 2.06-2.06.94zm10 10l.94 2.06.94-2.06 2.06-.94-2.06-.94-.94-2.06-.94 2.06-2.06.94z\"/><path d=\"M17.41 7.96l-1.37-1.37c-.4-.4-.92-.59-1.43-.59-.52 0-1.04.2-1.43.59L10.3 9.45l-7.72 7.72c-.78.78-.78 2.05 0 2.83L4 21.41c.39.39.9.59 1.41.59.51 0 1.02-.2 1.41-.59l7.78-7.78 2.81-2.81c.8-.78.8-2.07 0-2.86zM5.41 20L4 18.59l7.72-7.72 1.47 1.35L5.41 20z\"/>\n",
       "  </svg>\n",
       "      </button>\n",
       "      \n",
       "  <style>\n",
       "    .colab-df-container {\n",
       "      display:flex;\n",
       "      flex-wrap:wrap;\n",
       "      gap: 12px;\n",
       "    }\n",
       "\n",
       "    .colab-df-convert {\n",
       "      background-color: #E8F0FE;\n",
       "      border: none;\n",
       "      border-radius: 50%;\n",
       "      cursor: pointer;\n",
       "      display: none;\n",
       "      fill: #1967D2;\n",
       "      height: 32px;\n",
       "      padding: 0 0 0 0;\n",
       "      width: 32px;\n",
       "    }\n",
       "\n",
       "    .colab-df-convert:hover {\n",
       "      background-color: #E2EBFA;\n",
       "      box-shadow: 0px 1px 2px rgba(60, 64, 67, 0.3), 0px 1px 3px 1px rgba(60, 64, 67, 0.15);\n",
       "      fill: #174EA6;\n",
       "    }\n",
       "\n",
       "    [theme=dark] .colab-df-convert {\n",
       "      background-color: #3B4455;\n",
       "      fill: #D2E3FC;\n",
       "    }\n",
       "\n",
       "    [theme=dark] .colab-df-convert:hover {\n",
       "      background-color: #434B5C;\n",
       "      box-shadow: 0px 1px 3px 1px rgba(0, 0, 0, 0.15);\n",
       "      filter: drop-shadow(0px 1px 2px rgba(0, 0, 0, 0.3));\n",
       "      fill: #FFFFFF;\n",
       "    }\n",
       "  </style>\n",
       "\n",
       "      <script>\n",
       "        const buttonEl =\n",
       "          document.querySelector('#df-a4d47958-1dbf-4cb3-940a-002e96c346ff button.colab-df-convert');\n",
       "        buttonEl.style.display =\n",
       "          google.colab.kernel.accessAllowed ? 'block' : 'none';\n",
       "\n",
       "        async function convertToInteractive(key) {\n",
       "          const element = document.querySelector('#df-a4d47958-1dbf-4cb3-940a-002e96c346ff');\n",
       "          const dataTable =\n",
       "            await google.colab.kernel.invokeFunction('convertToInteractive',\n",
       "                                                     [key], {});\n",
       "          if (!dataTable) return;\n",
       "\n",
       "          const docLinkHtml = 'Like what you see? Visit the ' +\n",
       "            '<a target=\"_blank\" href=https://colab.research.google.com/notebooks/data_table.ipynb>data table notebook</a>'\n",
       "            + ' to learn more about interactive tables.';\n",
       "          element.innerHTML = '';\n",
       "          dataTable['output_type'] = 'display_data';\n",
       "          await google.colab.output.renderOutput(dataTable, element);\n",
       "          const docLink = document.createElement('div');\n",
       "          docLink.innerHTML = docLinkHtml;\n",
       "          element.appendChild(docLink);\n",
       "        }\n",
       "      </script>\n",
       "    </div>\n",
       "  </div>\n",
       "  "
      ],
      "text/plain": [
       "    Loan_ID Gender Married Dependents     Education Self_Employed  \\\n",
       "0  LP001002   Male      No          0      Graduate            No   \n",
       "1  LP001003   Male     Yes          1      Graduate            No   \n",
       "2  LP001005   Male     Yes          0      Graduate           Yes   \n",
       "3  LP001006   Male     Yes          0  Not Graduate            No   \n",
       "4  LP001008   Male      No          0      Graduate            No   \n",
       "\n",
       "   ApplicantIncome  CoapplicantIncome  LoanAmount  Loan_Amount_Term  \\\n",
       "0             5849                0.0         NaN             360.0   \n",
       "1             4583             1508.0       128.0             360.0   \n",
       "2             3000                0.0        66.0             360.0   \n",
       "3             2583             2358.0       120.0             360.0   \n",
       "4             6000                0.0       141.0             360.0   \n",
       "\n",
       "   Credit_History Property_Area Loan_Status  \n",
       "0             1.0         Urban           Y  \n",
       "1             1.0         Rural           N  \n",
       "2             1.0         Urban           Y  \n",
       "3             1.0         Urban           Y  \n",
       "4             1.0         Urban           Y  "
      ]
     },
     "execution_count": 4,
     "metadata": {},
     "output_type": "execute_result"
    }
   ],
   "source": [
    "# Read dataset\n",
    "df = pd.read_csv(path + 'loan_prediction.csv')\n",
    "\n",
    "# Display data\n",
    "df.head()"
   ]
  },
  {
   "cell_type": "markdown",
   "metadata": {
    "id": "PO9NfihkuqmU"
   },
   "source": [
    "## Pertanyaan 1\n",
    "Mencari rata-rata dan standar deviasi dari coapplicantincome."
   ]
  },
  {
   "cell_type": "code",
   "execution_count": 5,
   "metadata": {
    "colab": {
     "base_uri": "https://localhost:8080/"
    },
    "executionInfo": {
     "elapsed": 16,
     "status": "ok",
     "timestamp": 1661935567545,
     "user": {
      "displayName": "Oktafian Yusuf Prasetya",
      "userId": "05882715543122548803"
     },
     "user_tz": -420
    },
    "id": "x7ijkehiulgC",
    "outputId": "2a4fc810-dfec-4fb4-f99a-297dbc422e0a"
   },
   "outputs": [
    {
     "name": "stdout",
     "output_type": "stream",
     "text": [
      "Rata-rata CoapplicantIncome adalah 1621.2457980271008\n",
      "Standart deviasi CoapplicantIncome adalah 2926.2483692241885\n",
      "\n"
     ]
    }
   ],
   "source": [
    "mean_area = df[\"CoapplicantIncome\"].mean()\n",
    "std_area = df[\"CoapplicantIncome\"].std()\n",
    "print('Rata-rata CoapplicantIncome adalah '+ str(mean_area))\n",
    "print('Standart deviasi CoapplicantIncome adalah '+ str(std_area) + '\\n')"
   ]
  },
  {
   "cell_type": "markdown",
   "metadata": {
    "id": "Tk7hnvT-v3tn"
   },
   "source": [
    "## Pertanyaan 2\n",
    "Uji hipotesis dengan asumsi bahwa coapplicantincome pasti tidak kurang dari 1000"
   ]
  },
  {
   "cell_type": "markdown",
   "metadata": {
    "id": "WTZTtfuixFHA"
   },
   "source": [
    "**Hypothesis:** <br>\n",
    " Null Hypothesis: μ <= 1000 <br>\n",
    " Alternative Hypothesis: μ > 1000"
   ]
  },
  {
   "cell_type": "code",
   "execution_count": 12,
   "metadata": {
    "colab": {
     "base_uri": "https://localhost:8080/"
    },
    "executionInfo": {
     "elapsed": 7,
     "status": "ok",
     "timestamp": 1661935577424,
     "user": {
      "displayName": "Oktafian Yusuf Prasetya",
      "userId": "05882715543122548803"
     },
     "user_tz": -420
    },
    "id": "UuF1KIvUvybG",
    "outputId": "bddba7fb-8076-447a-d9fc-c089f2f302d3"
   },
   "outputs": [
    {
     "name": "stdout",
     "output_type": "stream",
     "text": [
      "p-values : 1.9871354383283204e-07\n",
      "Menolak H0\n"
     ]
    }
   ],
   "source": [
    "# Statistics Test - t test\n",
    "tset, pval = ttest_1samp(df[\"CoapplicantIncome\"], 1000) \n",
    "print(\"p-values :\", pval)\n",
    "if pval < 0.05:    # nilai dari alpha adalah 0.05 atau 5%\n",
    "   print(\"Menolak H0\")\n",
    "else:\n",
    "  print(\"Menerima H0\")"
   ]
  },
  {
   "cell_type": "markdown",
   "metadata": {
    "id": "DKzYmYAzxtm1"
   },
   "source": [
    "Dari hasil diatas, dengan menolak H0 berarti asumsi coapplicantincome tidak kurang dari 1000 bernilai benar."
   ]
  },
  {
   "cell_type": "markdown",
   "metadata": {
    "id": "9lBPFT_cx_B2"
   },
   "source": [
    "## Pertanyaan 3\n",
    "Mencari rata-rata coapplicantincome berdasarkan loan_status"
   ]
  },
  {
   "cell_type": "code",
   "execution_count": 7,
   "metadata": {
    "colab": {
     "base_uri": "https://localhost:8080/"
    },
    "executionInfo": {
     "elapsed": 13,
     "status": "ok",
     "timestamp": 1661935567547,
     "user": {
      "displayName": "Oktafian Yusuf Prasetya",
      "userId": "05882715543122548803"
     },
     "user_tz": -420
    },
    "id": "qjD55r0nww3b",
    "outputId": "de36c779-fc45-4f9c-eef1-09593c803cba"
   },
   "outputs": [
    {
     "data": {
      "text/plain": [
       "Loan_Status\n",
       "N    1877.807292\n",
       "Y    1504.516398\n",
       "Name: CoapplicantIncome, dtype: float64"
      ]
     },
     "execution_count": 7,
     "metadata": {},
     "output_type": "execute_result"
    }
   ],
   "source": [
    "df.groupby('Loan_Status')['CoapplicantIncome'].mean()"
   ]
  },
  {
   "cell_type": "markdown",
   "metadata": {
    "id": "DPrDWlGWy1mv"
   },
   "source": [
    "## Pertanyaan 4\n",
    "Mencari kisaran coapplicantincome untuk Graduated"
   ]
  },
  {
   "cell_type": "code",
   "execution_count": 8,
   "metadata": {
    "colab": {
     "base_uri": "https://localhost:8080/"
    },
    "executionInfo": {
     "elapsed": 509,
     "status": "ok",
     "timestamp": 1661935568047,
     "user": {
      "displayName": "Oktafian Yusuf Prasetya",
      "userId": "05882715543122548803"
     },
     "user_tz": -420
    },
    "id": "yvetfvz9yg3Q",
    "outputId": "7c443b25-7683-45ff-f3c1-ecd87d646963"
   },
   "outputs": [
    {
     "name": "stdout",
     "output_type": "stream",
     "text": [
      "Rata-rata dari CoapplicantIncome dengan Education Graduate adalah 1717.4748333096666\n",
      "\n",
      "Standar deviation dari CoapplicantIncome dengan Education Graduate adalah 3230.9658502821926\n",
      "\n",
      "Ukuran dari sempel adalah 24.779023386727733\n",
      "Margin error dari CoapplicantIncome dengan Education Graduate adalah 255.56669315486607\n",
      "\n",
      "CI 95% dari CoapplicantIncome dengan Education Graduate antara 1461.9081401548005 dan 1973.0415264645326\n"
     ]
    }
   ],
   "source": [
    "# Mendapatkan mean CoapplicantIncome\n",
    "mean_inc = df[df['Education'] == 'Graduate'][\"CoapplicantIncome\"].mean()\n",
    "print ('Rata-rata dari CoapplicantIncome dengan Education Graduate adalah '+ str(mean_inc) + '\\n')\n",
    "\n",
    "# Mendapatkan Standar deviation CoapplicantIncome\n",
    "std_inc = df[df['Education'] == 'Graduate'][\"CoapplicantIncome\"].std()\n",
    "print ('Standar deviation dari CoapplicantIncome dengan Education Graduate adalah '+ str(std_inc) + '\\n')\n",
    "\n",
    "# Ukuran sample\n",
    "n = np.sqrt(len(df))\n",
    "print('Ukuran dari sempel adalah '+ str(n))\n",
    "\n",
    "# Margin error\n",
    "e_inc = 1.96 * (std_inc/n)\n",
    "print('Margin error dari CoapplicantIncome dengan Education Graduate adalah '+ str(e_inc) + '\\n')\n",
    "\n",
    "# Confidence Interval\n",
    "print('CI 95% dari CoapplicantIncome dengan Education Graduate antara ' + str(mean_inc - e_inc) + ' dan ' + str(mean_inc + e_inc))"
   ]
  },
  {
   "cell_type": "markdown",
   "metadata": {
    "id": "HNNR4FvN9N7I"
   },
   "source": [
    "## Pertanyaan 5\n",
    "Uji Hipotesis untuk pengaruh Education terhadap coapplicantincome"
   ]
  },
  {
   "cell_type": "code",
   "execution_count": 9,
   "metadata": {
    "colab": {
     "base_uri": "https://localhost:8080/",
     "height": 475
    },
    "executionInfo": {
     "elapsed": 479,
     "status": "ok",
     "timestamp": 1661935568519,
     "user": {
      "displayName": "Oktafian Yusuf Prasetya",
      "userId": "05882715543122548803"
     },
     "user_tz": -420
    },
    "id": "R8lu49eB1rLF",
    "outputId": "4a9245a1-a561-4d40-b00b-f379e4a68ee0"
   },
   "outputs": [
    {
     "data": {
      "text/plain": [
       "Text(0.5, 1.0, 'Persebaran CoapplicantIncome di masing-masing Education')"
      ]
     },
     "execution_count": 9,
     "metadata": {},
     "output_type": "execute_result"
    },
    {
     "data": {
      "image/png": "[encoded data removed]",
      "text/plain": [
       "<Figure size 720x504 with 1 Axes>"
      ]
     },
     "metadata": {
      "needs_background": "light"
     },
     "output_type": "display_data"
    }
   ],
   "source": [
    "# Memvisualisasikan persebaran data di kolom Education dengan CoapplicantIncome menggunakan boxplot\n",
    "plt.figure(figsize=(10,7))\n",
    "sns.boxplot(x = \"Education\", y = \"CoapplicantIncome\", data = df)\n",
    "plt.title(\"Persebaran CoapplicantIncome di masing-masing Education\")"
   ]
  },
  {
   "cell_type": "markdown",
   "metadata": {
    "id": "h5qr1lfE3c6I"
   },
   "source": [
    "Dari gambar diatas didapat bahwa berdasarkan CoapplicantIncome dengan tipe Education Graduate hampir sama dengan Education Not Graduate. Akan tetapi, CoapplicantIncome dengan tipe Education Graduate nilai maksimumnya lebih tinggi dari Not Graduate.\n",
    "<br>\n",
    "<br>\n",
    "Selanjutnya akan dibuktikan secara statistik apakah benar jika kedua tipe Education berbeda satu dengan lainnya."
   ]
  },
  {
   "cell_type": "markdown",
   "metadata": {
    "id": "i7_MrJx7-bAY"
   },
   "source": [
    "**Hipotesis CoapplicantIncome**<br>\n",
    "Hipotesis Null : $\\mu_1-\\mu_2=0$, CoapplicantIncome dengan Education Graduate sama dengan Not Graduate<br>\n",
    "Hipotesis Alternative : $\\mu_1 - \\mu_2 != 0$, CoapplicantIncome dengan Education Graduate tidak sama dengan Not Graduate<br>"
   ]
  },
  {
   "cell_type": "code",
   "execution_count": 10,
   "metadata": {
    "colab": {
     "base_uri": "https://localhost:8080/"
    },
    "executionInfo": {
     "elapsed": 20,
     "status": "ok",
     "timestamp": 1661935568520,
     "user": {
      "displayName": "Oktafian Yusuf Prasetya",
      "userId": "05882715543122548803"
     },
     "user_tz": -420
    },
    "id": "W843ydi2BA9H",
    "outputId": "cfe52314-0922-406b-ded2-4f19efb02d13"
   },
   "outputs": [
    {
     "data": {
      "text/plain": [
       "['Graduate', 'Not Graduate']"
      ]
     },
     "execution_count": 10,
     "metadata": {},
     "output_type": "execute_result"
    }
   ],
   "source": [
    "edu_cond = list(df['Education'].unique())\n",
    "edu_cond"
   ]
  },
  {
   "cell_type": "code",
   "execution_count": 11,
   "metadata": {
    "colab": {
     "base_uri": "https://localhost:8080/"
    },
    "executionInfo": {
     "elapsed": 19,
     "status": "ok",
     "timestamp": 1661935568521,
     "user": {
      "displayName": "Oktafian Yusuf Prasetya",
      "userId": "05882715543122548803"
     },
     "user_tz": -420
    },
    "id": "7BrF62xLy21x",
    "outputId": "824b3198-a1b8-4588-8ac9-c1bb8fd01d29"
   },
   "outputs": [
    {
     "name": "stdout",
     "output_type": "stream",
     "text": [
      "=======================================================================\n",
      "Hipotesis dari Graduate dan Not Graduate\n",
      "t=1.544, p=0.123\n",
      "Gagal Tolak H0, maka CoapplicantIncome dengan Education Graduate sama dengan Not Graduate.\n"
     ]
    }
   ],
   "source": [
    "# Mencari perbedaan CoapplicantIncome antara tiap item dalam Education\n",
    "list_data = range(len(edu_cond))\n",
    "alpha = 0.05\n",
    "\n",
    "for i in list_data:\n",
    "  for j in list_data[i+1:]:\n",
    "    type1 = df[df['Education'] == edu_cond[i]]['CoapplicantIncome']\n",
    "    type2 = df[df['Education'] == edu_cond[j]]['CoapplicantIncome']\n",
    "\n",
    "    stat, p = ttest_ind(type1, type2)\n",
    "    print('=======================================================================')\n",
    "    print('Hipotesis dari ' + str(edu_cond[i] + ' dan ' + str(edu_cond[j])))\n",
    "    print('t=%.3f, p=%.3f' % (stat, p))\n",
    "    \n",
    "    # interpret via p-value\n",
    "    if p < alpha:\n",
    "      print('Tolak H0, maka CoapplicantIncome dengan Education {} tidak sama dengan {}.'.format(edu_cond[i], edu_cond[j]))\n",
    "    else:\n",
    "\t    print('Gagal Tolak H0, maka CoapplicantIncome dengan Education {} sama dengan {}.'.format(edu_cond[i], edu_cond[j]))"
   ]
  },
  {
   "cell_type": "code",
   "execution_count": 11,
   "metadata": {
    "executionInfo": {
     "elapsed": 16,
     "status": "ok",
     "timestamp": 1661935568521,
     "user": {
      "displayName": "Oktafian Yusuf Prasetya",
      "userId": "05882715543122548803"
     },
     "user_tz": -420
    },
    "id": "CyDzZ2qE2r20"
   },
   "outputs": [],
   "source": []
  }
 ],
 "metadata": {
  "colab": {
   "collapsed_sections": [],
   "name": "V2 Referensi Jawaban Breakoutrrom Meet 6.ipynb",
   "provenance": []
  },
  "kernelspec": {
   "display_name": "Python 3 (ipykernel)",
   "language": "python",
   "name": "python3"
  },
  "language_info": {
   "codemirror_mode": {
    "name": "ipython",
    "version": 3
   },
   "file_extension": ".py",
   "mimetype": "text/x-python",
   "name": "python",
   "nbconvert_exporter": "python",
   "pygments_lexer": "ipython3",
   "version": "3.9.12"
  }
 },
 "nbformat": 4,
 "nbformat_minor": 1
}
